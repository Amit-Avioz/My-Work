{
  "cells": [
    {
      "cell_type": "markdown",
      "id": "34e83bcc-1fe7-4762-8165-e61be73d520f",
      "metadata": {
        "id": "34e83bcc-1fe7-4762-8165-e61be73d520f"
      },
      "source": [
        "Home Work 4\n",
        "* Amit Avioz - 315023648\n",
        "* Shahar Adar - 207031311"
      ]
    },
    {
      "cell_type": "markdown",
      "id": "e88b4eb3-8091-4af5-8ea5-9861e1e556f6",
      "metadata": {
        "tags": [],
        "id": "e88b4eb3-8091-4af5-8ea5-9861e1e556f6"
      },
      "source": [
        "# Dataset and stuff"
      ]
    },
    {
      "cell_type": "code",
      "execution_count": null,
      "id": "47fb916a-d6de-4081-bc74-718ab50109be",
      "metadata": {
        "id": "47fb916a-d6de-4081-bc74-718ab50109be"
      },
      "outputs": [],
      "source": [
        "#Import required libraries\n",
        "import pandas as pd\n",
        "import numpy as np\n",
        "import matplotlib.pyplot as plt\n",
        "import seaborn as sns\n",
        "import warnings\n",
        "warnings.filterwarnings('ignore')"
      ]
    },
    {
      "cell_type": "markdown",
      "id": "70cf1a9f-0414-4520-8f54-c8ab5dd7ff39",
      "metadata": {
        "id": "70cf1a9f-0414-4520-8f54-c8ab5dd7ff39"
      },
      "source": [
        "## Preprocessing"
      ]
    },
    {
      "cell_type": "code",
      "execution_count": null,
      "id": "2e83f782-8760-45d3-bb79-f95f0a4c5ece",
      "metadata": {
        "id": "2e83f782-8760-45d3-bb79-f95f0a4c5ece"
      },
      "outputs": [],
      "source": [
        "from sklearn.preprocessing import LabelEncoder\n",
        "from sklearn.impute import SimpleImputer\n",
        "from sklearn.preprocessing import StandardScaler\n",
        "from sklearn.model_selection import train_test_split\n",
        "\n",
        "def preprocess_data(df, is_train=True):\n",
        "    processed_df = df.copy()\n",
        "\n",
        "    if is_train:\n",
        "        processed_df = processed_df[processed_df[\"SalePrice\"] < 350000]\n",
        "        processed_df = processed_df[processed_df[\"SalePrice\"] < 350000]\n",
        "        processed_df = processed_df[processed_df[\"GarageArea\"]  <= 1000 ]\n",
        "        processed_df = processed_df[processed_df[\"TotalBsmtSF\"]  <= 3000 ]\n",
        "        processed_df = processed_df[processed_df[\"GrLivArea\"]  <= 3000 ]\n",
        "        processed_df = processed_df[processed_df[\"LotArea\"]  <= 50000 ]\n",
        "\n",
        "    # Apply preprocessing steps\n",
        "    processed_df = processed_df.drop(['PoolQC', 'MiscFeature', 'Alley', 'Fence', 'FireplaceQu', 'LotFrontage', 'Id'], axis=1)\n",
        "    processed_df[\"GarageVolume\"] = processed_df[\"GarageCars\"] * processed_df[\"GarageArea\"]\n",
        "    processed_df[\"GarageAreaRatio\"] = processed_df[\"GarageArea\"] / processed_df[\"GrLivArea\"]\n",
        "    processed_df.replace({\"ExterQual\": {\"Ex\": 4, \"Gd\": 3, \"TA\": 2, \"Fa\": 1}}, inplace=True)\n",
        "    processed_df[\"OverallQual\"] = processed_df[\"OverallQual\"] / processed_df[\"OverallQual\"].max()\n",
        "    processed_df[\"ExterQual\"] = (processed_df[\"ExterQual\"] - processed_df[\"ExterQual\"].min()) / (processed_df[\"ExterQual\"].max() - processed_df[\"ExterQual\"].min())\n",
        "    processed_df[\"TotalQuall\"] = (processed_df[\"OverallQual\"] + processed_df[\"ExterQual\"]) / 2\n",
        "    processed_df.replace({\"HeatingQC\": {\"Ex\": 4, \"Gd\": 3, \"TA\": 2, \"Fa\": 1, \"Po\" : 0}}, inplace=True)\n",
        "    processed_df.replace({\"GarageQual\": {\"Ex\": 4, \"Gd\": 3, \"TA\": 2, \"Fa\": 1, \"Po\" : 0}}, inplace=True)\n",
        "    processed_df.replace({\"KitchenQual\": {\"Ex\": 4, \"Gd\": 3, \"TA\": 2, \"Fa\": 1}}, inplace=True)\n",
        "    processed_df.replace({\"CentralAir\": {\"Y\" : 1, \"N\" : 0}}, inplace=True)\n",
        "\n",
        "    categorical_cols = processed_df.select_dtypes(include=['object']).columns\n",
        "    label_encoder = LabelEncoder()\n",
        "    processed_df[categorical_cols] = processed_df[categorical_cols].apply(label_encoder.fit_transform)\n",
        "\n",
        "    numeric_cols = processed_df.select_dtypes(include=['float64', 'int64']).columns\n",
        "    imputer = SimpleImputer(strategy='median')\n",
        "    processed_df[numeric_cols] = imputer.fit_transform(processed_df[numeric_cols])\n",
        "\n",
        "    return processed_df"
      ]
    },
    {
      "cell_type": "code",
      "execution_count": null,
      "id": "3376e89d-1d20-4ef3-a6a8-d4d8f1f8d662",
      "metadata": {
        "id": "3376e89d-1d20-4ef3-a6a8-d4d8f1f8d662"
      },
      "outputs": [],
      "source": [
        "data = pd.read_csv('train.csv')\n",
        "processed_train = preprocess_data(data, is_train = True)\n",
        "label = 'SalePrice'"
      ]
    },
    {
      "cell_type": "code",
      "execution_count": null,
      "id": "d8cb9f04-b97b-4a8a-911f-40b35be3ea03",
      "metadata": {
        "id": "d8cb9f04-b97b-4a8a-911f-40b35be3ea03",
        "outputId": "308fbd00-26d5-4e3f-c281-3edcf811bb5a"
      },
      "outputs": [
        {
          "name": "stdout",
          "output_type": "stream",
          "text": [
            "<class 'pandas.core.frame.DataFrame'>\n",
            "Int64Index: 1381 entries, 0 to 1459\n",
            "Data columns (total 77 columns):\n",
            " #   Column           Non-Null Count  Dtype  \n",
            "---  ------           --------------  -----  \n",
            " 0   MSSubClass       1381 non-null   float64\n",
            " 1   MSZoning         1381 non-null   int32  \n",
            " 2   LotArea          1381 non-null   float64\n",
            " 3   Street           1381 non-null   int32  \n",
            " 4   LotShape         1381 non-null   int32  \n",
            " 5   LandContour      1381 non-null   int32  \n",
            " 6   Utilities        1381 non-null   int32  \n",
            " 7   LotConfig        1381 non-null   int32  \n",
            " 8   LandSlope        1381 non-null   int32  \n",
            " 9   Neighborhood     1381 non-null   int32  \n",
            " 10  Condition1       1381 non-null   int32  \n",
            " 11  Condition2       1381 non-null   int32  \n",
            " 12  BldgType         1381 non-null   int32  \n",
            " 13  HouseStyle       1381 non-null   int32  \n",
            " 14  OverallQual      1381 non-null   float64\n",
            " 15  OverallCond      1381 non-null   float64\n",
            " 16  YearBuilt        1381 non-null   float64\n",
            " 17  YearRemodAdd     1381 non-null   float64\n",
            " 18  RoofStyle        1381 non-null   int32  \n",
            " 19  RoofMatl         1381 non-null   int32  \n",
            " 20  Exterior1st      1381 non-null   int32  \n",
            " 21  Exterior2nd      1381 non-null   int32  \n",
            " 22  MasVnrType       1381 non-null   int32  \n",
            " 23  MasVnrArea       1381 non-null   float64\n",
            " 24  ExterQual        1381 non-null   float64\n",
            " 25  ExterCond        1381 non-null   int32  \n",
            " 26  Foundation       1381 non-null   int32  \n",
            " 27  BsmtQual         1381 non-null   int32  \n",
            " 28  BsmtCond         1381 non-null   int32  \n",
            " 29  BsmtExposure     1381 non-null   int32  \n",
            " 30  BsmtFinType1     1381 non-null   int32  \n",
            " 31  BsmtFinSF1       1381 non-null   float64\n",
            " 32  BsmtFinType2     1381 non-null   int32  \n",
            " 33  BsmtFinSF2       1381 non-null   float64\n",
            " 34  BsmtUnfSF        1381 non-null   float64\n",
            " 35  TotalBsmtSF      1381 non-null   float64\n",
            " 36  Heating          1381 non-null   int32  \n",
            " 37  HeatingQC        1381 non-null   float64\n",
            " 38  CentralAir       1381 non-null   float64\n",
            " 39  Electrical       1381 non-null   int32  \n",
            " 40  1stFlrSF         1381 non-null   float64\n",
            " 41  2ndFlrSF         1381 non-null   float64\n",
            " 42  LowQualFinSF     1381 non-null   float64\n",
            " 43  GrLivArea        1381 non-null   float64\n",
            " 44  BsmtFullBath     1381 non-null   float64\n",
            " 45  BsmtHalfBath     1381 non-null   float64\n",
            " 46  FullBath         1381 non-null   float64\n",
            " 47  HalfBath         1381 non-null   float64\n",
            " 48  BedroomAbvGr     1381 non-null   float64\n",
            " 49  KitchenAbvGr     1381 non-null   float64\n",
            " 50  KitchenQual      1381 non-null   float64\n",
            " 51  TotRmsAbvGrd     1381 non-null   float64\n",
            " 52  Functional       1381 non-null   int32  \n",
            " 53  Fireplaces       1381 non-null   float64\n",
            " 54  GarageType       1381 non-null   int32  \n",
            " 55  GarageYrBlt      1381 non-null   float64\n",
            " 56  GarageFinish     1381 non-null   int32  \n",
            " 57  GarageCars       1381 non-null   float64\n",
            " 58  GarageArea       1381 non-null   float64\n",
            " 59  GarageQual       1381 non-null   float64\n",
            " 60  GarageCond       1381 non-null   int32  \n",
            " 61  PavedDrive       1381 non-null   int32  \n",
            " 62  WoodDeckSF       1381 non-null   float64\n",
            " 63  OpenPorchSF      1381 non-null   float64\n",
            " 64  EnclosedPorch    1381 non-null   float64\n",
            " 65  3SsnPorch        1381 non-null   float64\n",
            " 66  ScreenPorch      1381 non-null   float64\n",
            " 67  PoolArea         1381 non-null   float64\n",
            " 68  MiscVal          1381 non-null   float64\n",
            " 69  MoSold           1381 non-null   float64\n",
            " 70  YrSold           1381 non-null   float64\n",
            " 71  SaleType         1381 non-null   int32  \n",
            " 72  SaleCondition    1381 non-null   int32  \n",
            " 73  SalePrice        1381 non-null   float64\n",
            " 74  GarageVolume     1381 non-null   float64\n",
            " 75  GarageAreaRatio  1381 non-null   float64\n",
            " 76  TotalQuall       1381 non-null   float64\n",
            "dtypes: float64(44), int32(33)\n",
            "memory usage: 663.5 KB\n"
          ]
        }
      ],
      "source": [
        "processed_train.info()"
      ]
    },
    {
      "cell_type": "code",
      "execution_count": null,
      "id": "0f072a78-e334-488f-b1cf-569f1d13681c",
      "metadata": {
        "id": "0f072a78-e334-488f-b1cf-569f1d13681c",
        "outputId": "5217e56b-bfb9-4a70-857d-e6b9b9d0153e"
      },
      "outputs": [
        {
          "data": {
            "text/html": [
              "<div>\n",
              "<style scoped>\n",
              "    .dataframe tbody tr th:only-of-type {\n",
              "        vertical-align: middle;\n",
              "    }\n",
              "\n",
              "    .dataframe tbody tr th {\n",
              "        vertical-align: top;\n",
              "    }\n",
              "\n",
              "    .dataframe thead th {\n",
              "        text-align: right;\n",
              "    }\n",
              "</style>\n",
              "<table border=\"1\" class=\"dataframe\">\n",
              "  <thead>\n",
              "    <tr style=\"text-align: right;\">\n",
              "      <th></th>\n",
              "      <th>MSSubClass</th>\n",
              "      <th>MSZoning</th>\n",
              "      <th>LotArea</th>\n",
              "      <th>Street</th>\n",
              "      <th>LotShape</th>\n",
              "      <th>LandContour</th>\n",
              "      <th>Utilities</th>\n",
              "      <th>LotConfig</th>\n",
              "      <th>LandSlope</th>\n",
              "      <th>Neighborhood</th>\n",
              "      <th>...</th>\n",
              "      <th>PoolArea</th>\n",
              "      <th>MiscVal</th>\n",
              "      <th>MoSold</th>\n",
              "      <th>YrSold</th>\n",
              "      <th>SaleType</th>\n",
              "      <th>SaleCondition</th>\n",
              "      <th>SalePrice</th>\n",
              "      <th>GarageVolume</th>\n",
              "      <th>GarageAreaRatio</th>\n",
              "      <th>TotalQuall</th>\n",
              "    </tr>\n",
              "  </thead>\n",
              "  <tbody>\n",
              "    <tr>\n",
              "      <th>0</th>\n",
              "      <td>60.0</td>\n",
              "      <td>3</td>\n",
              "      <td>8450.0</td>\n",
              "      <td>1</td>\n",
              "      <td>3</td>\n",
              "      <td>3</td>\n",
              "      <td>0</td>\n",
              "      <td>4</td>\n",
              "      <td>0</td>\n",
              "      <td>5</td>\n",
              "      <td>...</td>\n",
              "      <td>0.0</td>\n",
              "      <td>0.0</td>\n",
              "      <td>2.0</td>\n",
              "      <td>2008.0</td>\n",
              "      <td>8</td>\n",
              "      <td>4</td>\n",
              "      <td>208500.0</td>\n",
              "      <td>1096.0</td>\n",
              "      <td>0.320468</td>\n",
              "      <td>0.683333</td>\n",
              "    </tr>\n",
              "    <tr>\n",
              "      <th>1</th>\n",
              "      <td>20.0</td>\n",
              "      <td>3</td>\n",
              "      <td>9600.0</td>\n",
              "      <td>1</td>\n",
              "      <td>3</td>\n",
              "      <td>3</td>\n",
              "      <td>0</td>\n",
              "      <td>2</td>\n",
              "      <td>0</td>\n",
              "      <td>24</td>\n",
              "      <td>...</td>\n",
              "      <td>0.0</td>\n",
              "      <td>0.0</td>\n",
              "      <td>5.0</td>\n",
              "      <td>2007.0</td>\n",
              "      <td>8</td>\n",
              "      <td>4</td>\n",
              "      <td>181500.0</td>\n",
              "      <td>920.0</td>\n",
              "      <td>0.364501</td>\n",
              "      <td>0.466667</td>\n",
              "    </tr>\n",
              "    <tr>\n",
              "      <th>2</th>\n",
              "      <td>60.0</td>\n",
              "      <td>3</td>\n",
              "      <td>11250.0</td>\n",
              "      <td>1</td>\n",
              "      <td>0</td>\n",
              "      <td>3</td>\n",
              "      <td>0</td>\n",
              "      <td>4</td>\n",
              "      <td>0</td>\n",
              "      <td>5</td>\n",
              "      <td>...</td>\n",
              "      <td>0.0</td>\n",
              "      <td>0.0</td>\n",
              "      <td>9.0</td>\n",
              "      <td>2008.0</td>\n",
              "      <td>8</td>\n",
              "      <td>4</td>\n",
              "      <td>223500.0</td>\n",
              "      <td>1216.0</td>\n",
              "      <td>0.340426</td>\n",
              "      <td>0.683333</td>\n",
              "    </tr>\n",
              "    <tr>\n",
              "      <th>3</th>\n",
              "      <td>70.0</td>\n",
              "      <td>3</td>\n",
              "      <td>9550.0</td>\n",
              "      <td>1</td>\n",
              "      <td>0</td>\n",
              "      <td>3</td>\n",
              "      <td>0</td>\n",
              "      <td>0</td>\n",
              "      <td>0</td>\n",
              "      <td>6</td>\n",
              "      <td>...</td>\n",
              "      <td>0.0</td>\n",
              "      <td>0.0</td>\n",
              "      <td>2.0</td>\n",
              "      <td>2006.0</td>\n",
              "      <td>8</td>\n",
              "      <td>0</td>\n",
              "      <td>140000.0</td>\n",
              "      <td>1926.0</td>\n",
              "      <td>0.373908</td>\n",
              "      <td>0.516667</td>\n",
              "    </tr>\n",
              "    <tr>\n",
              "      <th>4</th>\n",
              "      <td>60.0</td>\n",
              "      <td>3</td>\n",
              "      <td>14260.0</td>\n",
              "      <td>1</td>\n",
              "      <td>0</td>\n",
              "      <td>3</td>\n",
              "      <td>0</td>\n",
              "      <td>2</td>\n",
              "      <td>0</td>\n",
              "      <td>15</td>\n",
              "      <td>...</td>\n",
              "      <td>0.0</td>\n",
              "      <td>0.0</td>\n",
              "      <td>12.0</td>\n",
              "      <td>2008.0</td>\n",
              "      <td>8</td>\n",
              "      <td>4</td>\n",
              "      <td>250000.0</td>\n",
              "      <td>2508.0</td>\n",
              "      <td>0.380346</td>\n",
              "      <td>0.733333</td>\n",
              "    </tr>\n",
              "  </tbody>\n",
              "</table>\n",
              "<p>5 rows × 77 columns</p>\n",
              "</div>"
            ],
            "text/plain": [
              "   MSSubClass  MSZoning  LotArea  Street  LotShape  LandContour  Utilities  \\\n",
              "0        60.0         3   8450.0       1         3            3          0   \n",
              "1        20.0         3   9600.0       1         3            3          0   \n",
              "2        60.0         3  11250.0       1         0            3          0   \n",
              "3        70.0         3   9550.0       1         0            3          0   \n",
              "4        60.0         3  14260.0       1         0            3          0   \n",
              "\n",
              "   LotConfig  LandSlope  Neighborhood  ...  PoolArea  MiscVal  MoSold  YrSold  \\\n",
              "0          4          0             5  ...       0.0      0.0     2.0  2008.0   \n",
              "1          2          0            24  ...       0.0      0.0     5.0  2007.0   \n",
              "2          4          0             5  ...       0.0      0.0     9.0  2008.0   \n",
              "3          0          0             6  ...       0.0      0.0     2.0  2006.0   \n",
              "4          2          0            15  ...       0.0      0.0    12.0  2008.0   \n",
              "\n",
              "   SaleType  SaleCondition  SalePrice  GarageVolume  GarageAreaRatio  \\\n",
              "0         8              4   208500.0        1096.0         0.320468   \n",
              "1         8              4   181500.0         920.0         0.364501   \n",
              "2         8              4   223500.0        1216.0         0.340426   \n",
              "3         8              0   140000.0        1926.0         0.373908   \n",
              "4         8              4   250000.0        2508.0         0.380346   \n",
              "\n",
              "   TotalQuall  \n",
              "0    0.683333  \n",
              "1    0.466667  \n",
              "2    0.683333  \n",
              "3    0.516667  \n",
              "4    0.733333  \n",
              "\n",
              "[5 rows x 77 columns]"
            ]
          },
          "execution_count": 5,
          "metadata": {},
          "output_type": "execute_result"
        }
      ],
      "source": [
        "processed_train.head()"
      ]
    },
    {
      "cell_type": "markdown",
      "id": "6a4c0976-cf73-4c25-9a6d-c156649fa9ff",
      "metadata": {
        "id": "6a4c0976-cf73-4c25-9a6d-c156649fa9ff"
      },
      "source": [
        "## New data"
      ]
    },
    {
      "cell_type": "code",
      "execution_count": null,
      "id": "a2059b37-b54d-40a7-b180-18fb8558fd32",
      "metadata": {
        "id": "a2059b37-b54d-40a7-b180-18fb8558fd32"
      },
      "outputs": [],
      "source": [
        "new_data = pd.read_csv(\"test.csv\")\n",
        "processed_new_data = preprocess_data(new_data, is_train = False)"
      ]
    },
    {
      "cell_type": "markdown",
      "id": "e036e7a1-3b2f-42b0-8b57-0ebb73732636",
      "metadata": {
        "tags": [],
        "id": "e036e7a1-3b2f-42b0-8b57-0ebb73732636"
      },
      "source": [
        "# Adding column for classification question"
      ]
    },
    {
      "cell_type": "code",
      "execution_count": null,
      "id": "84e9a959-c7f7-4587-b522-4fc9bcb64c6a",
      "metadata": {
        "id": "84e9a959-c7f7-4587-b522-4fc9bcb64c6a"
      },
      "outputs": [],
      "source": [
        "#Later, in question 11, we'll need a column that classifies\n",
        "#every row - if the sale price is bigger than 250,000 or less.\n",
        "#We are doing this now, because it will affect\n",
        "#all of the data, both train and test.\n",
        "#Thus, it should be right here, on the start\n",
        "\n",
        "processed_train['Class'] = np.where(processed_train['SalePrice'] > 250000, 1, 0)"
      ]
    },
    {
      "cell_type": "markdown",
      "id": "ee6147d3-e633-4ba6-aec9-19c24aef5c14",
      "metadata": {
        "id": "ee6147d3-e633-4ba6-aec9-19c24aef5c14"
      },
      "source": [
        "# Organizing the data for later"
      ]
    },
    {
      "cell_type": "markdown",
      "id": "d5aebffd-ec8a-4233-a648-d1f2959ae7d3",
      "metadata": {
        "id": "d5aebffd-ec8a-4233-a648-d1f2959ae7d3"
      },
      "source": [
        "Get relevant columns (all but 2 - class and SalePrice)"
      ]
    },
    {
      "cell_type": "code",
      "execution_count": null,
      "id": "56d92f97-6aa1-40a9-8fb9-1b18344bb54a",
      "metadata": {
        "id": "56d92f97-6aa1-40a9-8fb9-1b18344bb54a"
      },
      "outputs": [],
      "source": [
        "#Our predictions column (SalePrice) isn't the last columns,\n",
        "#so we can't take all columns but the last one [:-1]\n",
        "#Therefore, we will build a list with all the coulmns.\n",
        "#If we have reached the SalePrice or the Class (Q11) columns, skip it\n",
        "\n",
        "skip = ['SalePrice', 'Class']\n",
        "cols = [c for c in processed_train.columns if c not in skip]"
      ]
    },
    {
      "cell_type": "markdown",
      "id": "094a44a4-b4c3-4b32-a5c3-d93df3e36b1a",
      "metadata": {
        "id": "094a44a4-b4c3-4b32-a5c3-d93df3e36b1a"
      },
      "source": [
        "Before splitting the data for train and test,\n",
        "save all of it in 2 designated variables"
      ]
    },
    {
      "cell_type": "code",
      "execution_count": null,
      "id": "eb875815-f41a-4dc7-9ba3-3eb02e67cc1b",
      "metadata": {
        "id": "eb875815-f41a-4dc7-9ba3-3eb02e67cc1b"
      },
      "outputs": [],
      "source": [
        "X = processed_train[cols] #All training data\n",
        "y = processed_train[['SalePrice', 'Class']] #gather both problematic columns"
      ]
    },
    {
      "cell_type": "code",
      "execution_count": null,
      "id": "797833ea-8bd9-40bf-a308-31e8c15b417c",
      "metadata": {
        "id": "797833ea-8bd9-40bf-a308-31e8c15b417c"
      },
      "outputs": [],
      "source": [
        "#100% of the traget data\n",
        "y_reg = y.SalePrice\n",
        "y_clf = y.Class"
      ]
    },
    {
      "cell_type": "markdown",
      "id": "782b3d99-fa0c-4f5f-9fc0-3c95c2696c55",
      "metadata": {
        "id": "782b3d99-fa0c-4f5f-9fc0-3c95c2696c55"
      },
      "source": [
        "We are going to perform CV, so we will scale 100% of the data"
      ]
    },
    {
      "cell_type": "code",
      "execution_count": null,
      "id": "f5b78786-403b-4e22-aeba-e85a5008e5cc",
      "metadata": {
        "id": "f5b78786-403b-4e22-aeba-e85a5008e5cc"
      },
      "outputs": [],
      "source": [
        "from sklearn.preprocessing import MinMaxScaler\n",
        "scaler = MinMaxScaler()\n",
        "X_scaled = scaler.fit_transform(X)"
      ]
    },
    {
      "cell_type": "code",
      "execution_count": null,
      "id": "5044c6de-1e32-47eb-a7ed-69a064f6cf4b",
      "metadata": {
        "id": "5044c6de-1e32-47eb-a7ed-69a064f6cf4b"
      },
      "outputs": [],
      "source": [
        "#Split the dataset for training and testing\n",
        "from sklearn.model_selection import train_test_split, GridSearchCV\n",
        "train, test = train_test_split(processed_train,test_size=0.2,random_state=42)"
      ]
    },
    {
      "cell_type": "code",
      "execution_count": null,
      "id": "d785adba-1da2-4858-b39e-c8388f7a8261",
      "metadata": {
        "id": "d785adba-1da2-4858-b39e-c8388f7a8261"
      },
      "outputs": [],
      "source": [
        "# Prepare feature and target tables\n",
        "X_train = train[cols] # taking the training data features\n",
        "y_train_reg = train.SalePrice # target of our regression training data\n",
        "y_train_clf = train.Class # target of our classification training data\n",
        "\n",
        "X_test = test[cols] # taking test data features\n",
        "y_test_reg = test.SalePrice # target of our regression test data\n",
        "y_test_clf = test.Class # target value of classification test data"
      ]
    },
    {
      "cell_type": "markdown",
      "id": "e9458047-4dda-4be9-9291-56c69800b5ec",
      "metadata": {
        "tags": [],
        "id": "e9458047-4dda-4be9-9291-56c69800b5ec"
      },
      "source": [
        "# Q1 -> 4"
      ]
    },
    {
      "cell_type": "markdown",
      "id": "1f4c218b-e30c-484a-8c83-403bb7de50b2",
      "metadata": {
        "id": "1f4c218b-e30c-484a-8c83-403bb7de50b2"
      },
      "source": [
        "## Q1"
      ]
    },
    {
      "cell_type": "markdown",
      "id": "b126b7ec-3258-4c9c-b43e-4330326778d7",
      "metadata": {
        "id": "b126b7ec-3258-4c9c-b43e-4330326778d7"
      },
      "source": [
        "We'll choose linear regression model."
      ]
    },
    {
      "cell_type": "markdown",
      "id": "bb32a407-379e-4b57-85ee-d4230aab28de",
      "metadata": {
        "id": "bb32a407-379e-4b57-85ee-d4230aab28de"
      },
      "source": [
        "## Q2"
      ]
    },
    {
      "cell_type": "markdown",
      "id": "9a273419-ce61-449c-b00f-7a0e5058ecdf",
      "metadata": {
        "tags": [],
        "id": "9a273419-ce61-449c-b00f-7a0e5058ecdf"
      },
      "source": [
        "**We'll choose to work with the MAPE metric - **\n",
        "\n",
        "We are predicting hosue prices, all of them around price of 250,000$\n",
        "So chose the MAPE metric, so it would be more relevant to present the error percentage of house prices in percentages, rather then numeric error (mse, mae etc.)"
      ]
    },
    {
      "cell_type": "markdown",
      "id": "6269698a-178d-4a63-85f5-7d3693648876",
      "metadata": {
        "id": "6269698a-178d-4a63-85f5-7d3693648876"
      },
      "source": [
        "## Q3"
      ]
    },
    {
      "cell_type": "code",
      "execution_count": null,
      "id": "d4143a6e-c9a4-4997-900a-470bfdf6efd7",
      "metadata": {
        "id": "d4143a6e-c9a4-4997-900a-470bfdf6efd7"
      },
      "outputs": [],
      "source": [
        "# Import another required libraries\n",
        "from sklearn.metrics import mean_squared_error, r2_score, mean_absolute_error, mean_absolute_percentage_error\n",
        "#There is no RMSE function in sklearn, so we wiil import sqrt and apply it\n",
        "from math import sqrt"
      ]
    },
    {
      "cell_type": "code",
      "execution_count": null,
      "id": "277689a2-65c3-46ee-bc41-c7a7c7903fc8",
      "metadata": {
        "id": "277689a2-65c3-46ee-bc41-c7a7c7903fc8"
      },
      "outputs": [],
      "source": [
        "# Define linear Regression model\n",
        "from sklearn import linear_model"
      ]
    },
    {
      "cell_type": "code",
      "execution_count": null,
      "id": "0c8d76f0-1016-425a-a88e-63bc92cb1501",
      "metadata": {
        "id": "0c8d76f0-1016-425a-a88e-63bc92cb1501"
      },
      "outputs": [],
      "source": [
        "#Define the parameter grid\n",
        "param_grid = {\n",
        "    'fit_intercept': [True, False],\n",
        "    'copy_X': [True, False],\n",
        "    'n_jobs': [1, -1],\n",
        "    'positive': [True, False]\n",
        "}"
      ]
    },
    {
      "cell_type": "code",
      "execution_count": null,
      "id": "e8af7f87-bc35-4918-8c9a-d00381f7310c",
      "metadata": {
        "id": "e8af7f87-bc35-4918-8c9a-d00381f7310c",
        "outputId": "f06b64f7-7331-4644-a341-56fc17db8bc9"
      },
      "outputs": [
        {
          "data": {
            "text/html": [
              "<style>#sk-container-id-1 {color: black;background-color: white;}#sk-container-id-1 pre{padding: 0;}#sk-container-id-1 div.sk-toggleable {background-color: white;}#sk-container-id-1 label.sk-toggleable__label {cursor: pointer;display: block;width: 100%;margin-bottom: 0;padding: 0.3em;box-sizing: border-box;text-align: center;}#sk-container-id-1 label.sk-toggleable__label-arrow:before {content: \"▸\";float: left;margin-right: 0.25em;color: #696969;}#sk-container-id-1 label.sk-toggleable__label-arrow:hover:before {color: black;}#sk-container-id-1 div.sk-estimator:hover label.sk-toggleable__label-arrow:before {color: black;}#sk-container-id-1 div.sk-toggleable__content {max-height: 0;max-width: 0;overflow: hidden;text-align: left;background-color: #f0f8ff;}#sk-container-id-1 div.sk-toggleable__content pre {margin: 0.2em;color: black;border-radius: 0.25em;background-color: #f0f8ff;}#sk-container-id-1 input.sk-toggleable__control:checked~div.sk-toggleable__content {max-height: 200px;max-width: 100%;overflow: auto;}#sk-container-id-1 input.sk-toggleable__control:checked~label.sk-toggleable__label-arrow:before {content: \"▾\";}#sk-container-id-1 div.sk-estimator input.sk-toggleable__control:checked~label.sk-toggleable__label {background-color: #d4ebff;}#sk-container-id-1 div.sk-label input.sk-toggleable__control:checked~label.sk-toggleable__label {background-color: #d4ebff;}#sk-container-id-1 input.sk-hidden--visually {border: 0;clip: rect(1px 1px 1px 1px);clip: rect(1px, 1px, 1px, 1px);height: 1px;margin: -1px;overflow: hidden;padding: 0;position: absolute;width: 1px;}#sk-container-id-1 div.sk-estimator {font-family: monospace;background-color: #f0f8ff;border: 1px dotted black;border-radius: 0.25em;box-sizing: border-box;margin-bottom: 0.5em;}#sk-container-id-1 div.sk-estimator:hover {background-color: #d4ebff;}#sk-container-id-1 div.sk-parallel-item::after {content: \"\";width: 100%;border-bottom: 1px solid gray;flex-grow: 1;}#sk-container-id-1 div.sk-label:hover label.sk-toggleable__label {background-color: #d4ebff;}#sk-container-id-1 div.sk-serial::before {content: \"\";position: absolute;border-left: 1px solid gray;box-sizing: border-box;top: 0;bottom: 0;left: 50%;z-index: 0;}#sk-container-id-1 div.sk-serial {display: flex;flex-direction: column;align-items: center;background-color: white;padding-right: 0.2em;padding-left: 0.2em;position: relative;}#sk-container-id-1 div.sk-item {position: relative;z-index: 1;}#sk-container-id-1 div.sk-parallel {display: flex;align-items: stretch;justify-content: center;background-color: white;position: relative;}#sk-container-id-1 div.sk-item::before, #sk-container-id-1 div.sk-parallel-item::before {content: \"\";position: absolute;border-left: 1px solid gray;box-sizing: border-box;top: 0;bottom: 0;left: 50%;z-index: -1;}#sk-container-id-1 div.sk-parallel-item {display: flex;flex-direction: column;z-index: 1;position: relative;background-color: white;}#sk-container-id-1 div.sk-parallel-item:first-child::after {align-self: flex-end;width: 50%;}#sk-container-id-1 div.sk-parallel-item:last-child::after {align-self: flex-start;width: 50%;}#sk-container-id-1 div.sk-parallel-item:only-child::after {width: 0;}#sk-container-id-1 div.sk-dashed-wrapped {border: 1px dashed gray;margin: 0 0.4em 0.5em 0.4em;box-sizing: border-box;padding-bottom: 0.4em;background-color: white;}#sk-container-id-1 div.sk-label label {font-family: monospace;font-weight: bold;display: inline-block;line-height: 1.2em;}#sk-container-id-1 div.sk-label-container {text-align: center;}#sk-container-id-1 div.sk-container {/* jupyter's `normalize.less` sets `[hidden] { display: none; }` but bootstrap.min.css set `[hidden] { display: none !important; }` so we also need the `!important` here to be able to override the default hidden behavior on the sphinx rendered scikit-learn.org. See: https://github.com/scikit-learn/scikit-learn/issues/21755 */display: inline-block !important;position: relative;}#sk-container-id-1 div.sk-text-repr-fallback {display: none;}</style><div id=\"sk-container-id-1\" class=\"sk-top-container\"><div class=\"sk-text-repr-fallback\"><pre>GridSearchCV(cv=5, estimator=LinearRegression(),\n",
              "             param_grid={&#x27;copy_X&#x27;: [True, False],\n",
              "                         &#x27;fit_intercept&#x27;: [True, False], &#x27;n_jobs&#x27;: [1, -1],\n",
              "                         &#x27;positive&#x27;: [True, False]},\n",
              "             scoring=&#x27;neg_mean_squared_error&#x27;)</pre><b>In a Jupyter environment, please rerun this cell to show the HTML representation or trust the notebook. <br />On GitHub, the HTML representation is unable to render, please try loading this page with nbviewer.org.</b></div><div class=\"sk-container\" hidden><div class=\"sk-item sk-dashed-wrapped\"><div class=\"sk-label-container\"><div class=\"sk-label sk-toggleable\"><input class=\"sk-toggleable__control sk-hidden--visually\" id=\"sk-estimator-id-1\" type=\"checkbox\" ><label for=\"sk-estimator-id-1\" class=\"sk-toggleable__label sk-toggleable__label-arrow\">GridSearchCV</label><div class=\"sk-toggleable__content\"><pre>GridSearchCV(cv=5, estimator=LinearRegression(),\n",
              "             param_grid={&#x27;copy_X&#x27;: [True, False],\n",
              "                         &#x27;fit_intercept&#x27;: [True, False], &#x27;n_jobs&#x27;: [1, -1],\n",
              "                         &#x27;positive&#x27;: [True, False]},\n",
              "             scoring=&#x27;neg_mean_squared_error&#x27;)</pre></div></div></div><div class=\"sk-parallel\"><div class=\"sk-parallel-item\"><div class=\"sk-item\"><div class=\"sk-label-container\"><div class=\"sk-label sk-toggleable\"><input class=\"sk-toggleable__control sk-hidden--visually\" id=\"sk-estimator-id-2\" type=\"checkbox\" ><label for=\"sk-estimator-id-2\" class=\"sk-toggleable__label sk-toggleable__label-arrow\">estimator: LinearRegression</label><div class=\"sk-toggleable__content\"><pre>LinearRegression()</pre></div></div></div><div class=\"sk-serial\"><div class=\"sk-item\"><div class=\"sk-estimator sk-toggleable\"><input class=\"sk-toggleable__control sk-hidden--visually\" id=\"sk-estimator-id-3\" type=\"checkbox\" ><label for=\"sk-estimator-id-3\" class=\"sk-toggleable__label sk-toggleable__label-arrow\">LinearRegression</label><div class=\"sk-toggleable__content\"><pre>LinearRegression()</pre></div></div></div></div></div></div></div></div></div></div>"
            ],
            "text/plain": [
              "GridSearchCV(cv=5, estimator=LinearRegression(),\n",
              "             param_grid={'copy_X': [True, False],\n",
              "                         'fit_intercept': [True, False], 'n_jobs': [1, -1],\n",
              "                         'positive': [True, False]},\n",
              "             scoring='neg_mean_squared_error')"
            ]
          },
          "execution_count": 17,
          "metadata": {},
          "output_type": "execute_result"
        }
      ],
      "source": [
        "from sklearn.model_selection import GridSearchCV\n",
        "#Create an instance of GridSearchCV\n",
        "grid_search = GridSearchCV(estimator=linear_model.LinearRegression(), param_grid=param_grid, scoring='neg_mean_squared_error', cv=5)\n",
        "\n",
        "#Fit the GridSearchCV object on your training data\n",
        "grid_search.fit(X_scaled, y_reg)"
      ]
    },
    {
      "cell_type": "code",
      "execution_count": null,
      "id": "b2a8f0ba-1917-49e8-b89f-bbe71d2e6c97",
      "metadata": {
        "id": "b2a8f0ba-1917-49e8-b89f-bbe71d2e6c97",
        "outputId": "d58b84a7-7e7e-46a8-b919-36b7c7693cdf"
      },
      "outputs": [
        {
          "name": "stdout",
          "output_type": "stream",
          "text": [
            "Best parameters: {'copy_X': True, 'fit_intercept': True, 'n_jobs': 1, 'positive': True}\n",
            "\n"
          ]
        }
      ],
      "source": [
        "linear_reg_best_model = grid_search.best_estimator_\n",
        "print(f'Best parameters: {grid_search.best_params_}\\n')"
      ]
    },
    {
      "cell_type": "code",
      "execution_count": null,
      "id": "0a011ad5-27ee-4bb7-9823-622afda78a5f",
      "metadata": {
        "id": "0a011ad5-27ee-4bb7-9823-622afda78a5f",
        "outputId": "6f91014c-6dda-4bd7-c4eb-c317fd4afea6"
      },
      "outputs": [
        {
          "name": "stdout",
          "output_type": "stream",
          "text": [
            "Coefficients: \n",
            " [    0.             0.         59272.72535215 26926.62841104\n",
            "     0.             0.             0.             0.\n",
            " 12471.97557912     0.          5965.64580863   930.63996891\n",
            "     0.             0.         87943.90535054 37757.996782\n",
            " 39087.83578522  2717.95514088  4814.50803385     0.\n",
            "     0.             0.         15776.75264358 23357.91458593\n",
            " 30036.36254205   789.54927223 10237.24924255     0.\n",
            "   542.72931463     0.          1567.30846506 57854.38621786\n",
            "  4081.83419858 36307.43016169 28866.19578334     0.\n",
            "  7299.68289278  9258.35098237     0.             0.\n",
            " 56442.12169259 37254.05364426     0.         49568.80168958\n",
            "  8369.59841654     0.             0.             0.\n",
            "     0.             0.         21459.50991821     0.\n",
            " 19641.55557226 17332.01158627  1987.57541212     0.\n",
            "     0.             0.             0.          7666.06907737\n",
            "  2235.90276329  1437.82106745 11980.76882509 13290.74113818\n",
            "  5320.19871445  4054.33807251 14985.6871321  18821.07909618\n",
            "     0.           523.17869237     0.             0.\n",
            " 14324.40655806 43488.7982541      0.             0.        ]\n"
          ]
        }
      ],
      "source": [
        "# Checking the coefficients\n",
        "print(\"Coefficients: \\n\", linear_reg_best_model.coef_)"
      ]
    },
    {
      "cell_type": "markdown",
      "id": "3f27dae5-afc8-4dd3-95fa-28f2c4708c25",
      "metadata": {
        "id": "3f27dae5-afc8-4dd3-95fa-28f2c4708c25"
      },
      "source": [
        "## Q4"
      ]
    },
    {
      "cell_type": "code",
      "execution_count": null,
      "id": "a8b6e01c-5ae1-46be-920b-8f856099e0b7",
      "metadata": {
        "id": "a8b6e01c-5ae1-46be-920b-8f856099e0b7"
      },
      "outputs": [],
      "source": [
        "#Split the dataset for training and testing\n",
        "from sklearn.model_selection import train_test_split, GridSearchCV\n",
        "train, test = train_test_split(processed_train,test_size=0.2,random_state=42)"
      ]
    },
    {
      "cell_type": "code",
      "execution_count": null,
      "id": "f75fba35-e55c-4110-a4f2-657728b1be78",
      "metadata": {
        "id": "f75fba35-e55c-4110-a4f2-657728b1be78"
      },
      "outputs": [],
      "source": [
        "# Scale dataset to have ALL features on same scale between [0-1]\n",
        "X_train_scaled = pd.DataFrame(data=scaler.fit_transform(X_train),columns=X_train.columns)\n",
        "X_test_scaled = pd.DataFrame(data=scaler.transform(X_test),columns=X_train.columns)"
      ]
    },
    {
      "cell_type": "code",
      "execution_count": null,
      "id": "a8277b4c-2c7c-48e7-ae1e-8a4d14c9d409",
      "metadata": {
        "id": "a8277b4c-2c7c-48e7-ae1e-8a4d14c9d409"
      },
      "outputs": [],
      "source": [
        "best_params_reg = grid_search.best_params_"
      ]
    },
    {
      "cell_type": "code",
      "execution_count": null,
      "id": "48d252c6-b5e7-4611-942e-b4c4e3aebfb6",
      "metadata": {
        "id": "48d252c6-b5e7-4611-942e-b4c4e3aebfb6"
      },
      "outputs": [],
      "source": [
        "best_linear_reg = linear_model.LinearRegression(**best_params_reg)"
      ]
    },
    {
      "cell_type": "code",
      "execution_count": null,
      "id": "c1722601-34e3-4b21-af5b-56afde34474f",
      "metadata": {
        "id": "c1722601-34e3-4b21-af5b-56afde34474f",
        "outputId": "625cb884-a80d-4865-f7d1-c17d38035336"
      },
      "outputs": [
        {
          "data": {
            "text/html": [
              "<style>#sk-container-id-2 {color: black;background-color: white;}#sk-container-id-2 pre{padding: 0;}#sk-container-id-2 div.sk-toggleable {background-color: white;}#sk-container-id-2 label.sk-toggleable__label {cursor: pointer;display: block;width: 100%;margin-bottom: 0;padding: 0.3em;box-sizing: border-box;text-align: center;}#sk-container-id-2 label.sk-toggleable__label-arrow:before {content: \"▸\";float: left;margin-right: 0.25em;color: #696969;}#sk-container-id-2 label.sk-toggleable__label-arrow:hover:before {color: black;}#sk-container-id-2 div.sk-estimator:hover label.sk-toggleable__label-arrow:before {color: black;}#sk-container-id-2 div.sk-toggleable__content {max-height: 0;max-width: 0;overflow: hidden;text-align: left;background-color: #f0f8ff;}#sk-container-id-2 div.sk-toggleable__content pre {margin: 0.2em;color: black;border-radius: 0.25em;background-color: #f0f8ff;}#sk-container-id-2 input.sk-toggleable__control:checked~div.sk-toggleable__content {max-height: 200px;max-width: 100%;overflow: auto;}#sk-container-id-2 input.sk-toggleable__control:checked~label.sk-toggleable__label-arrow:before {content: \"▾\";}#sk-container-id-2 div.sk-estimator input.sk-toggleable__control:checked~label.sk-toggleable__label {background-color: #d4ebff;}#sk-container-id-2 div.sk-label input.sk-toggleable__control:checked~label.sk-toggleable__label {background-color: #d4ebff;}#sk-container-id-2 input.sk-hidden--visually {border: 0;clip: rect(1px 1px 1px 1px);clip: rect(1px, 1px, 1px, 1px);height: 1px;margin: -1px;overflow: hidden;padding: 0;position: absolute;width: 1px;}#sk-container-id-2 div.sk-estimator {font-family: monospace;background-color: #f0f8ff;border: 1px dotted black;border-radius: 0.25em;box-sizing: border-box;margin-bottom: 0.5em;}#sk-container-id-2 div.sk-estimator:hover {background-color: #d4ebff;}#sk-container-id-2 div.sk-parallel-item::after {content: \"\";width: 100%;border-bottom: 1px solid gray;flex-grow: 1;}#sk-container-id-2 div.sk-label:hover label.sk-toggleable__label {background-color: #d4ebff;}#sk-container-id-2 div.sk-serial::before {content: \"\";position: absolute;border-left: 1px solid gray;box-sizing: border-box;top: 0;bottom: 0;left: 50%;z-index: 0;}#sk-container-id-2 div.sk-serial {display: flex;flex-direction: column;align-items: center;background-color: white;padding-right: 0.2em;padding-left: 0.2em;position: relative;}#sk-container-id-2 div.sk-item {position: relative;z-index: 1;}#sk-container-id-2 div.sk-parallel {display: flex;align-items: stretch;justify-content: center;background-color: white;position: relative;}#sk-container-id-2 div.sk-item::before, #sk-container-id-2 div.sk-parallel-item::before {content: \"\";position: absolute;border-left: 1px solid gray;box-sizing: border-box;top: 0;bottom: 0;left: 50%;z-index: -1;}#sk-container-id-2 div.sk-parallel-item {display: flex;flex-direction: column;z-index: 1;position: relative;background-color: white;}#sk-container-id-2 div.sk-parallel-item:first-child::after {align-self: flex-end;width: 50%;}#sk-container-id-2 div.sk-parallel-item:last-child::after {align-self: flex-start;width: 50%;}#sk-container-id-2 div.sk-parallel-item:only-child::after {width: 0;}#sk-container-id-2 div.sk-dashed-wrapped {border: 1px dashed gray;margin: 0 0.4em 0.5em 0.4em;box-sizing: border-box;padding-bottom: 0.4em;background-color: white;}#sk-container-id-2 div.sk-label label {font-family: monospace;font-weight: bold;display: inline-block;line-height: 1.2em;}#sk-container-id-2 div.sk-label-container {text-align: center;}#sk-container-id-2 div.sk-container {/* jupyter's `normalize.less` sets `[hidden] { display: none; }` but bootstrap.min.css set `[hidden] { display: none !important; }` so we also need the `!important` here to be able to override the default hidden behavior on the sphinx rendered scikit-learn.org. See: https://github.com/scikit-learn/scikit-learn/issues/21755 */display: inline-block !important;position: relative;}#sk-container-id-2 div.sk-text-repr-fallback {display: none;}</style><div id=\"sk-container-id-2\" class=\"sk-top-container\"><div class=\"sk-text-repr-fallback\"><pre>LinearRegression(n_jobs=1, positive=True)</pre><b>In a Jupyter environment, please rerun this cell to show the HTML representation or trust the notebook. <br />On GitHub, the HTML representation is unable to render, please try loading this page with nbviewer.org.</b></div><div class=\"sk-container\" hidden><div class=\"sk-item\"><div class=\"sk-estimator sk-toggleable\"><input class=\"sk-toggleable__control sk-hidden--visually\" id=\"sk-estimator-id-4\" type=\"checkbox\" checked><label for=\"sk-estimator-id-4\" class=\"sk-toggleable__label sk-toggleable__label-arrow\">LinearRegression</label><div class=\"sk-toggleable__content\"><pre>LinearRegression(n_jobs=1, positive=True)</pre></div></div></div></div></div>"
            ],
            "text/plain": [
              "LinearRegression(n_jobs=1, positive=True)"
            ]
          },
          "execution_count": 24,
          "metadata": {},
          "output_type": "execute_result"
        }
      ],
      "source": [
        "best_linear_reg.fit(X_train_scaled, y_train_reg)"
      ]
    },
    {
      "cell_type": "code",
      "execution_count": null,
      "id": "967cf8cd-70db-4169-a481-b8d7b5129f42",
      "metadata": {
        "id": "967cf8cd-70db-4169-a481-b8d7b5129f42",
        "outputId": "a558743c-4bf7-4333-d388-622f26d12c45"
      },
      "outputs": [
        {
          "name": "stdout",
          "output_type": "stream",
          "text": [
            "Column: MSSubClass \t\t\tCoefficient: 0.0\n",
            "Column: MSZoning \t\t\tCoefficient: 0.0\n",
            "Column: LotArea \t\t\tCoefficient: 58664.28555729932\n",
            "Column: Street \t\t\tCoefficient: 26721.122909669568\n",
            "Column: LotShape \t\t\tCoefficient: 0.0\n",
            "Column: LandContour \t\t\tCoefficient: 0.0\n",
            "Column: Utilities \t\t\tCoefficient: 0.0\n",
            "Column: LotConfig \t\t\tCoefficient: 0.0\n",
            "Column: LandSlope \t\t\tCoefficient: 14571.555641322255\n",
            "Column: Neighborhood \t\t\tCoefficient: 32.31624754992931\n",
            "Column: Condition1 \t\t\tCoefficient: 7417.767323679807\n",
            "Column: Condition2 \t\t\tCoefficient: 0.0\n",
            "Column: BldgType \t\t\tCoefficient: 0.0\n",
            "Column: HouseStyle \t\t\tCoefficient: 0.0\n",
            "Column: OverallQual \t\t\tCoefficient: 89311.7113103982\n",
            "Column: OverallCond \t\t\tCoefficient: 42215.66668613824\n",
            "Column: YearBuilt \t\t\tCoefficient: 40418.796158766636\n",
            "Column: YearRemodAdd \t\t\tCoefficient: 370.3544045298251\n",
            "Column: RoofStyle \t\t\tCoefficient: 3890.231822194359\n",
            "Column: RoofMatl \t\t\tCoefficient: 0.0\n",
            "Column: Exterior1st \t\t\tCoefficient: 0.0\n",
            "Column: Exterior2nd \t\t\tCoefficient: 0.0\n",
            "Column: MasVnrType \t\t\tCoefficient: 17445.307484588815\n",
            "Column: MasVnrArea \t\t\tCoefficient: 22335.853940660272\n",
            "Column: ExterQual \t\t\tCoefficient: 30433.09657631534\n",
            "Column: ExterCond \t\t\tCoefficient: 1937.7797909439332\n",
            "Column: Foundation \t\t\tCoefficient: 12616.537356061572\n",
            "Column: BsmtQual \t\t\tCoefficient: 0.0\n",
            "Column: BsmtCond \t\t\tCoefficient: 1736.2862284171258\n",
            "Column: BsmtExposure \t\t\tCoefficient: 0.0\n",
            "Column: BsmtFinType1 \t\t\tCoefficient: 1628.6994711012878\n",
            "Column: BsmtFinSF1 \t\t\tCoefficient: 29366.012485455747\n",
            "Column: BsmtFinType2 \t\t\tCoefficient: 3142.979979857473\n",
            "Column: BsmtFinSF2 \t\t\tCoefficient: 8303.526159323215\n",
            "Column: BsmtUnfSF \t\t\tCoefficient: 0.0\n",
            "Column: TotalBsmtSF \t\t\tCoefficient: 39710.99958162805\n",
            "Column: Heating \t\t\tCoefficient: 11399.769947126806\n",
            "Column: HeatingQC \t\t\tCoefficient: 7041.947037060711\n",
            "Column: CentralAir \t\t\tCoefficient: 277.9416789689198\n",
            "Column: Electrical \t\t\tCoefficient: 0.0\n",
            "Column: 1stFlrSF \t\t\tCoefficient: 82413.92232771039\n",
            "Column: 2ndFlrSF \t\t\tCoefficient: 56710.747259086966\n",
            "Column: LowQualFinSF \t\t\tCoefficient: 4243.80344789119\n",
            "Column: GrLivArea \t\t\tCoefficient: 0.0\n",
            "Column: BsmtFullBath \t\t\tCoefficient: 11561.319200833423\n",
            "Column: BsmtHalfBath \t\t\tCoefficient: 0.0\n",
            "Column: FullBath \t\t\tCoefficient: 0.0\n",
            "Column: HalfBath \t\t\tCoefficient: 482.11844274638935\n",
            "Column: BedroomAbvGr \t\t\tCoefficient: 0.0\n",
            "Column: KitchenAbvGr \t\t\tCoefficient: 0.0\n",
            "Column: KitchenQual \t\t\tCoefficient: 24341.67038273349\n",
            "Column: TotRmsAbvGrd \t\t\tCoefficient: 0.0\n",
            "Column: Functional \t\t\tCoefficient: 16441.002897456372\n",
            "Column: Fireplaces \t\t\tCoefficient: 19089.89169117052\n",
            "Column: GarageType \t\t\tCoefficient: 1891.4873392464783\n",
            "Column: GarageYrBlt \t\t\tCoefficient: 0.0\n",
            "Column: GarageFinish \t\t\tCoefficient: 0.0\n",
            "Column: GarageCars \t\t\tCoefficient: 0.0\n",
            "Column: GarageArea \t\t\tCoefficient: 0.0\n",
            "Column: GarageQual \t\t\tCoefficient: 0.0\n",
            "Column: GarageCond \t\t\tCoefficient: 5872.071318671321\n",
            "Column: PavedDrive \t\t\tCoefficient: 1434.5672033921712\n",
            "Column: WoodDeckSF \t\t\tCoefficient: 13173.075423270831\n",
            "Column: OpenPorchSF \t\t\tCoefficient: 9093.093520747221\n",
            "Column: EnclosedPorch \t\t\tCoefficient: 4883.093498642763\n",
            "Column: 3SsnPorch \t\t\tCoefficient: 915.2834762303496\n",
            "Column: ScreenPorch \t\t\tCoefficient: 17524.384053584818\n",
            "Column: PoolArea \t\t\tCoefficient: 57438.380058224524\n",
            "Column: MiscVal \t\t\tCoefficient: 0.0\n",
            "Column: MoSold \t\t\tCoefficient: 17.535926592543213\n",
            "Column: YrSold \t\t\tCoefficient: 0.0\n",
            "Column: SaleType \t\t\tCoefficient: 0.0\n",
            "Column: SaleCondition \t\t\tCoefficient: 13713.160559789298\n",
            "Column: GarageVolume \t\t\tCoefficient: 42630.88745166187\n",
            "Column: GarageAreaRatio \t\t\tCoefficient: 0.0\n",
            "Column: TotalQuall \t\t\tCoefficient: 0.0\n"
          ]
        }
      ],
      "source": [
        "# Checking the coefficients one by one\n",
        "for i in range(len(X.columns)):\n",
        "    print(\"Column:\",X.columns[i],\"\\t\\t\\tCoefficient:\",best_linear_reg.coef_[i])"
      ]
    },
    {
      "cell_type": "code",
      "execution_count": null,
      "id": "6e0c555a-4b5c-487d-aae2-3f73ad0d8c52",
      "metadata": {
        "id": "6e0c555a-4b5c-487d-aae2-3f73ad0d8c52"
      },
      "outputs": [],
      "source": [
        "#Use the best model to make predictions on your test data\n",
        "y_pred = best_linear_reg.predict(X_test_scaled)"
      ]
    },
    {
      "cell_type": "code",
      "execution_count": null,
      "id": "94b487c9-afb8-4a1a-bc39-174406b337e3",
      "metadata": {
        "id": "94b487c9-afb8-4a1a-bc39-174406b337e3",
        "outputId": "62a27f73-8da0-4f1f-b003-c990fa74702c"
      },
      "outputs": [
        {
          "name": "stdout",
          "output_type": "stream",
          "text": [
            "Linear Regression:\n",
            "  Mean Squared Error: 391923202.39\n",
            "  Root Mean Squared Error: 19797.05\n",
            "  Mean Absolute Error: 14711.70\n",
            "  Mean Absolute Percetage Error: 0.10\n",
            "  R-squared Score: 0.88\n",
            "\n"
          ]
        }
      ],
      "source": [
        "#Calculate different metrics for the linear regression model\n",
        "mse_lr = mean_squared_error(y_test_reg, y_pred)\n",
        "rmse_lr = sqrt(mse_lr)\n",
        "mae_lr = mean_absolute_error(y_test_reg, y_pred)\n",
        "mape_lr = mean_absolute_percentage_error(y_test_reg, y_pred)\n",
        "r2_lr = r2_score(y_test_reg, y_pred)\n",
        "\n",
        "print(f'Linear Regression:')\n",
        "print(f'  Mean Squared Error: {mse_lr:.2f}')\n",
        "print(f'  Root Mean Squared Error: {rmse_lr:.2f}')\n",
        "print(f'  Mean Absolute Error: {mae_lr:.2f}')\n",
        "print(f'  Mean Absolute Percetage Error: {mape_lr:.2f}')\n",
        "print(f'  R-squared Score: {r2_lr:.2f}\\n')"
      ]
    },
    {
      "cell_type": "markdown",
      "id": "5d5d7bdd-0ec9-4d46-823e-a7f55193fcbd",
      "metadata": {
        "tags": [],
        "id": "5d5d7bdd-0ec9-4d46-823e-a7f55193fcbd"
      },
      "source": [
        "# Q5 -> 8"
      ]
    },
    {
      "cell_type": "markdown",
      "id": "3f62067c-2d3c-4696-a0ea-87c2c7452229",
      "metadata": {
        "id": "3f62067c-2d3c-4696-a0ea-87c2c7452229"
      },
      "source": [
        "## Q5"
      ]
    },
    {
      "cell_type": "markdown",
      "id": "08d64527-8bb5-4831-9ad9-0bdfbf5a8199",
      "metadata": {
        "id": "08d64527-8bb5-4831-9ad9-0bdfbf5a8199"
      },
      "source": [
        "We will choose XGBoost model because it is better than ADABoost"
      ]
    },
    {
      "cell_type": "code",
      "execution_count": null,
      "id": "da274705-2d65-47d8-a71e-1f397cbcffcd",
      "metadata": {
        "id": "da274705-2d65-47d8-a71e-1f397cbcffcd"
      },
      "outputs": [],
      "source": [
        "from xgboost import XGBRegressor"
      ]
    },
    {
      "cell_type": "markdown",
      "id": "dbbc381e-1a99-4766-b8a7-71c146925de7",
      "metadata": {
        "tags": [],
        "toc-hr-collapsed": true,
        "id": "dbbc381e-1a99-4766-b8a7-71c146925de7"
      },
      "source": [
        "## Q6"
      ]
    },
    {
      "cell_type": "code",
      "execution_count": null,
      "id": "83a6a3d4-fcd8-4476-b831-8c5b6a27135b",
      "metadata": {
        "id": "83a6a3d4-fcd8-4476-b831-8c5b6a27135b"
      },
      "outputs": [],
      "source": [
        "# Hyperparameter tuning for XGBRegressor\n",
        "params = {\n",
        "    'learning_rate': [0.01, 0.1],\n",
        "    'n_estimators': [100, 200],\n",
        "    'max_depth': [3, 5],\n",
        "    'subsample': [0.8],\n",
        "    'colsample_bytree': [0.8],\n",
        "    'min_child_weight': [1, 3]\n",
        "}"
      ]
    },
    {
      "cell_type": "code",
      "execution_count": null,
      "id": "54d84e03-9518-4288-abda-4a442a166ff0",
      "metadata": {
        "id": "54d84e03-9518-4288-abda-4a442a166ff0",
        "outputId": "c300d3b7-6728-45b0-a247-358dc477691e"
      },
      "outputs": [
        {
          "name": "stdout",
          "output_type": "stream",
          "text": [
            "Fitting 5 folds for each of 16 candidates, totalling 80 fits\n"
          ]
        },
        {
          "data": {
            "text/html": [
              "<style>#sk-container-id-3 {color: black;background-color: white;}#sk-container-id-3 pre{padding: 0;}#sk-container-id-3 div.sk-toggleable {background-color: white;}#sk-container-id-3 label.sk-toggleable__label {cursor: pointer;display: block;width: 100%;margin-bottom: 0;padding: 0.3em;box-sizing: border-box;text-align: center;}#sk-container-id-3 label.sk-toggleable__label-arrow:before {content: \"▸\";float: left;margin-right: 0.25em;color: #696969;}#sk-container-id-3 label.sk-toggleable__label-arrow:hover:before {color: black;}#sk-container-id-3 div.sk-estimator:hover label.sk-toggleable__label-arrow:before {color: black;}#sk-container-id-3 div.sk-toggleable__content {max-height: 0;max-width: 0;overflow: hidden;text-align: left;background-color: #f0f8ff;}#sk-container-id-3 div.sk-toggleable__content pre {margin: 0.2em;color: black;border-radius: 0.25em;background-color: #f0f8ff;}#sk-container-id-3 input.sk-toggleable__control:checked~div.sk-toggleable__content {max-height: 200px;max-width: 100%;overflow: auto;}#sk-container-id-3 input.sk-toggleable__control:checked~label.sk-toggleable__label-arrow:before {content: \"▾\";}#sk-container-id-3 div.sk-estimator input.sk-toggleable__control:checked~label.sk-toggleable__label {background-color: #d4ebff;}#sk-container-id-3 div.sk-label input.sk-toggleable__control:checked~label.sk-toggleable__label {background-color: #d4ebff;}#sk-container-id-3 input.sk-hidden--visually {border: 0;clip: rect(1px 1px 1px 1px);clip: rect(1px, 1px, 1px, 1px);height: 1px;margin: -1px;overflow: hidden;padding: 0;position: absolute;width: 1px;}#sk-container-id-3 div.sk-estimator {font-family: monospace;background-color: #f0f8ff;border: 1px dotted black;border-radius: 0.25em;box-sizing: border-box;margin-bottom: 0.5em;}#sk-container-id-3 div.sk-estimator:hover {background-color: #d4ebff;}#sk-container-id-3 div.sk-parallel-item::after {content: \"\";width: 100%;border-bottom: 1px solid gray;flex-grow: 1;}#sk-container-id-3 div.sk-label:hover label.sk-toggleable__label {background-color: #d4ebff;}#sk-container-id-3 div.sk-serial::before {content: \"\";position: absolute;border-left: 1px solid gray;box-sizing: border-box;top: 0;bottom: 0;left: 50%;z-index: 0;}#sk-container-id-3 div.sk-serial {display: flex;flex-direction: column;align-items: center;background-color: white;padding-right: 0.2em;padding-left: 0.2em;position: relative;}#sk-container-id-3 div.sk-item {position: relative;z-index: 1;}#sk-container-id-3 div.sk-parallel {display: flex;align-items: stretch;justify-content: center;background-color: white;position: relative;}#sk-container-id-3 div.sk-item::before, #sk-container-id-3 div.sk-parallel-item::before {content: \"\";position: absolute;border-left: 1px solid gray;box-sizing: border-box;top: 0;bottom: 0;left: 50%;z-index: -1;}#sk-container-id-3 div.sk-parallel-item {display: flex;flex-direction: column;z-index: 1;position: relative;background-color: white;}#sk-container-id-3 div.sk-parallel-item:first-child::after {align-self: flex-end;width: 50%;}#sk-container-id-3 div.sk-parallel-item:last-child::after {align-self: flex-start;width: 50%;}#sk-container-id-3 div.sk-parallel-item:only-child::after {width: 0;}#sk-container-id-3 div.sk-dashed-wrapped {border: 1px dashed gray;margin: 0 0.4em 0.5em 0.4em;box-sizing: border-box;padding-bottom: 0.4em;background-color: white;}#sk-container-id-3 div.sk-label label {font-family: monospace;font-weight: bold;display: inline-block;line-height: 1.2em;}#sk-container-id-3 div.sk-label-container {text-align: center;}#sk-container-id-3 div.sk-container {/* jupyter's `normalize.less` sets `[hidden] { display: none; }` but bootstrap.min.css set `[hidden] { display: none !important; }` so we also need the `!important` here to be able to override the default hidden behavior on the sphinx rendered scikit-learn.org. See: https://github.com/scikit-learn/scikit-learn/issues/21755 */display: inline-block !important;position: relative;}#sk-container-id-3 div.sk-text-repr-fallback {display: none;}</style><div id=\"sk-container-id-3\" class=\"sk-top-container\"><div class=\"sk-text-repr-fallback\"><pre>GridSearchCV(cv=5,\n",
              "             estimator=XGBRegressor(base_score=None, booster=None,\n",
              "                                    callbacks=None, colsample_bylevel=None,\n",
              "                                    colsample_bynode=None,\n",
              "                                    colsample_bytree=None,\n",
              "                                    early_stopping_rounds=None,\n",
              "                                    enable_categorical=False, eval_metric=None,\n",
              "                                    feature_types=None, gamma=None, gpu_id=None,\n",
              "                                    grow_policy=None, importance_type=None,\n",
              "                                    interaction_constraints=None,\n",
              "                                    learning_rate=None, m...\n",
              "                                    max_depth=None, max_leaves=None,\n",
              "                                    min_child_weight=None, missing=nan,\n",
              "                                    monotone_constraints=None, n_estimators=100,\n",
              "                                    n_jobs=None, num_parallel_tree=None,\n",
              "                                    predictor=None, random_state=42, ...),\n",
              "             param_grid={&#x27;colsample_bytree&#x27;: [0.8],\n",
              "                         &#x27;learning_rate&#x27;: [0.01, 0.1], &#x27;max_depth&#x27;: [3, 5],\n",
              "                         &#x27;min_child_weight&#x27;: [1, 3], &#x27;n_estimators&#x27;: [100, 200],\n",
              "                         &#x27;subsample&#x27;: [0.8]},\n",
              "             scoring=&#x27;r2&#x27;, verbose=1)</pre><b>In a Jupyter environment, please rerun this cell to show the HTML representation or trust the notebook. <br />On GitHub, the HTML representation is unable to render, please try loading this page with nbviewer.org.</b></div><div class=\"sk-container\" hidden><div class=\"sk-item sk-dashed-wrapped\"><div class=\"sk-label-container\"><div class=\"sk-label sk-toggleable\"><input class=\"sk-toggleable__control sk-hidden--visually\" id=\"sk-estimator-id-5\" type=\"checkbox\" ><label for=\"sk-estimator-id-5\" class=\"sk-toggleable__label sk-toggleable__label-arrow\">GridSearchCV</label><div class=\"sk-toggleable__content\"><pre>GridSearchCV(cv=5,\n",
              "             estimator=XGBRegressor(base_score=None, booster=None,\n",
              "                                    callbacks=None, colsample_bylevel=None,\n",
              "                                    colsample_bynode=None,\n",
              "                                    colsample_bytree=None,\n",
              "                                    early_stopping_rounds=None,\n",
              "                                    enable_categorical=False, eval_metric=None,\n",
              "                                    feature_types=None, gamma=None, gpu_id=None,\n",
              "                                    grow_policy=None, importance_type=None,\n",
              "                                    interaction_constraints=None,\n",
              "                                    learning_rate=None, m...\n",
              "                                    max_depth=None, max_leaves=None,\n",
              "                                    min_child_weight=None, missing=nan,\n",
              "                                    monotone_constraints=None, n_estimators=100,\n",
              "                                    n_jobs=None, num_parallel_tree=None,\n",
              "                                    predictor=None, random_state=42, ...),\n",
              "             param_grid={&#x27;colsample_bytree&#x27;: [0.8],\n",
              "                         &#x27;learning_rate&#x27;: [0.01, 0.1], &#x27;max_depth&#x27;: [3, 5],\n",
              "                         &#x27;min_child_weight&#x27;: [1, 3], &#x27;n_estimators&#x27;: [100, 200],\n",
              "                         &#x27;subsample&#x27;: [0.8]},\n",
              "             scoring=&#x27;r2&#x27;, verbose=1)</pre></div></div></div><div class=\"sk-parallel\"><div class=\"sk-parallel-item\"><div class=\"sk-item\"><div class=\"sk-label-container\"><div class=\"sk-label sk-toggleable\"><input class=\"sk-toggleable__control sk-hidden--visually\" id=\"sk-estimator-id-6\" type=\"checkbox\" ><label for=\"sk-estimator-id-6\" class=\"sk-toggleable__label sk-toggleable__label-arrow\">estimator: XGBRegressor</label><div class=\"sk-toggleable__content\"><pre>XGBRegressor(base_score=None, booster=None, callbacks=None,\n",
              "             colsample_bylevel=None, colsample_bynode=None,\n",
              "             colsample_bytree=None, early_stopping_rounds=None,\n",
              "             enable_categorical=False, eval_metric=None, feature_types=None,\n",
              "             gamma=None, gpu_id=None, grow_policy=None, importance_type=None,\n",
              "             interaction_constraints=None, learning_rate=None, max_bin=None,\n",
              "             max_cat_threshold=None, max_cat_to_onehot=None,\n",
              "             max_delta_step=None, max_depth=None, max_leaves=None,\n",
              "             min_child_weight=None, missing=nan, monotone_constraints=None,\n",
              "             n_estimators=100, n_jobs=None, num_parallel_tree=None,\n",
              "             predictor=None, random_state=42, ...)</pre></div></div></div><div class=\"sk-serial\"><div class=\"sk-item\"><div class=\"sk-estimator sk-toggleable\"><input class=\"sk-toggleable__control sk-hidden--visually\" id=\"sk-estimator-id-7\" type=\"checkbox\" ><label for=\"sk-estimator-id-7\" class=\"sk-toggleable__label sk-toggleable__label-arrow\">XGBRegressor</label><div class=\"sk-toggleable__content\"><pre>XGBRegressor(base_score=None, booster=None, callbacks=None,\n",
              "             colsample_bylevel=None, colsample_bynode=None,\n",
              "             colsample_bytree=None, early_stopping_rounds=None,\n",
              "             enable_categorical=False, eval_metric=None, feature_types=None,\n",
              "             gamma=None, gpu_id=None, grow_policy=None, importance_type=None,\n",
              "             interaction_constraints=None, learning_rate=None, max_bin=None,\n",
              "             max_cat_threshold=None, max_cat_to_onehot=None,\n",
              "             max_delta_step=None, max_depth=None, max_leaves=None,\n",
              "             min_child_weight=None, missing=nan, monotone_constraints=None,\n",
              "             n_estimators=100, n_jobs=None, num_parallel_tree=None,\n",
              "             predictor=None, random_state=42, ...)</pre></div></div></div></div></div></div></div></div></div></div>"
            ],
            "text/plain": [
              "GridSearchCV(cv=5,\n",
              "             estimator=XGBRegressor(base_score=None, booster=None,\n",
              "                                    callbacks=None, colsample_bylevel=None,\n",
              "                                    colsample_bynode=None,\n",
              "                                    colsample_bytree=None,\n",
              "                                    early_stopping_rounds=None,\n",
              "                                    enable_categorical=False, eval_metric=None,\n",
              "                                    feature_types=None, gamma=None, gpu_id=None,\n",
              "                                    grow_policy=None, importance_type=None,\n",
              "                                    interaction_constraints=None,\n",
              "                                    learning_rate=None, m...\n",
              "                                    max_depth=None, max_leaves=None,\n",
              "                                    min_child_weight=None, missing=nan,\n",
              "                                    monotone_constraints=None, n_estimators=100,\n",
              "                                    n_jobs=None, num_parallel_tree=None,\n",
              "                                    predictor=None, random_state=42, ...),\n",
              "             param_grid={'colsample_bytree': [0.8],\n",
              "                         'learning_rate': [0.01, 0.1], 'max_depth': [3, 5],\n",
              "                         'min_child_weight': [1, 3], 'n_estimators': [100, 200],\n",
              "                         'subsample': [0.8]},\n",
              "             scoring='r2', verbose=1)"
            ]
          },
          "execution_count": 30,
          "metadata": {},
          "output_type": "execute_result"
        }
      ],
      "source": [
        "grid = GridSearchCV(XGBRegressor(random_state=42), param_grid=params, scoring='r2', cv=5, verbose=1)\n",
        "grid.fit(X_scaled, y_reg) #We will use the scaled data"
      ]
    },
    {
      "cell_type": "code",
      "execution_count": null,
      "id": "41c8c27f-9492-465b-a42a-f79f1d379b88",
      "metadata": {
        "id": "41c8c27f-9492-465b-a42a-f79f1d379b88",
        "outputId": "ab56a571-7095-465e-f312-8e973c76ec7c"
      },
      "outputs": [
        {
          "name": "stdout",
          "output_type": "stream",
          "text": [
            "Best parameters: {'colsample_bytree': 0.8, 'learning_rate': 0.1, 'max_depth': 3, 'min_child_weight': 3, 'n_estimators': 200, 'subsample': 0.8}\n",
            "\n"
          ]
        }
      ],
      "source": [
        "XGB_best_model = grid.best_estimator_\n",
        "print(f'Best parameters: {grid.best_params_}\\n')"
      ]
    },
    {
      "cell_type": "code",
      "execution_count": null,
      "id": "e27eb2d7-3f87-41c3-8b53-7e5c4b0d59df",
      "metadata": {
        "id": "e27eb2d7-3f87-41c3-8b53-7e5c4b0d59df"
      },
      "outputs": [],
      "source": [
        "best_params = grid.best_params_"
      ]
    },
    {
      "cell_type": "code",
      "execution_count": null,
      "id": "2783c8a9-f256-4e5c-93fe-217cd83aae93",
      "metadata": {
        "id": "2783c8a9-f256-4e5c-93fe-217cd83aae93"
      },
      "outputs": [],
      "source": [
        "best_XGB = XGBRegressor(**best_params)"
      ]
    },
    {
      "cell_type": "code",
      "execution_count": null,
      "id": "2aa45b3e-5097-4abb-95ce-707dc6858872",
      "metadata": {
        "id": "2aa45b3e-5097-4abb-95ce-707dc6858872",
        "outputId": "7fa28dcc-dd6f-4a6e-b40b-aec605d10f13"
      },
      "outputs": [
        {
          "data": {
            "text/html": [
              "<style>#sk-container-id-4 {color: black;background-color: white;}#sk-container-id-4 pre{padding: 0;}#sk-container-id-4 div.sk-toggleable {background-color: white;}#sk-container-id-4 label.sk-toggleable__label {cursor: pointer;display: block;width: 100%;margin-bottom: 0;padding: 0.3em;box-sizing: border-box;text-align: center;}#sk-container-id-4 label.sk-toggleable__label-arrow:before {content: \"▸\";float: left;margin-right: 0.25em;color: #696969;}#sk-container-id-4 label.sk-toggleable__label-arrow:hover:before {color: black;}#sk-container-id-4 div.sk-estimator:hover label.sk-toggleable__label-arrow:before {color: black;}#sk-container-id-4 div.sk-toggleable__content {max-height: 0;max-width: 0;overflow: hidden;text-align: left;background-color: #f0f8ff;}#sk-container-id-4 div.sk-toggleable__content pre {margin: 0.2em;color: black;border-radius: 0.25em;background-color: #f0f8ff;}#sk-container-id-4 input.sk-toggleable__control:checked~div.sk-toggleable__content {max-height: 200px;max-width: 100%;overflow: auto;}#sk-container-id-4 input.sk-toggleable__control:checked~label.sk-toggleable__label-arrow:before {content: \"▾\";}#sk-container-id-4 div.sk-estimator input.sk-toggleable__control:checked~label.sk-toggleable__label {background-color: #d4ebff;}#sk-container-id-4 div.sk-label input.sk-toggleable__control:checked~label.sk-toggleable__label {background-color: #d4ebff;}#sk-container-id-4 input.sk-hidden--visually {border: 0;clip: rect(1px 1px 1px 1px);clip: rect(1px, 1px, 1px, 1px);height: 1px;margin: -1px;overflow: hidden;padding: 0;position: absolute;width: 1px;}#sk-container-id-4 div.sk-estimator {font-family: monospace;background-color: #f0f8ff;border: 1px dotted black;border-radius: 0.25em;box-sizing: border-box;margin-bottom: 0.5em;}#sk-container-id-4 div.sk-estimator:hover {background-color: #d4ebff;}#sk-container-id-4 div.sk-parallel-item::after {content: \"\";width: 100%;border-bottom: 1px solid gray;flex-grow: 1;}#sk-container-id-4 div.sk-label:hover label.sk-toggleable__label {background-color: #d4ebff;}#sk-container-id-4 div.sk-serial::before {content: \"\";position: absolute;border-left: 1px solid gray;box-sizing: border-box;top: 0;bottom: 0;left: 50%;z-index: 0;}#sk-container-id-4 div.sk-serial {display: flex;flex-direction: column;align-items: center;background-color: white;padding-right: 0.2em;padding-left: 0.2em;position: relative;}#sk-container-id-4 div.sk-item {position: relative;z-index: 1;}#sk-container-id-4 div.sk-parallel {display: flex;align-items: stretch;justify-content: center;background-color: white;position: relative;}#sk-container-id-4 div.sk-item::before, #sk-container-id-4 div.sk-parallel-item::before {content: \"\";position: absolute;border-left: 1px solid gray;box-sizing: border-box;top: 0;bottom: 0;left: 50%;z-index: -1;}#sk-container-id-4 div.sk-parallel-item {display: flex;flex-direction: column;z-index: 1;position: relative;background-color: white;}#sk-container-id-4 div.sk-parallel-item:first-child::after {align-self: flex-end;width: 50%;}#sk-container-id-4 div.sk-parallel-item:last-child::after {align-self: flex-start;width: 50%;}#sk-container-id-4 div.sk-parallel-item:only-child::after {width: 0;}#sk-container-id-4 div.sk-dashed-wrapped {border: 1px dashed gray;margin: 0 0.4em 0.5em 0.4em;box-sizing: border-box;padding-bottom: 0.4em;background-color: white;}#sk-container-id-4 div.sk-label label {font-family: monospace;font-weight: bold;display: inline-block;line-height: 1.2em;}#sk-container-id-4 div.sk-label-container {text-align: center;}#sk-container-id-4 div.sk-container {/* jupyter's `normalize.less` sets `[hidden] { display: none; }` but bootstrap.min.css set `[hidden] { display: none !important; }` so we also need the `!important` here to be able to override the default hidden behavior on the sphinx rendered scikit-learn.org. See: https://github.com/scikit-learn/scikit-learn/issues/21755 */display: inline-block !important;position: relative;}#sk-container-id-4 div.sk-text-repr-fallback {display: none;}</style><div id=\"sk-container-id-4\" class=\"sk-top-container\"><div class=\"sk-text-repr-fallback\"><pre>XGBRegressor(base_score=None, booster=None, callbacks=None,\n",
              "             colsample_bylevel=None, colsample_bynode=None,\n",
              "             colsample_bytree=0.8, early_stopping_rounds=None,\n",
              "             enable_categorical=False, eval_metric=None, feature_types=None,\n",
              "             gamma=None, gpu_id=None, grow_policy=None, importance_type=None,\n",
              "             interaction_constraints=None, learning_rate=0.1, max_bin=None,\n",
              "             max_cat_threshold=None, max_cat_to_onehot=None,\n",
              "             max_delta_step=None, max_depth=3, max_leaves=None,\n",
              "             min_child_weight=3, missing=nan, monotone_constraints=None,\n",
              "             n_estimators=200, n_jobs=None, num_parallel_tree=None,\n",
              "             predictor=None, random_state=None, ...)</pre><b>In a Jupyter environment, please rerun this cell to show the HTML representation or trust the notebook. <br />On GitHub, the HTML representation is unable to render, please try loading this page with nbviewer.org.</b></div><div class=\"sk-container\" hidden><div class=\"sk-item\"><div class=\"sk-estimator sk-toggleable\"><input class=\"sk-toggleable__control sk-hidden--visually\" id=\"sk-estimator-id-8\" type=\"checkbox\" checked><label for=\"sk-estimator-id-8\" class=\"sk-toggleable__label sk-toggleable__label-arrow\">XGBRegressor</label><div class=\"sk-toggleable__content\"><pre>XGBRegressor(base_score=None, booster=None, callbacks=None,\n",
              "             colsample_bylevel=None, colsample_bynode=None,\n",
              "             colsample_bytree=0.8, early_stopping_rounds=None,\n",
              "             enable_categorical=False, eval_metric=None, feature_types=None,\n",
              "             gamma=None, gpu_id=None, grow_policy=None, importance_type=None,\n",
              "             interaction_constraints=None, learning_rate=0.1, max_bin=None,\n",
              "             max_cat_threshold=None, max_cat_to_onehot=None,\n",
              "             max_delta_step=None, max_depth=3, max_leaves=None,\n",
              "             min_child_weight=3, missing=nan, monotone_constraints=None,\n",
              "             n_estimators=200, n_jobs=None, num_parallel_tree=None,\n",
              "             predictor=None, random_state=None, ...)</pre></div></div></div></div></div>"
            ],
            "text/plain": [
              "XGBRegressor(base_score=None, booster=None, callbacks=None,\n",
              "             colsample_bylevel=None, colsample_bynode=None,\n",
              "             colsample_bytree=0.8, early_stopping_rounds=None,\n",
              "             enable_categorical=False, eval_metric=None, feature_types=None,\n",
              "             gamma=None, gpu_id=None, grow_policy=None, importance_type=None,\n",
              "             interaction_constraints=None, learning_rate=0.1, max_bin=None,\n",
              "             max_cat_threshold=None, max_cat_to_onehot=None,\n",
              "             max_delta_step=None, max_depth=3, max_leaves=None,\n",
              "             min_child_weight=3, missing=nan, monotone_constraints=None,\n",
              "             n_estimators=200, n_jobs=None, num_parallel_tree=None,\n",
              "             predictor=None, random_state=None, ...)"
            ]
          },
          "execution_count": 34,
          "metadata": {},
          "output_type": "execute_result"
        }
      ],
      "source": [
        "best_XGB.fit(X_train_scaled, y_train_reg)"
      ]
    },
    {
      "cell_type": "code",
      "execution_count": null,
      "id": "e70d5438-5cb2-4aa5-bf56-03204a63435e",
      "metadata": {
        "id": "e70d5438-5cb2-4aa5-bf56-03204a63435e"
      },
      "outputs": [],
      "source": [
        "y_pred = best_XGB.predict(X_test_scaled)"
      ]
    },
    {
      "cell_type": "code",
      "execution_count": null,
      "id": "5d921c49-3757-4e2f-b82c-2ad6181a5054",
      "metadata": {
        "id": "5d921c49-3757-4e2f-b82c-2ad6181a5054",
        "outputId": "4b72b463-6433-4762-dc94-adaf1c65ca27"
      },
      "outputs": [
        {
          "name": "stdout",
          "output_type": "stream",
          "text": [
            "XGBRegressor:\n",
            "  Mean Squared Error: 301581240.54\n",
            "  Root Mean Squared Error: 17366.09\n",
            "  Mean Absolute Error: 12834.01\n",
            "  Mean Absolute Percetage Error: 0.08\n",
            "  R-squared Score: 0.91\n",
            "\n"
          ]
        }
      ],
      "source": [
        "# Evaluate the best model\n",
        "mse_xgb = mean_squared_error(y_test_reg, y_pred)\n",
        "rmse_xgb = sqrt(mse_xgb)\n",
        "mae_xgb = mean_absolute_error(y_test_reg, y_pred)\n",
        "mape_xgb = mean_absolute_percentage_error(y_test_reg, y_pred)\n",
        "r2_xgb = r2_score(y_test_reg, y_pred)\n",
        "\n",
        "print(f'XGBRegressor:')\n",
        "print(f'  Mean Squared Error: {mse_xgb:.2f}')\n",
        "print(f'  Root Mean Squared Error: {rmse_xgb:.2f}')\n",
        "print(f'  Mean Absolute Error: {mae_xgb:.2f}')\n",
        "print(f'  Mean Absolute Percetage Error: {mape_xgb:.2f}')\n",
        "print(f'  R-squared Score: {r2_xgb:.2f}\\n')"
      ]
    },
    {
      "cell_type": "markdown",
      "id": "1b768f21-7e4a-4705-ac3c-0529f6f775f5",
      "metadata": {
        "id": "1b768f21-7e4a-4705-ac3c-0529f6f775f5"
      },
      "source": [
        "## Q7"
      ]
    },
    {
      "cell_type": "markdown",
      "id": "996d35f0-fc2b-4713-aab0-8b148f277a7b",
      "metadata": {
        "id": "996d35f0-fc2b-4713-aab0-8b148f277a7b"
      },
      "source": [
        "## Q8 - Check overfitting"
      ]
    },
    {
      "cell_type": "code",
      "execution_count": null,
      "id": "d297372e-2dc5-4e46-9549-36cd263fb45a",
      "metadata": {
        "id": "d297372e-2dc5-4e46-9549-36cd263fb45a",
        "outputId": "b22c86d0-71a7-4066-909f-6a00656c57ef"
      },
      "outputs": [
        {
          "name": "stdout",
          "output_type": "stream",
          "text": [
            "XGBRegressor:\n",
            "  Mean Squared Error: 92875788.38\n",
            "  Root Mean Squared Error: 9637.21\n",
            "  Mean Absolute Error: 7156.80\n",
            "  Mean Absolute Percetage Error: 0.05\n",
            "  R-squared Score: 0.97\n",
            "\n"
          ]
        }
      ],
      "source": [
        "y_pred_train = best_XGB.predict(X_train_scaled)\n",
        "mse = mean_squared_error(y_train_reg, y_pred_train)\n",
        "rmse = sqrt(mse)\n",
        "mae = mean_absolute_error(y_train_reg, y_pred_train)\n",
        "mape = mean_absolute_percentage_error(y_train_reg, y_pred_train)\n",
        "r2 = r2_score(y_train_reg, y_pred_train)\n",
        "\n",
        "print(f'XGBRegressor:')\n",
        "print(f'  Mean Squared Error: {mse:.2f}')\n",
        "print(f'  Root Mean Squared Error: {rmse:.2f}')\n",
        "print(f'  Mean Absolute Error: {mae:.2f}')\n",
        "print(f'  Mean Absolute Percetage Error: {mape:.2f}')\n",
        "print(f'  R-squared Score: {r2:.2f}\\n')"
      ]
    },
    {
      "cell_type": "markdown",
      "id": "63142393-f628-4fee-82a1-716f9b03c691",
      "metadata": {
        "id": "63142393-f628-4fee-82a1-716f9b03c691"
      },
      "source": [
        "It seems we have a bit of overfitting, even after using grid search for finding the best params"
      ]
    },
    {
      "cell_type": "markdown",
      "id": "3d578d5e-c2ec-4600-ac08-cdffcd28d1c7",
      "metadata": {
        "tags": [],
        "id": "3d578d5e-c2ec-4600-ac08-cdffcd28d1c7"
      },
      "source": [
        "# Q9"
      ]
    },
    {
      "cell_type": "code",
      "execution_count": null,
      "id": "de95297b-7b07-45ff-8fa1-531fd2c841c9",
      "metadata": {
        "id": "de95297b-7b07-45ff-8fa1-531fd2c841c9",
        "outputId": "ef04cb80-6cc3-497c-ace9-bfc174f05a57"
      },
      "outputs": [
        {
          "name": "stdout",
          "output_type": "stream",
          "text": [
            "Linear Regression:\n",
            "  Mean Squared Error: 391923202.39\n",
            "  Root Mean Squared Error: 19797.05\n",
            "  Mean Absolute Error: 14711.70\n",
            "  Mean Absolute Percetage Error: 0.10\n",
            "  R-squared Score: 0.88\n",
            "\n",
            "XGBRegressor:\n",
            "  Mean Squared Error: 301581240.54\n",
            "  Root Mean Squared Error: 17366.09\n",
            "  Mean Absolute Error: 12834.01\n",
            "  Mean Absolute Percetage Error: 0.08\n",
            "  R-squared Score: 0.91\n",
            "\n"
          ]
        }
      ],
      "source": [
        "print(f'Linear Regression:')\n",
        "print(f'  Mean Squared Error: {mse_lr:.2f}')\n",
        "print(f'  Root Mean Squared Error: {rmse_lr:.2f}')\n",
        "print(f'  Mean Absolute Error: {mae_lr:.2f}')\n",
        "print(f'  Mean Absolute Percetage Error: {mape_lr:.2f}')\n",
        "print(f'  R-squared Score: {r2_lr:.2f}\\n')\n",
        "\n",
        "print(f'XGBRegressor:')\n",
        "print(f'  Mean Squared Error: {mse_xgb:.2f}')\n",
        "print(f'  Root Mean Squared Error: {rmse_xgb:.2f}')\n",
        "print(f'  Mean Absolute Error: {mae_xgb:.2f}')\n",
        "print(f'  Mean Absolute Percetage Error: {mape_xgb:.2f}')\n",
        "print(f'  R-squared Score: {r2_xgb:.2f}\\n')"
      ]
    },
    {
      "cell_type": "markdown",
      "id": "3cbfebe4-cb80-403d-bd67-fae14a9748a7",
      "metadata": {
        "id": "3cbfebe4-cb80-403d-bd67-fae14a9748a7"
      },
      "source": [
        "As we can see, the XGBoost model got a better MAPE score (0.08) than Linear regression model (0.10).\n",
        "We will choose the XGBoost model to make predictions on the test data"
      ]
    },
    {
      "cell_type": "markdown",
      "id": "05fdfa70-5e39-4199-b838-f789ce4e52c3",
      "metadata": {
        "tags": [],
        "id": "05fdfa70-5e39-4199-b838-f789ce4e52c3"
      },
      "source": [
        "# Q10"
      ]
    },
    {
      "cell_type": "code",
      "execution_count": null,
      "id": "d5f3d488-a56c-4c90-9120-b057381132d6",
      "metadata": {
        "id": "d5f3d488-a56c-4c90-9120-b057381132d6",
        "outputId": "376c32d4-5655-49ee-d343-c8b61d3c94e1"
      },
      "outputs": [
        {
          "name": "stdout",
          "output_type": "stream",
          "text": [
            "<class 'pandas.core.frame.DataFrame'>\n",
            "RangeIndex: 1459 entries, 0 to 1458\n",
            "Data columns (total 76 columns):\n",
            " #   Column           Non-Null Count  Dtype  \n",
            "---  ------           --------------  -----  \n",
            " 0   MSSubClass       1459 non-null   float64\n",
            " 1   MSZoning         1459 non-null   int32  \n",
            " 2   LotArea          1459 non-null   float64\n",
            " 3   Street           1459 non-null   int32  \n",
            " 4   LotShape         1459 non-null   int32  \n",
            " 5   LandContour      1459 non-null   int32  \n",
            " 6   Utilities        1459 non-null   int32  \n",
            " 7   LotConfig        1459 non-null   int32  \n",
            " 8   LandSlope        1459 non-null   int32  \n",
            " 9   Neighborhood     1459 non-null   int32  \n",
            " 10  Condition1       1459 non-null   int32  \n",
            " 11  Condition2       1459 non-null   int32  \n",
            " 12  BldgType         1459 non-null   int32  \n",
            " 13  HouseStyle       1459 non-null   int32  \n",
            " 14  OverallQual      1459 non-null   float64\n",
            " 15  OverallCond      1459 non-null   float64\n",
            " 16  YearBuilt        1459 non-null   float64\n",
            " 17  YearRemodAdd     1459 non-null   float64\n",
            " 18  RoofStyle        1459 non-null   int32  \n",
            " 19  RoofMatl         1459 non-null   int32  \n",
            " 20  Exterior1st      1459 non-null   int32  \n",
            " 21  Exterior2nd      1459 non-null   int32  \n",
            " 22  MasVnrType       1459 non-null   int32  \n",
            " 23  MasVnrArea       1459 non-null   float64\n",
            " 24  ExterQual        1459 non-null   float64\n",
            " 25  ExterCond        1459 non-null   int32  \n",
            " 26  Foundation       1459 non-null   int32  \n",
            " 27  BsmtQual         1459 non-null   int32  \n",
            " 28  BsmtCond         1459 non-null   int32  \n",
            " 29  BsmtExposure     1459 non-null   int32  \n",
            " 30  BsmtFinType1     1459 non-null   int32  \n",
            " 31  BsmtFinSF1       1459 non-null   float64\n",
            " 32  BsmtFinType2     1459 non-null   int32  \n",
            " 33  BsmtFinSF2       1459 non-null   float64\n",
            " 34  BsmtUnfSF        1459 non-null   float64\n",
            " 35  TotalBsmtSF      1459 non-null   float64\n",
            " 36  Heating          1459 non-null   int32  \n",
            " 37  HeatingQC        1459 non-null   float64\n",
            " 38  CentralAir       1459 non-null   float64\n",
            " 39  Electrical       1459 non-null   int32  \n",
            " 40  1stFlrSF         1459 non-null   float64\n",
            " 41  2ndFlrSF         1459 non-null   float64\n",
            " 42  LowQualFinSF     1459 non-null   float64\n",
            " 43  GrLivArea        1459 non-null   float64\n",
            " 44  BsmtFullBath     1459 non-null   float64\n",
            " 45  BsmtHalfBath     1459 non-null   float64\n",
            " 46  FullBath         1459 non-null   float64\n",
            " 47  HalfBath         1459 non-null   float64\n",
            " 48  BedroomAbvGr     1459 non-null   float64\n",
            " 49  KitchenAbvGr     1459 non-null   float64\n",
            " 50  KitchenQual      1459 non-null   float64\n",
            " 51  TotRmsAbvGrd     1459 non-null   float64\n",
            " 52  Functional       1459 non-null   int32  \n",
            " 53  Fireplaces       1459 non-null   float64\n",
            " 54  GarageType       1459 non-null   int32  \n",
            " 55  GarageYrBlt      1459 non-null   float64\n",
            " 56  GarageFinish     1459 non-null   int32  \n",
            " 57  GarageCars       1459 non-null   float64\n",
            " 58  GarageArea       1459 non-null   float64\n",
            " 59  GarageQual       1459 non-null   float64\n",
            " 60  GarageCond       1459 non-null   int32  \n",
            " 61  PavedDrive       1459 non-null   int32  \n",
            " 62  WoodDeckSF       1459 non-null   float64\n",
            " 63  OpenPorchSF      1459 non-null   float64\n",
            " 64  EnclosedPorch    1459 non-null   float64\n",
            " 65  3SsnPorch        1459 non-null   float64\n",
            " 66  ScreenPorch      1459 non-null   float64\n",
            " 67  PoolArea         1459 non-null   float64\n",
            " 68  MiscVal          1459 non-null   float64\n",
            " 69  MoSold           1459 non-null   float64\n",
            " 70  YrSold           1459 non-null   float64\n",
            " 71  SaleType         1459 non-null   int32  \n",
            " 72  SaleCondition    1459 non-null   int32  \n",
            " 73  GarageVolume     1459 non-null   float64\n",
            " 74  GarageAreaRatio  1459 non-null   float64\n",
            " 75  TotalQuall       1459 non-null   float64\n",
            "dtypes: float64(43), int32(33)\n",
            "memory usage: 678.3 KB\n"
          ]
        }
      ],
      "source": [
        "processed_new_data.info()"
      ]
    },
    {
      "cell_type": "markdown",
      "id": "c0d6ad7f-8e35-4578-a4e4-15da4f47403d",
      "metadata": {
        "id": "c0d6ad7f-8e35-4578-a4e4-15da4f47403d"
      },
      "source": [
        "We have trained our XGB model on a **scaled** data, so we need to scale the new data before making predictions"
      ]
    },
    {
      "cell_type": "code",
      "execution_count": null,
      "id": "a2732247-e9bc-42b4-91c6-3d4f71cc3895",
      "metadata": {
        "id": "a2732247-e9bc-42b4-91c6-3d4f71cc3895"
      },
      "outputs": [],
      "source": [
        "processed_new_data_scaled = pd.DataFrame(data=scaler.transform(processed_new_data),columns=processed_new_data.columns)"
      ]
    },
    {
      "cell_type": "code",
      "execution_count": null,
      "id": "6e525a23-206f-4cd5-bcc7-4aa56c5003df",
      "metadata": {
        "id": "6e525a23-206f-4cd5-bcc7-4aa56c5003df"
      },
      "outputs": [],
      "source": [
        "pred_new_data = best_XGB.predict(processed_new_data_scaled)"
      ]
    },
    {
      "cell_type": "markdown",
      "id": "086a1299-c34c-4c55-aa18-6fa50dba64ea",
      "metadata": {
        "id": "086a1299-c34c-4c55-aa18-6fa50dba64ea"
      },
      "source": [
        "Print the min, max and mean values\n",
        "As we can see, there are no unexpected results"
      ]
    },
    {
      "cell_type": "code",
      "execution_count": null,
      "id": "34061d74-3212-4746-b7a6-49f883853721",
      "metadata": {
        "id": "34061d74-3212-4746-b7a6-49f883853721",
        "outputId": "8c9ae4b2-3d40-42b0-c82c-6c22eeb1c3cf"
      },
      "outputs": [
        {
          "name": "stdout",
          "output_type": "stream",
          "text": [
            "Min prediction: 31522.701171875\n",
            "Max prediction: 379281.3125\n",
            "Mean prediction: 174109.3125\n"
          ]
        }
      ],
      "source": [
        "print(f'Min prediction: {pred_new_data.min()}')\n",
        "print(f'Max prediction: {pred_new_data.max()}')\n",
        "print(f'Mean prediction: {pred_new_data.mean()}')"
      ]
    },
    {
      "cell_type": "markdown",
      "id": "b6b05e98-e389-4a42-a12d-cdbca50155b1",
      "metadata": {
        "tags": [],
        "id": "b6b05e98-e389-4a42-a12d-cdbca50155b1"
      },
      "source": [
        "# Classification"
      ]
    },
    {
      "cell_type": "markdown",
      "id": "36b445b8-ecf5-42d9-bf41-7954e2106372",
      "metadata": {
        "id": "36b445b8-ecf5-42d9-bf41-7954e2106372"
      },
      "source": [
        "## Q11"
      ]
    },
    {
      "cell_type": "markdown",
      "id": "8f62d7c7-aa2a-41d5-8a37-d0f2469d816e",
      "metadata": {
        "id": "8f62d7c7-aa2a-41d5-8a37-d0f2469d816e"
      },
      "source": [
        "We'll now change the y_train and y_test values,\n",
        "so it will reflect the classification problem.\n",
        "As defined earlier, the train.Class contains\n",
        "values of 0 and 1, classifying the rows with house price over 250,000"
      ]
    },
    {
      "cell_type": "markdown",
      "id": "cb1ccfa9-57ad-4ec6-a8bc-49f3323787c6",
      "metadata": {
        "id": "cb1ccfa9-57ad-4ec6-a8bc-49f3323787c6"
      },
      "source": [
        "## Q12"
      ]
    },
    {
      "cell_type": "markdown",
      "id": "224ef7cf-796e-4ef7-8cba-b06e28ecc575",
      "metadata": {
        "id": "224ef7cf-796e-4ef7-8cba-b06e28ecc575"
      },
      "source": [
        "We will choose the Decision tree classifier,\n",
        "because it is allowing us to check the most important\n",
        "features used by the model for prediction"
      ]
    },
    {
      "cell_type": "code",
      "execution_count": null,
      "id": "75c4f07d-fa43-4601-9888-3ea22b501790",
      "metadata": {
        "id": "75c4f07d-fa43-4601-9888-3ea22b501790"
      },
      "outputs": [],
      "source": [
        "from sklearn.tree import DecisionTreeClassifier # import Decision Tree Classifier model\n",
        "# Include confusion matrix plot function to be used when we have defined a classifir (model) as we have (model with decision tree)\n",
        "from sklearn.metrics import ConfusionMatrixDisplay, confusion_matrix, roc_auc_score, accuracy_score, recall_score, precision_score, f1_score"
      ]
    },
    {
      "cell_type": "code",
      "execution_count": null,
      "id": "9121933e-ad80-4410-aaba-767f64397614",
      "metadata": {
        "id": "9121933e-ad80-4410-aaba-767f64397614"
      },
      "outputs": [],
      "source": [
        "# Build Decision Tree Classifier with default parameters, setting only random state = 0\n",
        "tree_clf = DecisionTreeClassifier(random_state=0)"
      ]
    },
    {
      "cell_type": "code",
      "execution_count": null,
      "id": "8f0db731-d40c-4852-b68c-0cb8f4200353",
      "metadata": {
        "id": "8f0db731-d40c-4852-b68c-0cb8f4200353",
        "outputId": "dc393b57-d0d2-4252-ac88-67a305c43269"
      },
      "outputs": [
        {
          "data": {
            "text/plain": [
              "0    1232\n",
              "1     149\n",
              "Name: Class, dtype: int64"
            ]
          },
          "execution_count": 45,
          "metadata": {},
          "output_type": "execute_result"
        }
      ],
      "source": [
        "y_clf.value_counts()"
      ]
    },
    {
      "cell_type": "markdown",
      "id": "6c9ece89-3db4-4666-b92f-69ef041b8329",
      "metadata": {
        "id": "6c9ece89-3db4-4666-b92f-69ef041b8329"
      },
      "source": [
        "As we can see, our classes aren't balanced"
      ]
    },
    {
      "cell_type": "markdown",
      "id": "f522dc59-c34a-4b96-8815-c82d9b1c52f1",
      "metadata": {
        "id": "f522dc59-c34a-4b96-8815-c82d9b1c52f1"
      },
      "source": [
        "## Q13"
      ]
    },
    {
      "cell_type": "code",
      "execution_count": null,
      "id": "d6511883-335c-4830-83e6-606d17412f0a",
      "metadata": {
        "id": "d6511883-335c-4830-83e6-606d17412f0a"
      },
      "outputs": [],
      "source": [
        "# Create the parameter grid based on the results of random search\n",
        "param_grid = [\n",
        "    {\n",
        "     'max_depth' : list(range(3, 8)),\n",
        "     'criterion' : ['gini', 'entropy'],\n",
        "     'max_features' : ['sqrt', 'log2'],\n",
        "     'class_weight' : ['balanced'],\n",
        "     'min_samples_split' : [2, 5, 10],\n",
        "     'min_samples_leaf' : [1, 2, 4]\n",
        "    }\n",
        "]"
      ]
    },
    {
      "cell_type": "code",
      "execution_count": null,
      "id": "4ea85765-da71-4121-aeb9-001b84d8e9ef",
      "metadata": {
        "id": "4ea85765-da71-4121-aeb9-001b84d8e9ef"
      },
      "outputs": [],
      "source": [
        "clf = GridSearchCV(tree_clf, param_grid = param_grid, cv=5, verbose=True, n_jobs=-1)"
      ]
    },
    {
      "cell_type": "code",
      "execution_count": null,
      "id": "b4de50ab-cc0a-47c5-b827-f6de678b445b",
      "metadata": {
        "id": "b4de50ab-cc0a-47c5-b827-f6de678b445b",
        "outputId": "4708c6cc-a9b1-4c3c-cdd3-71b8121fc72a"
      },
      "outputs": [
        {
          "name": "stdout",
          "output_type": "stream",
          "text": [
            "Fitting 5 folds for each of 180 candidates, totalling 900 fits\n"
          ]
        }
      ],
      "source": [
        "dt_clf = clf.fit(X, y_clf) #Fit with *ALL* training data because we are using cv"
      ]
    },
    {
      "cell_type": "code",
      "execution_count": null,
      "id": "5b6cb8f9-8e04-4f8b-b96e-c6024017ce36",
      "metadata": {
        "id": "5b6cb8f9-8e04-4f8b-b96e-c6024017ce36",
        "outputId": "dba1fd63-de4a-4e92-ce7c-cf5b6b79eaa1"
      },
      "outputs": [
        {
          "data": {
            "text/html": [
              "<style>#sk-container-id-5 {color: black;background-color: white;}#sk-container-id-5 pre{padding: 0;}#sk-container-id-5 div.sk-toggleable {background-color: white;}#sk-container-id-5 label.sk-toggleable__label {cursor: pointer;display: block;width: 100%;margin-bottom: 0;padding: 0.3em;box-sizing: border-box;text-align: center;}#sk-container-id-5 label.sk-toggleable__label-arrow:before {content: \"▸\";float: left;margin-right: 0.25em;color: #696969;}#sk-container-id-5 label.sk-toggleable__label-arrow:hover:before {color: black;}#sk-container-id-5 div.sk-estimator:hover label.sk-toggleable__label-arrow:before {color: black;}#sk-container-id-5 div.sk-toggleable__content {max-height: 0;max-width: 0;overflow: hidden;text-align: left;background-color: #f0f8ff;}#sk-container-id-5 div.sk-toggleable__content pre {margin: 0.2em;color: black;border-radius: 0.25em;background-color: #f0f8ff;}#sk-container-id-5 input.sk-toggleable__control:checked~div.sk-toggleable__content {max-height: 200px;max-width: 100%;overflow: auto;}#sk-container-id-5 input.sk-toggleable__control:checked~label.sk-toggleable__label-arrow:before {content: \"▾\";}#sk-container-id-5 div.sk-estimator input.sk-toggleable__control:checked~label.sk-toggleable__label {background-color: #d4ebff;}#sk-container-id-5 div.sk-label input.sk-toggleable__control:checked~label.sk-toggleable__label {background-color: #d4ebff;}#sk-container-id-5 input.sk-hidden--visually {border: 0;clip: rect(1px 1px 1px 1px);clip: rect(1px, 1px, 1px, 1px);height: 1px;margin: -1px;overflow: hidden;padding: 0;position: absolute;width: 1px;}#sk-container-id-5 div.sk-estimator {font-family: monospace;background-color: #f0f8ff;border: 1px dotted black;border-radius: 0.25em;box-sizing: border-box;margin-bottom: 0.5em;}#sk-container-id-5 div.sk-estimator:hover {background-color: #d4ebff;}#sk-container-id-5 div.sk-parallel-item::after {content: \"\";width: 100%;border-bottom: 1px solid gray;flex-grow: 1;}#sk-container-id-5 div.sk-label:hover label.sk-toggleable__label {background-color: #d4ebff;}#sk-container-id-5 div.sk-serial::before {content: \"\";position: absolute;border-left: 1px solid gray;box-sizing: border-box;top: 0;bottom: 0;left: 50%;z-index: 0;}#sk-container-id-5 div.sk-serial {display: flex;flex-direction: column;align-items: center;background-color: white;padding-right: 0.2em;padding-left: 0.2em;position: relative;}#sk-container-id-5 div.sk-item {position: relative;z-index: 1;}#sk-container-id-5 div.sk-parallel {display: flex;align-items: stretch;justify-content: center;background-color: white;position: relative;}#sk-container-id-5 div.sk-item::before, #sk-container-id-5 div.sk-parallel-item::before {content: \"\";position: absolute;border-left: 1px solid gray;box-sizing: border-box;top: 0;bottom: 0;left: 50%;z-index: -1;}#sk-container-id-5 div.sk-parallel-item {display: flex;flex-direction: column;z-index: 1;position: relative;background-color: white;}#sk-container-id-5 div.sk-parallel-item:first-child::after {align-self: flex-end;width: 50%;}#sk-container-id-5 div.sk-parallel-item:last-child::after {align-self: flex-start;width: 50%;}#sk-container-id-5 div.sk-parallel-item:only-child::after {width: 0;}#sk-container-id-5 div.sk-dashed-wrapped {border: 1px dashed gray;margin: 0 0.4em 0.5em 0.4em;box-sizing: border-box;padding-bottom: 0.4em;background-color: white;}#sk-container-id-5 div.sk-label label {font-family: monospace;font-weight: bold;display: inline-block;line-height: 1.2em;}#sk-container-id-5 div.sk-label-container {text-align: center;}#sk-container-id-5 div.sk-container {/* jupyter's `normalize.less` sets `[hidden] { display: none; }` but bootstrap.min.css set `[hidden] { display: none !important; }` so we also need the `!important` here to be able to override the default hidden behavior on the sphinx rendered scikit-learn.org. See: https://github.com/scikit-learn/scikit-learn/issues/21755 */display: inline-block !important;position: relative;}#sk-container-id-5 div.sk-text-repr-fallback {display: none;}</style><div id=\"sk-container-id-5\" class=\"sk-top-container\"><div class=\"sk-text-repr-fallback\"><pre>DecisionTreeClassifier(class_weight=&#x27;balanced&#x27;, criterion=&#x27;entropy&#x27;,\n",
              "                       max_depth=7, max_features=&#x27;sqrt&#x27;, min_samples_split=5,\n",
              "                       random_state=0)</pre><b>In a Jupyter environment, please rerun this cell to show the HTML representation or trust the notebook. <br />On GitHub, the HTML representation is unable to render, please try loading this page with nbviewer.org.</b></div><div class=\"sk-container\" hidden><div class=\"sk-item\"><div class=\"sk-estimator sk-toggleable\"><input class=\"sk-toggleable__control sk-hidden--visually\" id=\"sk-estimator-id-9\" type=\"checkbox\" checked><label for=\"sk-estimator-id-9\" class=\"sk-toggleable__label sk-toggleable__label-arrow\">DecisionTreeClassifier</label><div class=\"sk-toggleable__content\"><pre>DecisionTreeClassifier(class_weight=&#x27;balanced&#x27;, criterion=&#x27;entropy&#x27;,\n",
              "                       max_depth=7, max_features=&#x27;sqrt&#x27;, min_samples_split=5,\n",
              "                       random_state=0)</pre></div></div></div></div></div>"
            ],
            "text/plain": [
              "DecisionTreeClassifier(class_weight='balanced', criterion='entropy',\n",
              "                       max_depth=7, max_features='sqrt', min_samples_split=5,\n",
              "                       random_state=0)"
            ]
          },
          "execution_count": 49,
          "metadata": {},
          "output_type": "execute_result"
        }
      ],
      "source": [
        "dt_clf.best_estimator_"
      ]
    },
    {
      "cell_type": "code",
      "execution_count": null,
      "id": "26f9e9a8-6f5f-4155-9a9e-276731ae0763",
      "metadata": {
        "id": "26f9e9a8-6f5f-4155-9a9e-276731ae0763"
      },
      "outputs": [],
      "source": [
        "best_params = dt_clf.best_params_"
      ]
    },
    {
      "cell_type": "code",
      "execution_count": null,
      "id": "a9bc7104-3d90-4fcb-bd3f-f45263714c52",
      "metadata": {
        "id": "a9bc7104-3d90-4fcb-bd3f-f45263714c52"
      },
      "outputs": [],
      "source": [
        "best_clf = DecisionTreeClassifier(**best_params)"
      ]
    },
    {
      "cell_type": "code",
      "execution_count": null,
      "id": "a972a168-c81e-45b1-80ca-2eceeca93045",
      "metadata": {
        "id": "a972a168-c81e-45b1-80ca-2eceeca93045",
        "outputId": "b4e20128-7d22-40f4-9d3f-1c380a9519e0"
      },
      "outputs": [
        {
          "data": {
            "text/html": [
              "<style>#sk-container-id-6 {color: black;background-color: white;}#sk-container-id-6 pre{padding: 0;}#sk-container-id-6 div.sk-toggleable {background-color: white;}#sk-container-id-6 label.sk-toggleable__label {cursor: pointer;display: block;width: 100%;margin-bottom: 0;padding: 0.3em;box-sizing: border-box;text-align: center;}#sk-container-id-6 label.sk-toggleable__label-arrow:before {content: \"▸\";float: left;margin-right: 0.25em;color: #696969;}#sk-container-id-6 label.sk-toggleable__label-arrow:hover:before {color: black;}#sk-container-id-6 div.sk-estimator:hover label.sk-toggleable__label-arrow:before {color: black;}#sk-container-id-6 div.sk-toggleable__content {max-height: 0;max-width: 0;overflow: hidden;text-align: left;background-color: #f0f8ff;}#sk-container-id-6 div.sk-toggleable__content pre {margin: 0.2em;color: black;border-radius: 0.25em;background-color: #f0f8ff;}#sk-container-id-6 input.sk-toggleable__control:checked~div.sk-toggleable__content {max-height: 200px;max-width: 100%;overflow: auto;}#sk-container-id-6 input.sk-toggleable__control:checked~label.sk-toggleable__label-arrow:before {content: \"▾\";}#sk-container-id-6 div.sk-estimator input.sk-toggleable__control:checked~label.sk-toggleable__label {background-color: #d4ebff;}#sk-container-id-6 div.sk-label input.sk-toggleable__control:checked~label.sk-toggleable__label {background-color: #d4ebff;}#sk-container-id-6 input.sk-hidden--visually {border: 0;clip: rect(1px 1px 1px 1px);clip: rect(1px, 1px, 1px, 1px);height: 1px;margin: -1px;overflow: hidden;padding: 0;position: absolute;width: 1px;}#sk-container-id-6 div.sk-estimator {font-family: monospace;background-color: #f0f8ff;border: 1px dotted black;border-radius: 0.25em;box-sizing: border-box;margin-bottom: 0.5em;}#sk-container-id-6 div.sk-estimator:hover {background-color: #d4ebff;}#sk-container-id-6 div.sk-parallel-item::after {content: \"\";width: 100%;border-bottom: 1px solid gray;flex-grow: 1;}#sk-container-id-6 div.sk-label:hover label.sk-toggleable__label {background-color: #d4ebff;}#sk-container-id-6 div.sk-serial::before {content: \"\";position: absolute;border-left: 1px solid gray;box-sizing: border-box;top: 0;bottom: 0;left: 50%;z-index: 0;}#sk-container-id-6 div.sk-serial {display: flex;flex-direction: column;align-items: center;background-color: white;padding-right: 0.2em;padding-left: 0.2em;position: relative;}#sk-container-id-6 div.sk-item {position: relative;z-index: 1;}#sk-container-id-6 div.sk-parallel {display: flex;align-items: stretch;justify-content: center;background-color: white;position: relative;}#sk-container-id-6 div.sk-item::before, #sk-container-id-6 div.sk-parallel-item::before {content: \"\";position: absolute;border-left: 1px solid gray;box-sizing: border-box;top: 0;bottom: 0;left: 50%;z-index: -1;}#sk-container-id-6 div.sk-parallel-item {display: flex;flex-direction: column;z-index: 1;position: relative;background-color: white;}#sk-container-id-6 div.sk-parallel-item:first-child::after {align-self: flex-end;width: 50%;}#sk-container-id-6 div.sk-parallel-item:last-child::after {align-self: flex-start;width: 50%;}#sk-container-id-6 div.sk-parallel-item:only-child::after {width: 0;}#sk-container-id-6 div.sk-dashed-wrapped {border: 1px dashed gray;margin: 0 0.4em 0.5em 0.4em;box-sizing: border-box;padding-bottom: 0.4em;background-color: white;}#sk-container-id-6 div.sk-label label {font-family: monospace;font-weight: bold;display: inline-block;line-height: 1.2em;}#sk-container-id-6 div.sk-label-container {text-align: center;}#sk-container-id-6 div.sk-container {/* jupyter's `normalize.less` sets `[hidden] { display: none; }` but bootstrap.min.css set `[hidden] { display: none !important; }` so we also need the `!important` here to be able to override the default hidden behavior on the sphinx rendered scikit-learn.org. See: https://github.com/scikit-learn/scikit-learn/issues/21755 */display: inline-block !important;position: relative;}#sk-container-id-6 div.sk-text-repr-fallback {display: none;}</style><div id=\"sk-container-id-6\" class=\"sk-top-container\"><div class=\"sk-text-repr-fallback\"><pre>DecisionTreeClassifier(class_weight=&#x27;balanced&#x27;, criterion=&#x27;entropy&#x27;,\n",
              "                       max_depth=7, max_features=&#x27;sqrt&#x27;, min_samples_split=5)</pre><b>In a Jupyter environment, please rerun this cell to show the HTML representation or trust the notebook. <br />On GitHub, the HTML representation is unable to render, please try loading this page with nbviewer.org.</b></div><div class=\"sk-container\" hidden><div class=\"sk-item\"><div class=\"sk-estimator sk-toggleable\"><input class=\"sk-toggleable__control sk-hidden--visually\" id=\"sk-estimator-id-10\" type=\"checkbox\" checked><label for=\"sk-estimator-id-10\" class=\"sk-toggleable__label sk-toggleable__label-arrow\">DecisionTreeClassifier</label><div class=\"sk-toggleable__content\"><pre>DecisionTreeClassifier(class_weight=&#x27;balanced&#x27;, criterion=&#x27;entropy&#x27;,\n",
              "                       max_depth=7, max_features=&#x27;sqrt&#x27;, min_samples_split=5)</pre></div></div></div></div></div>"
            ],
            "text/plain": [
              "DecisionTreeClassifier(class_weight='balanced', criterion='entropy',\n",
              "                       max_depth=7, max_features='sqrt', min_samples_split=5)"
            ]
          },
          "execution_count": 52,
          "metadata": {},
          "output_type": "execute_result"
        }
      ],
      "source": [
        "best_clf.fit(X_train, y_train_clf)"
      ]
    },
    {
      "cell_type": "code",
      "execution_count": null,
      "id": "8d3c791e-81ce-433e-840f-f73200a8e277",
      "metadata": {
        "id": "8d3c791e-81ce-433e-840f-f73200a8e277"
      },
      "outputs": [],
      "source": [
        "# Predict values for Test data using trained classifier\n",
        "predicted_y = best_clf.predict(X_test)"
      ]
    },
    {
      "cell_type": "markdown",
      "id": "4b6bd4e5-dd85-4e3e-aa96-aa6f9ee9d106",
      "metadata": {
        "id": "4b6bd4e5-dd85-4e3e-aa96-aa6f9ee9d106"
      },
      "source": [
        "## Q14"
      ]
    },
    {
      "cell_type": "code",
      "execution_count": null,
      "id": "eaab6683-b178-4a56-9c6f-79c962d1dd4d",
      "metadata": {
        "id": "eaab6683-b178-4a56-9c6f-79c962d1dd4d",
        "outputId": "0c97ebb3-4931-48c7-cdfa-9a23f6f92c15"
      },
      "outputs": [
        {
          "name": "stdout",
          "output_type": "stream",
          "text": [
            "Measurement for Test data:\n",
            "  Accuracy: 0.89531\n",
            "  Recall: 0.77778\n",
            "  Precision: 0.47727\n",
            "  F1: [0.93995859 0.5915493 ]\n"
          ]
        },
        {
          "data": {
            "text/plain": [
              "<sklearn.metrics._plot.confusion_matrix.ConfusionMatrixDisplay at 0x2868cf16aa0>"
            ]
          },
          "execution_count": 54,
          "metadata": {},
          "output_type": "execute_result"
        },
        {
          "data": {
            "image/png": "[encoded data removed]",
            "text/plain": [
              "<Figure size 640x480 with 2 Axes>"
            ]
          },
          "metadata": {},
          "output_type": "display_data"
        }
      ],
      "source": [
        "#Calculate the required metrics\n",
        "acc = accuracy_score(y_test_clf, predicted_y)\n",
        "recall = recall_score(y_test_clf, predicted_y)\n",
        "precision = precision_score(y_test_clf, predicted_y)\n",
        "f1 = f1_score(y_test_clf, predicted_y, average=None)\n",
        "\n",
        "# Show metrics for test data\n",
        "print(f'Measurement for Test data:')\n",
        "print(f'  Accuracy: {acc:.5f}')\n",
        "print(f'  Recall: {recall:.5f}')\n",
        "print(f'  Precision: {precision:.5f}')\n",
        "print(f'  F1: {f1}')\n",
        "\n",
        "# Show confusion matrix for test data\n",
        "ConfusionMatrixDisplay.from_predictions(y_test_clf,predicted_y)"
      ]
    },
    {
      "cell_type": "code",
      "execution_count": null,
      "id": "851ae503-4a6f-4099-a748-a91ecc41dc2e",
      "metadata": {
        "tags": [],
        "id": "851ae503-4a6f-4099-a748-a91ecc41dc2e",
        "outputId": "9517f4ad-611d-4033-df8f-764fbb46a4ba"
      },
      "outputs": [
        {
          "name": "stdout",
          "output_type": "stream",
          "text": [
            "Measurement for Train data:\n",
            "  Accuracy: 0.95471\n",
            "  Recall: 0.98361\n",
            "  Precision: 0.71429\n",
            "  F1: [0.97393118 0.82758621]\n"
          ]
        },
        {
          "data": {
            "text/plain": [
              "<sklearn.metrics._plot.confusion_matrix.ConfusionMatrixDisplay at 0x2868d0974f0>"
            ]
          },
          "execution_count": 55,
          "metadata": {},
          "output_type": "execute_result"
        },
        {
          "data": {
            "image/png": "[encoded data removed]",
            "text/plain": [
              "<Figure size 640x480 with 2 Axes>"
            ]
          },
          "metadata": {},
          "output_type": "display_data"
        }
      ],
      "source": [
        "#Check metrics for train data\n",
        "predicted_y_train = best_clf.predict(X_train)\n",
        "\n",
        "#Calculate required metrics\n",
        "acc = accuracy_score(y_train_clf, predicted_y_train)\n",
        "recall = recall_score(y_train_clf, predicted_y_train)\n",
        "precision = precision_score(y_train_clf, predicted_y_train)\n",
        "f1 = f1_score(y_train_clf, predicted_y_train, average=None)\n",
        "\n",
        "# Show metrics for train data\n",
        "print(f'Measurement for Train data:')\n",
        "print(f'  Accuracy: {acc:.5f}')\n",
        "print(f'  Recall: {recall:.5f}')\n",
        "print(f'  Precision: {precision:.5f}')\n",
        "print(f'  F1: {f1}')\n",
        "\n",
        "# Show confusion matrix for test data\n",
        "ConfusionMatrixDisplay.from_predictions(y_train_clf,predicted_y_train)"
      ]
    },
    {
      "cell_type": "markdown",
      "id": "94a8ff38-93cb-4408-bddc-671d40b79c85",
      "metadata": {
        "tags": [],
        "id": "94a8ff38-93cb-4408-bddc-671d40b79c85"
      },
      "source": [
        "## Q15"
      ]
    },
    {
      "cell_type": "code",
      "execution_count": null,
      "id": "be38d1e5-29bc-4c86-a188-0edec4a4c20e",
      "metadata": {
        "id": "be38d1e5-29bc-4c86-a188-0edec4a4c20e",
        "outputId": "f61cd983-bdcc-4e59-ee3f-16c3de8a3702"
      },
      "outputs": [
        {
          "data": {
            "image/svg+xml": [
              "<?xml version=\"1.0\" encoding=\"UTF-8\" standalone=\"no\"?>\n",
              "<!DOCTYPE svg PUBLIC \"-//W3C//DTD SVG 1.1//EN\"\n",
              " \"http://www.w3.org/Graphics/SVG/1.1/DTD/svg11.dtd\">\n",
              "<!-- Generated by graphviz version 2.50.0 (0)\n",
              " -->\n",
              "<!-- Title: Tree Pages: 1 -->\n",
              "<svg width=\"4991pt\" height=\"909pt\"\n",
              " viewBox=\"0.00 0.00 4991.00 909.00\" xmlns=\"http://www.w3.org/2000/svg\" xmlns:xlink=\"http://www.w3.org/1999/xlink\">\n",
              "<g id=\"graph0\" class=\"graph\" transform=\"scale(1 1) rotate(0) translate(4 905)\">\n",
              "<title>Tree</title>\n",
              "<polygon fill=\"white\" stroke=\"transparent\" points=\"-4,4 -4,-905 4987,-905 4987,4 -4,4\"/>\n",
              "<!-- 0 -->\n",
              "<g id=\"node1\" class=\"node\">\n",
              "<title>0</title>\n",
              "<path fill=\"#ffffff\" stroke=\"black\" d=\"M3668.5,-901C3668.5,-901 3545.5,-901 3545.5,-901 3539.5,-901 3533.5,-895 3533.5,-889 3533.5,-889 3533.5,-830 3533.5,-830 3533.5,-824 3539.5,-818 3545.5,-818 3545.5,-818 3668.5,-818 3668.5,-818 3674.5,-818 3680.5,-824 3680.5,-830 3680.5,-830 3680.5,-889 3680.5,-889 3680.5,-895 3674.5,-901 3668.5,-901\"/>\n",
              "<text text-anchor=\"start\" x=\"3549\" y=\"-885.8\" font-family=\"Helvetica,sans-Serif\" font-size=\"14.00\">GarageFinish ≤ 1.5</text>\n",
              "<text text-anchor=\"start\" x=\"3567\" y=\"-870.8\" font-family=\"Helvetica,sans-Serif\" font-size=\"14.00\">entropy = 1.0</text>\n",
              "<text text-anchor=\"start\" x=\"3558.5\" y=\"-855.8\" font-family=\"Helvetica,sans-Serif\" font-size=\"14.00\">samples = 1104</text>\n",
              "<text text-anchor=\"start\" x=\"3541.5\" y=\"-840.8\" font-family=\"Helvetica,sans-Serif\" font-size=\"14.00\">value = [552.0, 552.0]</text>\n",
              "<text text-anchor=\"start\" x=\"3575\" y=\"-825.8\" font-family=\"Helvetica,sans-Serif\" font-size=\"14.00\">class = No</text>\n",
              "</g>\n",
              "<!-- 1 -->\n",
              "<g id=\"node2\" class=\"node\">\n",
              "<title>1</title>\n",
              "<path fill=\"#9ccef2\" stroke=\"black\" d=\"M2893.5,-782C2893.5,-782 2740.5,-782 2740.5,-782 2734.5,-782 2728.5,-776 2728.5,-770 2728.5,-770 2728.5,-711 2728.5,-711 2728.5,-705 2734.5,-699 2740.5,-699 2740.5,-699 2893.5,-699 2893.5,-699 2899.5,-699 2905.5,-705 2905.5,-711 2905.5,-711 2905.5,-770 2905.5,-770 2905.5,-776 2899.5,-782 2893.5,-782\"/>\n",
              "<text text-anchor=\"start\" x=\"2762\" y=\"-766.8\" font-family=\"Helvetica,sans-Serif\" font-size=\"14.00\">TotalQuall ≤ 0.708</text>\n",
              "<text text-anchor=\"start\" x=\"2769.5\" y=\"-751.8\" font-family=\"Helvetica,sans-Serif\" font-size=\"14.00\">entropy = 0.919</text>\n",
              "<text text-anchor=\"start\" x=\"2772\" y=\"-736.8\" font-family=\"Helvetica,sans-Serif\" font-size=\"14.00\">samples = 564</text>\n",
              "<text text-anchor=\"start\" x=\"2736.5\" y=\"-721.8\" font-family=\"Helvetica,sans-Serif\" font-size=\"14.00\">value = [254.077, 506.754]</text>\n",
              "<text text-anchor=\"start\" x=\"2782\" y=\"-706.8\" font-family=\"Helvetica,sans-Serif\" font-size=\"14.00\">class = Yes</text>\n",
              "</g>\n",
              "<!-- 0&#45;&gt;1 -->\n",
              "<g id=\"edge1\" class=\"edge\">\n",
              "<title>0&#45;&gt;1</title>\n",
              "<path fill=\"none\" stroke=\"black\" d=\"M3533.39,-847.6C3390.77,-826.48 3076.74,-779.97 2916.01,-756.16\"/>\n",
              "<polygon fill=\"black\" stroke=\"black\" points=\"2916.06,-752.63 2905.65,-754.63 2915.03,-759.56 2916.06,-752.63\"/>\n",
              "<text text-anchor=\"middle\" x=\"2920.55\" y=\"-771.01\" font-family=\"Helvetica,sans-Serif\" font-size=\"14.00\">True</text>\n",
              "</g>\n",
              "<!-- 74 -->\n",
              "<g id=\"node75\" class=\"node\">\n",
              "<title>74</title>\n",
              "<path fill=\"#e99457\" stroke=\"black\" d=\"M4028,-782C4028,-782 3882,-782 3882,-782 3876,-782 3870,-776 3870,-770 3870,-770 3870,-711 3870,-711 3870,-705 3876,-699 3882,-699 3882,-699 4028,-699 4028,-699 4034,-699 4040,-705 4040,-711 4040,-711 4040,-770 4040,-770 4040,-776 4034,-782 4028,-782\"/>\n",
              "<text text-anchor=\"start\" x=\"3900\" y=\"-766.8\" font-family=\"Helvetica,sans-Serif\" font-size=\"14.00\">TotalQuall ≤ 0.608</text>\n",
              "<text text-anchor=\"start\" x=\"3907.5\" y=\"-751.8\" font-family=\"Helvetica,sans-Serif\" font-size=\"14.00\">entropy = 0.562</text>\n",
              "<text text-anchor=\"start\" x=\"3910\" y=\"-736.8\" font-family=\"Helvetica,sans-Serif\" font-size=\"14.00\">samples = 540</text>\n",
              "<text text-anchor=\"start\" x=\"3878\" y=\"-721.8\" font-family=\"Helvetica,sans-Serif\" font-size=\"14.00\">value = [297.923, 45.246]</text>\n",
              "<text text-anchor=\"start\" x=\"3923\" y=\"-706.8\" font-family=\"Helvetica,sans-Serif\" font-size=\"14.00\">class = No</text>\n",
              "</g>\n",
              "<!-- 0&#45;&gt;74 -->\n",
              "<g id=\"edge74\" class=\"edge\">\n",
              "<title>0&#45;&gt;74</title>\n",
              "<path fill=\"none\" stroke=\"black\" d=\"M3680.8,-833.69C3733.14,-816.09 3803.83,-792.33 3860.32,-773.33\"/>\n",
              "<polygon fill=\"black\" stroke=\"black\" points=\"3861.61,-776.59 3869.97,-770.09 3859.38,-769.96 3861.61,-776.59\"/>\n",
              "<text text-anchor=\"middle\" x=\"3858.85\" y=\"-788.78\" font-family=\"Helvetica,sans-Serif\" font-size=\"14.00\">False</text>\n",
              "</g>\n",
              "<!-- 2 -->\n",
              "<g id=\"node3\" class=\"node\">\n",
              "<title>2</title>\n",
              "<path fill=\"#f4ccaf\" stroke=\"black\" d=\"M1196,-663C1196,-663 1050,-663 1050,-663 1044,-663 1038,-657 1038,-651 1038,-651 1038,-592 1038,-592 1038,-586 1044,-580 1050,-580 1050,-580 1196,-580 1196,-580 1202,-580 1208,-586 1208,-592 1208,-592 1208,-651 1208,-651 1208,-657 1202,-663 1196,-663\"/>\n",
              "<text text-anchor=\"start\" x=\"1049\" y=\"-647.8\" font-family=\"Helvetica,sans-Serif\" font-size=\"14.00\">GarageVolume ≤ 1133.0</text>\n",
              "<text text-anchor=\"start\" x=\"1075.5\" y=\"-632.8\" font-family=\"Helvetica,sans-Serif\" font-size=\"14.00\">entropy = 0.953</text>\n",
              "<text text-anchor=\"start\" x=\"1078\" y=\"-617.8\" font-family=\"Helvetica,sans-Serif\" font-size=\"14.00\">samples = 436</text>\n",
              "<text text-anchor=\"start\" x=\"1046\" y=\"-602.8\" font-family=\"Helvetica,sans-Serif\" font-size=\"14.00\">value = [228.22, 135.738]</text>\n",
              "<text text-anchor=\"start\" x=\"1091\" y=\"-587.8\" font-family=\"Helvetica,sans-Serif\" font-size=\"14.00\">class = No</text>\n",
              "</g>\n",
              "<!-- 1&#45;&gt;2 -->\n",
              "<g id=\"edge2\" class=\"edge\">\n",
              "<title>1&#45;&gt;2</title>\n",
              "<path fill=\"none\" stroke=\"black\" d=\"M2728.31,-733.37C2438.08,-713.33 1518.19,-649.79 1218.44,-629.09\"/>\n",
              "<polygon fill=\"black\" stroke=\"black\" points=\"1218.26,-625.57 1208.04,-628.37 1217.77,-632.55 1218.26,-625.57\"/>\n",
              "</g>\n",
              "<!-- 35 -->\n",
              "<g id=\"node36\" class=\"node\">\n",
              "<title>35</title>\n",
              "<path fill=\"#47a4e7\" stroke=\"black\" d=\"M2890,-663C2890,-663 2744,-663 2744,-663 2738,-663 2732,-657 2732,-651 2732,-651 2732,-592 2732,-592 2732,-586 2738,-580 2744,-580 2744,-580 2890,-580 2890,-580 2896,-580 2902,-586 2902,-592 2902,-592 2902,-651 2902,-651 2902,-657 2896,-663 2890,-663\"/>\n",
              "<text text-anchor=\"start\" x=\"2755\" y=\"-647.8\" font-family=\"Helvetica,sans-Serif\" font-size=\"14.00\">GarageArea ≤ 536.0</text>\n",
              "<text text-anchor=\"start\" x=\"2769.5\" y=\"-632.8\" font-family=\"Helvetica,sans-Serif\" font-size=\"14.00\">entropy = 0.348</text>\n",
              "<text text-anchor=\"start\" x=\"2772\" y=\"-617.8\" font-family=\"Helvetica,sans-Serif\" font-size=\"14.00\">samples = 128</text>\n",
              "<text text-anchor=\"start\" x=\"2740\" y=\"-602.8\" font-family=\"Helvetica,sans-Serif\" font-size=\"14.00\">value = [25.857, 371.016]</text>\n",
              "<text text-anchor=\"start\" x=\"2782\" y=\"-587.8\" font-family=\"Helvetica,sans-Serif\" font-size=\"14.00\">class = Yes</text>\n",
              "</g>\n",
              "<!-- 1&#45;&gt;35 -->\n",
              "<g id=\"edge35\" class=\"edge\">\n",
              "<title>1&#45;&gt;35</title>\n",
              "<path fill=\"none\" stroke=\"black\" d=\"M2817,-698.91C2817,-690.65 2817,-681.86 2817,-673.3\"/>\n",
              "<polygon fill=\"black\" stroke=\"black\" points=\"2820.5,-673.02 2817,-663.02 2813.5,-673.02 2820.5,-673.02\"/>\n",
              "</g>\n",
              "<!-- 3 -->\n",
              "<g id=\"node4\" class=\"node\">\n",
              "<title>3</title>\n",
              "<path fill=\"#eca16b\" stroke=\"black\" d=\"M929,-544C929,-544 783,-544 783,-544 777,-544 771,-538 771,-532 771,-532 771,-473 771,-473 771,-467 777,-461 783,-461 783,-461 929,-461 929,-461 935,-461 941,-467 941,-473 941,-473 941,-532 941,-532 941,-538 935,-544 929,-544\"/>\n",
              "<text text-anchor=\"start\" x=\"795.5\" y=\"-528.8\" font-family=\"Helvetica,sans-Serif\" font-size=\"14.00\">MSSubClass ≤ 65.0</text>\n",
              "<text text-anchor=\"start\" x=\"808.5\" y=\"-513.8\" font-family=\"Helvetica,sans-Serif\" font-size=\"14.00\">entropy = 0.726</text>\n",
              "<text text-anchor=\"start\" x=\"811\" y=\"-498.8\" font-family=\"Helvetica,sans-Serif\" font-size=\"14.00\">samples = 328</text>\n",
              "<text text-anchor=\"start\" x=\"779\" y=\"-483.8\" font-family=\"Helvetica,sans-Serif\" font-size=\"14.00\">value = [178.754, 45.246]</text>\n",
              "<text text-anchor=\"start\" x=\"824\" y=\"-468.8\" font-family=\"Helvetica,sans-Serif\" font-size=\"14.00\">class = No</text>\n",
              "</g>\n",
              "<!-- 2&#45;&gt;3 -->\n",
              "<g id=\"edge3\" class=\"edge\">\n",
              "<title>2&#45;&gt;3</title>\n",
              "<path fill=\"none\" stroke=\"black\" d=\"M1037.79,-583.16C1010.09,-571.02 979.19,-557.48 950.83,-545.06\"/>\n",
              "<polygon fill=\"black\" stroke=\"black\" points=\"951.88,-541.7 941.32,-540.89 949.08,-548.11 951.88,-541.7\"/>\n",
              "</g>\n",
              "<!-- 14 -->\n",
              "<g id=\"node15\" class=\"node\">\n",
              "<title>14</title>\n",
              "<path fill=\"#a5d3f3\" stroke=\"black\" d=\"M1192,-544C1192,-544 1054,-544 1054,-544 1048,-544 1042,-538 1042,-532 1042,-532 1042,-473 1042,-473 1042,-467 1048,-461 1054,-461 1054,-461 1192,-461 1192,-461 1198,-461 1204,-467 1204,-473 1204,-473 1204,-532 1204,-532 1204,-538 1198,-544 1192,-544\"/>\n",
              "<text text-anchor=\"start\" x=\"1059.5\" y=\"-528.8\" font-family=\"Helvetica,sans-Serif\" font-size=\"14.00\">TotRmsAbvGrd ≤ 7.5</text>\n",
              "<text text-anchor=\"start\" x=\"1075.5\" y=\"-513.8\" font-family=\"Helvetica,sans-Serif\" font-size=\"14.00\">entropy = 0.937</text>\n",
              "<text text-anchor=\"start\" x=\"1078\" y=\"-498.8\" font-family=\"Helvetica,sans-Serif\" font-size=\"14.00\">samples = 108</text>\n",
              "<text text-anchor=\"start\" x=\"1050\" y=\"-483.8\" font-family=\"Helvetica,sans-Serif\" font-size=\"14.00\">value = [49.466, 90.492]</text>\n",
              "<text text-anchor=\"start\" x=\"1088\" y=\"-468.8\" font-family=\"Helvetica,sans-Serif\" font-size=\"14.00\">class = Yes</text>\n",
              "</g>\n",
              "<!-- 2&#45;&gt;14 -->\n",
              "<g id=\"edge14\" class=\"edge\">\n",
              "<title>2&#45;&gt;14</title>\n",
              "<path fill=\"none\" stroke=\"black\" d=\"M1123,-579.91C1123,-571.65 1123,-562.86 1123,-554.3\"/>\n",
              "<polygon fill=\"black\" stroke=\"black\" points=\"1126.5,-554.02 1123,-544.02 1119.5,-554.02 1126.5,-554.02\"/>\n",
              "</g>\n",
              "<!-- 4 -->\n",
              "<g id=\"node5\" class=\"node\">\n",
              "<title>4</title>\n",
              "<path fill=\"#eeac7d\" stroke=\"black\" d=\"M561,-425C561,-425 415,-425 415,-425 409,-425 403,-419 403,-413 403,-413 403,-354 403,-354 403,-348 409,-342 415,-342 415,-342 561,-342 561,-342 567,-342 573,-348 573,-354 573,-354 573,-413 573,-413 573,-419 567,-425 561,-425\"/>\n",
              "<text text-anchor=\"start\" x=\"430.5\" y=\"-409.8\" font-family=\"Helvetica,sans-Serif\" font-size=\"14.00\">OverallQual ≤ 0.65</text>\n",
              "<text text-anchor=\"start\" x=\"440.5\" y=\"-394.8\" font-family=\"Helvetica,sans-Serif\" font-size=\"14.00\">entropy = 0.821</text>\n",
              "<text text-anchor=\"start\" x=\"443\" y=\"-379.8\" font-family=\"Helvetica,sans-Serif\" font-size=\"14.00\">samples = 244</text>\n",
              "<text text-anchor=\"start\" x=\"411\" y=\"-364.8\" font-family=\"Helvetica,sans-Serif\" font-size=\"14.00\">value = [131.536, 45.246]</text>\n",
              "<text text-anchor=\"start\" x=\"456\" y=\"-349.8\" font-family=\"Helvetica,sans-Serif\" font-size=\"14.00\">class = No</text>\n",
              "</g>\n",
              "<!-- 3&#45;&gt;4 -->\n",
              "<g id=\"edge4\" class=\"edge\">\n",
              "<title>3&#45;&gt;4</title>\n",
              "<path fill=\"none\" stroke=\"black\" d=\"M770.65,-474.36C714.43,-456.49 640.78,-433.07 582.75,-414.62\"/>\n",
              "<polygon fill=\"black\" stroke=\"black\" points=\"583.8,-411.28 573.21,-411.59 581.68,-417.96 583.8,-411.28\"/>\n",
              "</g>\n",
              "<!-- 13 -->\n",
              "<g id=\"node14\" class=\"node\">\n",
              "<title>13</title>\n",
              "<path fill=\"#e58139\" stroke=\"black\" d=\"M914,-417.5C914,-417.5 798,-417.5 798,-417.5 792,-417.5 786,-411.5 786,-405.5 786,-405.5 786,-361.5 786,-361.5 786,-355.5 792,-349.5 798,-349.5 798,-349.5 914,-349.5 914,-349.5 920,-349.5 926,-355.5 926,-361.5 926,-361.5 926,-405.5 926,-405.5 926,-411.5 920,-417.5 914,-417.5\"/>\n",
              "<text text-anchor=\"start\" x=\"816\" y=\"-402.3\" font-family=\"Helvetica,sans-Serif\" font-size=\"14.00\">entropy = 0.0</text>\n",
              "<text text-anchor=\"start\" x=\"815\" y=\"-387.3\" font-family=\"Helvetica,sans-Serif\" font-size=\"14.00\">samples = 84</text>\n",
              "<text text-anchor=\"start\" x=\"794\" y=\"-372.3\" font-family=\"Helvetica,sans-Serif\" font-size=\"14.00\">value = [47.218, 0.0]</text>\n",
              "<text text-anchor=\"start\" x=\"824\" y=\"-357.3\" font-family=\"Helvetica,sans-Serif\" font-size=\"14.00\">class = No</text>\n",
              "</g>\n",
              "<!-- 3&#45;&gt;13 -->\n",
              "<g id=\"edge13\" class=\"edge\">\n",
              "<title>3&#45;&gt;13</title>\n",
              "<path fill=\"none\" stroke=\"black\" d=\"M856,-460.91C856,-450.2 856,-438.62 856,-427.78\"/>\n",
              "<polygon fill=\"black\" stroke=\"black\" points=\"859.5,-427.67 856,-417.67 852.5,-427.67 859.5,-427.67\"/>\n",
              "</g>\n",
              "<!-- 5 -->\n",
              "<g id=\"node6\" class=\"node\">\n",
              "<title>5</title>\n",
              "<path fill=\"#e68843\" stroke=\"black\" d=\"M293.5,-306C293.5,-306 170.5,-306 170.5,-306 164.5,-306 158.5,-300 158.5,-294 158.5,-294 158.5,-235 158.5,-235 158.5,-229 164.5,-223 170.5,-223 170.5,-223 293.5,-223 293.5,-223 299.5,-223 305.5,-229 305.5,-235 305.5,-235 305.5,-294 305.5,-294 305.5,-300 299.5,-306 293.5,-306\"/>\n",
              "<text text-anchor=\"start\" x=\"178\" y=\"-290.8\" font-family=\"Helvetica,sans-Serif\" font-size=\"14.00\">1stFlrSF ≤ 1825.0</text>\n",
              "<text text-anchor=\"start\" x=\"184.5\" y=\"-275.8\" font-family=\"Helvetica,sans-Serif\" font-size=\"14.00\">entropy = 0.282</text>\n",
              "<text text-anchor=\"start\" x=\"187\" y=\"-260.8\" font-family=\"Helvetica,sans-Serif\" font-size=\"14.00\">samples = 157</text>\n",
              "<text text-anchor=\"start\" x=\"166.5\" y=\"-245.8\" font-family=\"Helvetica,sans-Serif\" font-size=\"14.00\">value = [87.69, 4.525]</text>\n",
              "<text text-anchor=\"start\" x=\"200\" y=\"-230.8\" font-family=\"Helvetica,sans-Serif\" font-size=\"14.00\">class = No</text>\n",
              "</g>\n",
              "<!-- 4&#45;&gt;5 -->\n",
              "<g id=\"edge5\" class=\"edge\">\n",
              "<title>4&#45;&gt;5</title>\n",
              "<path fill=\"none\" stroke=\"black\" d=\"M402.76,-343.54C374.53,-330.64 343.17,-316.31 315.11,-303.48\"/>\n",
              "<polygon fill=\"black\" stroke=\"black\" points=\"316.27,-300.17 305.72,-299.19 313.36,-306.53 316.27,-300.17\"/>\n",
              "</g>\n",
              "<!-- 8 -->\n",
              "<g id=\"node9\" class=\"node\">\n",
              "<title>8</title>\n",
              "<path fill=\"#fdf6f1\" stroke=\"black\" d=\"M561.5,-306C561.5,-306 414.5,-306 414.5,-306 408.5,-306 402.5,-300 402.5,-294 402.5,-294 402.5,-235 402.5,-235 402.5,-229 408.5,-223 414.5,-223 414.5,-223 561.5,-223 561.5,-223 567.5,-223 573.5,-229 573.5,-235 573.5,-235 573.5,-294 573.5,-294 573.5,-300 567.5,-306 561.5,-306\"/>\n",
              "<text text-anchor=\"start\" x=\"410.5\" y=\"-290.8\" font-family=\"Helvetica,sans-Serif\" font-size=\"14.00\">GarageAreaRatio ≤ 0.306</text>\n",
              "<text text-anchor=\"start\" x=\"440.5\" y=\"-275.8\" font-family=\"Helvetica,sans-Serif\" font-size=\"14.00\">entropy = 0.999</text>\n",
              "<text text-anchor=\"start\" x=\"447\" y=\"-260.8\" font-family=\"Helvetica,sans-Serif\" font-size=\"14.00\">samples = 87</text>\n",
              "<text text-anchor=\"start\" x=\"415\" y=\"-245.8\" font-family=\"Helvetica,sans-Serif\" font-size=\"14.00\">value = [43.845, 40.721]</text>\n",
              "<text text-anchor=\"start\" x=\"456\" y=\"-230.8\" font-family=\"Helvetica,sans-Serif\" font-size=\"14.00\">class = No</text>\n",
              "</g>\n",
              "<!-- 4&#45;&gt;8 -->\n",
              "<g id=\"edge8\" class=\"edge\">\n",
              "<title>4&#45;&gt;8</title>\n",
              "<path fill=\"none\" stroke=\"black\" d=\"M488,-341.91C488,-333.65 488,-324.86 488,-316.3\"/>\n",
              "<polygon fill=\"black\" stroke=\"black\" points=\"491.5,-316.02 488,-306.02 484.5,-316.02 491.5,-316.02\"/>\n",
              "</g>\n",
              "<!-- 6 -->\n",
              "<g id=\"node7\" class=\"node\">\n",
              "<title>6</title>\n",
              "<path fill=\"#e58139\" stroke=\"black\" d=\"M128,-179.5C128,-179.5 12,-179.5 12,-179.5 6,-179.5 0,-173.5 0,-167.5 0,-167.5 0,-123.5 0,-123.5 0,-117.5 6,-111.5 12,-111.5 12,-111.5 128,-111.5 128,-111.5 134,-111.5 140,-117.5 140,-123.5 140,-123.5 140,-167.5 140,-167.5 140,-173.5 134,-179.5 128,-179.5\"/>\n",
              "<text text-anchor=\"start\" x=\"27.5\" y=\"-164.3\" font-family=\"Helvetica,sans-Serif\" font-size=\"14.00\">entropy = &#45;0.0</text>\n",
              "<text text-anchor=\"start\" x=\"25\" y=\"-149.3\" font-family=\"Helvetica,sans-Serif\" font-size=\"14.00\">samples = 153</text>\n",
              "<text text-anchor=\"start\" x=\"8\" y=\"-134.3\" font-family=\"Helvetica,sans-Serif\" font-size=\"14.00\">value = [86.004, 0.0]</text>\n",
              "<text text-anchor=\"start\" x=\"38\" y=\"-119.3\" font-family=\"Helvetica,sans-Serif\" font-size=\"14.00\">class = No</text>\n",
              "</g>\n",
              "<!-- 5&#45;&gt;6 -->\n",
              "<g id=\"edge6\" class=\"edge\">\n",
              "<title>5&#45;&gt;6</title>\n",
              "<path fill=\"none\" stroke=\"black\" d=\"M175.79,-222.91C159.14,-210.88 140.94,-197.73 124.4,-185.79\"/>\n",
              "<polygon fill=\"black\" stroke=\"black\" points=\"126.08,-182.68 115.92,-179.67 121.98,-188.36 126.08,-182.68\"/>\n",
              "</g>\n",
              "<!-- 7 -->\n",
              "<g id=\"node8\" class=\"node\">\n",
              "<title>7</title>\n",
              "<path fill=\"#83c2ef\" stroke=\"black\" d=\"M293.5,-179.5C293.5,-179.5 170.5,-179.5 170.5,-179.5 164.5,-179.5 158.5,-173.5 158.5,-167.5 158.5,-167.5 158.5,-123.5 158.5,-123.5 158.5,-117.5 164.5,-111.5 170.5,-111.5 170.5,-111.5 293.5,-111.5 293.5,-111.5 299.5,-111.5 305.5,-117.5 305.5,-123.5 305.5,-123.5 305.5,-167.5 305.5,-167.5 305.5,-173.5 299.5,-179.5 293.5,-179.5\"/>\n",
              "<text text-anchor=\"start\" x=\"184.5\" y=\"-164.3\" font-family=\"Helvetica,sans-Serif\" font-size=\"14.00\">entropy = 0.844</text>\n",
              "<text text-anchor=\"start\" x=\"194.5\" y=\"-149.3\" font-family=\"Helvetica,sans-Serif\" font-size=\"14.00\">samples = 4</text>\n",
              "<text text-anchor=\"start\" x=\"166.5\" y=\"-134.3\" font-family=\"Helvetica,sans-Serif\" font-size=\"14.00\">value = [1.686, 4.525]</text>\n",
              "<text text-anchor=\"start\" x=\"197\" y=\"-119.3\" font-family=\"Helvetica,sans-Serif\" font-size=\"14.00\">class = Yes</text>\n",
              "</g>\n",
              "<!-- 5&#45;&gt;7 -->\n",
              "<g id=\"edge7\" class=\"edge\">\n",
              "<title>5&#45;&gt;7</title>\n",
              "<path fill=\"none\" stroke=\"black\" d=\"M232,-222.91C232,-212.2 232,-200.62 232,-189.78\"/>\n",
              "<polygon fill=\"black\" stroke=\"black\" points=\"235.5,-189.67 232,-179.67 228.5,-189.67 235.5,-189.67\"/>\n",
              "</g>\n",
              "<!-- 9 -->\n",
              "<g id=\"node10\" class=\"node\">\n",
              "<title>9</title>\n",
              "<path fill=\"#b9ddf6\" stroke=\"black\" d=\"M466.5,-187C466.5,-187 335.5,-187 335.5,-187 329.5,-187 323.5,-181 323.5,-175 323.5,-175 323.5,-116 323.5,-116 323.5,-110 329.5,-104 335.5,-104 335.5,-104 466.5,-104 466.5,-104 472.5,-104 478.5,-110 478.5,-116 478.5,-116 478.5,-175 478.5,-175 478.5,-181 472.5,-187 466.5,-187\"/>\n",
              "<text text-anchor=\"start\" x=\"334.5\" y=\"-171.8\" font-family=\"Helvetica,sans-Serif\" font-size=\"14.00\">TotalBsmtSF ≤ 1156.5</text>\n",
              "<text text-anchor=\"start\" x=\"353.5\" y=\"-156.8\" font-family=\"Helvetica,sans-Serif\" font-size=\"14.00\">entropy = 0.967</text>\n",
              "<text text-anchor=\"start\" x=\"360\" y=\"-141.8\" font-family=\"Helvetica,sans-Serif\" font-size=\"14.00\">samples = 56</text>\n",
              "<text text-anchor=\"start\" x=\"331.5\" y=\"-126.8\" font-family=\"Helvetica,sans-Serif\" font-size=\"14.00\">value = [26.42, 40.721]</text>\n",
              "<text text-anchor=\"start\" x=\"366\" y=\"-111.8\" font-family=\"Helvetica,sans-Serif\" font-size=\"14.00\">class = Yes</text>\n",
              "</g>\n",
              "<!-- 8&#45;&gt;9 -->\n",
              "<g id=\"edge9\" class=\"edge\">\n",
              "<title>8&#45;&gt;9</title>\n",
              "<path fill=\"none\" stroke=\"black\" d=\"M457.82,-222.91C451.14,-213.92 443.99,-204.32 437.1,-195.05\"/>\n",
              "<polygon fill=\"black\" stroke=\"black\" points=\"439.91,-192.96 431.13,-187.02 434.29,-197.13 439.91,-192.96\"/>\n",
              "</g>\n",
              "<!-- 12 -->\n",
              "<g id=\"node13\" class=\"node\">\n",
              "<title>12</title>\n",
              "<path fill=\"#e58139\" stroke=\"black\" d=\"M625,-179.5C625,-179.5 509,-179.5 509,-179.5 503,-179.5 497,-173.5 497,-167.5 497,-167.5 497,-123.5 497,-123.5 497,-117.5 503,-111.5 509,-111.5 509,-111.5 625,-111.5 625,-111.5 631,-111.5 637,-117.5 637,-123.5 637,-123.5 637,-167.5 637,-167.5 637,-173.5 631,-179.5 625,-179.5\"/>\n",
              "<text text-anchor=\"start\" x=\"524.5\" y=\"-164.3\" font-family=\"Helvetica,sans-Serif\" font-size=\"14.00\">entropy = &#45;0.0</text>\n",
              "<text text-anchor=\"start\" x=\"526\" y=\"-149.3\" font-family=\"Helvetica,sans-Serif\" font-size=\"14.00\">samples = 31</text>\n",
              "<text text-anchor=\"start\" x=\"505\" y=\"-134.3\" font-family=\"Helvetica,sans-Serif\" font-size=\"14.00\">value = [17.426, 0.0]</text>\n",
              "<text text-anchor=\"start\" x=\"535\" y=\"-119.3\" font-family=\"Helvetica,sans-Serif\" font-size=\"14.00\">class = No</text>\n",
              "</g>\n",
              "<!-- 8&#45;&gt;12 -->\n",
              "<g id=\"edge12\" class=\"edge\">\n",
              "<title>8&#45;&gt;12</title>\n",
              "<path fill=\"none\" stroke=\"black\" d=\"M515.41,-222.91C523.01,-211.65 531.27,-199.42 538.91,-188.11\"/>\n",
              "<polygon fill=\"black\" stroke=\"black\" points=\"541.91,-189.91 544.61,-179.67 536.11,-186 541.91,-189.91\"/>\n",
              "</g>\n",
              "<!-- 10 -->\n",
              "<g id=\"node11\" class=\"node\">\n",
              "<title>10</title>\n",
              "<path fill=\"#efb489\" stroke=\"black\" d=\"M299.5,-68C299.5,-68 168.5,-68 168.5,-68 162.5,-68 156.5,-62 156.5,-56 156.5,-56 156.5,-12 156.5,-12 156.5,-6 162.5,0 168.5,0 168.5,0 299.5,0 299.5,0 305.5,0 311.5,-6 311.5,-12 311.5,-12 311.5,-56 311.5,-56 311.5,-62 305.5,-68 299.5,-68\"/>\n",
              "<text text-anchor=\"start\" x=\"186.5\" y=\"-52.8\" font-family=\"Helvetica,sans-Serif\" font-size=\"14.00\">entropy = 0.865</text>\n",
              "<text text-anchor=\"start\" x=\"193\" y=\"-37.8\" font-family=\"Helvetica,sans-Serif\" font-size=\"14.00\">samples = 42</text>\n",
              "<text text-anchor=\"start\" x=\"164.5\" y=\"-22.8\" font-family=\"Helvetica,sans-Serif\" font-size=\"14.00\">value = [22.485, 9.049]</text>\n",
              "<text text-anchor=\"start\" x=\"202\" y=\"-7.8\" font-family=\"Helvetica,sans-Serif\" font-size=\"14.00\">class = No</text>\n",
              "</g>\n",
              "<!-- 9&#45;&gt;10 -->\n",
              "<g id=\"edge10\" class=\"edge\">\n",
              "<title>9&#45;&gt;10</title>\n",
              "<path fill=\"none\" stroke=\"black\" d=\"M338.82,-103.73C323.85,-93.92 307.91,-83.46 293.1,-73.75\"/>\n",
              "<polygon fill=\"black\" stroke=\"black\" points=\"294.8,-70.68 284.52,-68.13 290.96,-76.54 294.8,-70.68\"/>\n",
              "</g>\n",
              "<!-- 11 -->\n",
              "<g id=\"node12\" class=\"node\">\n",
              "<title>11</title>\n",
              "<path fill=\"#52a9e8\" stroke=\"black\" d=\"M472.5,-68C472.5,-68 341.5,-68 341.5,-68 335.5,-68 329.5,-62 329.5,-56 329.5,-56 329.5,-12 329.5,-12 329.5,-6 335.5,0 341.5,0 341.5,0 472.5,0 472.5,0 478.5,0 484.5,-6 484.5,-12 484.5,-12 484.5,-56 484.5,-56 484.5,-62 478.5,-68 472.5,-68\"/>\n",
              "<text text-anchor=\"start\" x=\"359.5\" y=\"-52.8\" font-family=\"Helvetica,sans-Serif\" font-size=\"14.00\">entropy = 0.501</text>\n",
              "<text text-anchor=\"start\" x=\"366\" y=\"-37.8\" font-family=\"Helvetica,sans-Serif\" font-size=\"14.00\">samples = 14</text>\n",
              "<text text-anchor=\"start\" x=\"337.5\" y=\"-22.8\" font-family=\"Helvetica,sans-Serif\" font-size=\"14.00\">value = [3.935, 31.672]</text>\n",
              "<text text-anchor=\"start\" x=\"372\" y=\"-7.8\" font-family=\"Helvetica,sans-Serif\" font-size=\"14.00\">class = Yes</text>\n",
              "</g>\n",
              "<!-- 9&#45;&gt;11 -->\n",
              "<g id=\"edge11\" class=\"edge\">\n",
              "<title>9&#45;&gt;11</title>\n",
              "<path fill=\"none\" stroke=\"black\" d=\"M403.23,-103.73C403.68,-95.52 404.16,-86.86 404.61,-78.56\"/>\n",
              "<polygon fill=\"black\" stroke=\"black\" points=\"408.12,-78.48 405.18,-68.3 401.13,-78.09 408.12,-78.48\"/>\n",
              "</g>\n",
              "<!-- 15 -->\n",
              "<g id=\"node16\" class=\"node\">\n",
              "<title>15</title>\n",
              "<path fill=\"#f8ddca\" stroke=\"black\" d=\"M1149.5,-425C1149.5,-425 1002.5,-425 1002.5,-425 996.5,-425 990.5,-419 990.5,-413 990.5,-413 990.5,-354 990.5,-354 990.5,-348 996.5,-342 1002.5,-342 1002.5,-342 1149.5,-342 1149.5,-342 1155.5,-342 1161.5,-348 1161.5,-354 1161.5,-354 1161.5,-413 1161.5,-413 1161.5,-419 1155.5,-425 1149.5,-425\"/>\n",
              "<text text-anchor=\"start\" x=\"998.5\" y=\"-409.8\" font-family=\"Helvetica,sans-Serif\" font-size=\"14.00\">GarageAreaRatio ≤ 0.385</text>\n",
              "<text text-anchor=\"start\" x=\"1028.5\" y=\"-394.8\" font-family=\"Helvetica,sans-Serif\" font-size=\"14.00\">entropy = 0.983</text>\n",
              "<text text-anchor=\"start\" x=\"1035\" y=\"-379.8\" font-family=\"Helvetica,sans-Serif\" font-size=\"14.00\">samples = 84</text>\n",
              "<text text-anchor=\"start\" x=\"1003\" y=\"-364.8\" font-family=\"Helvetica,sans-Serif\" font-size=\"14.00\">value = [43.283, 31.672]</text>\n",
              "<text text-anchor=\"start\" x=\"1044\" y=\"-349.8\" font-family=\"Helvetica,sans-Serif\" font-size=\"14.00\">class = No</text>\n",
              "</g>\n",
              "<!-- 14&#45;&gt;15 -->\n",
              "<g id=\"edge15\" class=\"edge\">\n",
              "<title>14&#45;&gt;15</title>\n",
              "<path fill=\"none\" stroke=\"black\" d=\"M1106.69,-460.91C1103.27,-452.38 1099.61,-443.28 1096.07,-434.46\"/>\n",
              "<polygon fill=\"black\" stroke=\"black\" points=\"1099.25,-433 1092.28,-425.02 1092.76,-435.6 1099.25,-433\"/>\n",
              "</g>\n",
              "<!-- 28 -->\n",
              "<g id=\"node29\" class=\"node\">\n",
              "<title>28</title>\n",
              "<path fill=\"#4ea7e8\" stroke=\"black\" d=\"M1314.5,-425C1314.5,-425 1191.5,-425 1191.5,-425 1185.5,-425 1179.5,-419 1179.5,-413 1179.5,-413 1179.5,-354 1179.5,-354 1179.5,-348 1185.5,-342 1191.5,-342 1191.5,-342 1314.5,-342 1314.5,-342 1320.5,-342 1326.5,-348 1326.5,-354 1326.5,-354 1326.5,-413 1326.5,-413 1326.5,-419 1320.5,-425 1314.5,-425\"/>\n",
              "<text text-anchor=\"start\" x=\"1197\" y=\"-409.8\" font-family=\"Helvetica,sans-Serif\" font-size=\"14.00\">BsmtUnfSF ≤ 66.0</text>\n",
              "<text text-anchor=\"start\" x=\"1205.5\" y=\"-394.8\" font-family=\"Helvetica,sans-Serif\" font-size=\"14.00\">entropy = 0.453</text>\n",
              "<text text-anchor=\"start\" x=\"1212\" y=\"-379.8\" font-family=\"Helvetica,sans-Serif\" font-size=\"14.00\">samples = 24</text>\n",
              "<text text-anchor=\"start\" x=\"1187.5\" y=\"-364.8\" font-family=\"Helvetica,sans-Serif\" font-size=\"14.00\">value = [6.183, 58.82]</text>\n",
              "<text text-anchor=\"start\" x=\"1218\" y=\"-349.8\" font-family=\"Helvetica,sans-Serif\" font-size=\"14.00\">class = Yes</text>\n",
              "</g>\n",
              "<!-- 14&#45;&gt;28 -->\n",
              "<g id=\"edge28\" class=\"edge\">\n",
              "<title>14&#45;&gt;28</title>\n",
              "<path fill=\"none\" stroke=\"black\" d=\"M1168.1,-460.91C1178.49,-451.56 1189.62,-441.54 1200.3,-431.93\"/>\n",
              "<polygon fill=\"black\" stroke=\"black\" points=\"1202.89,-434.31 1207.98,-425.02 1198.2,-429.11 1202.89,-434.31\"/>\n",
              "</g>\n",
              "<!-- 16 -->\n",
              "<g id=\"node17\" class=\"node\">\n",
              "<title>16</title>\n",
              "<path fill=\"#a8d4f4\" stroke=\"black\" d=\"M970,-306C970,-306 832,-306 832,-306 826,-306 820,-300 820,-294 820,-294 820,-235 820,-235 820,-229 826,-223 832,-223 832,-223 970,-223 970,-223 976,-223 982,-229 982,-235 982,-235 982,-294 982,-294 982,-300 976,-306 970,-306\"/>\n",
              "<text text-anchor=\"start\" x=\"839\" y=\"-290.8\" font-family=\"Helvetica,sans-Serif\" font-size=\"14.00\">BsmtFinSF1 ≤ 780.0</text>\n",
              "<text text-anchor=\"start\" x=\"853.5\" y=\"-275.8\" font-family=\"Helvetica,sans-Serif\" font-size=\"14.00\">entropy = 0.942</text>\n",
              "<text text-anchor=\"start\" x=\"860\" y=\"-260.8\" font-family=\"Helvetica,sans-Serif\" font-size=\"14.00\">samples = 33</text>\n",
              "<text text-anchor=\"start\" x=\"828\" y=\"-245.8\" font-family=\"Helvetica,sans-Serif\" font-size=\"14.00\">value = [15.177, 27.148]</text>\n",
              "<text text-anchor=\"start\" x=\"866\" y=\"-230.8\" font-family=\"Helvetica,sans-Serif\" font-size=\"14.00\">class = Yes</text>\n",
              "</g>\n",
              "<!-- 15&#45;&gt;16 -->\n",
              "<g id=\"edge16\" class=\"edge\">\n",
              "<title>15&#45;&gt;16</title>\n",
              "<path fill=\"none\" stroke=\"black\" d=\"M1015.28,-341.91C1000.76,-332.2 985.15,-321.76 970.27,-311.81\"/>\n",
              "<polygon fill=\"black\" stroke=\"black\" points=\"971.87,-308.67 961.61,-306.02 967.98,-314.49 971.87,-308.67\"/>\n",
              "</g>\n",
              "<!-- 23 -->\n",
              "<g id=\"node24\" class=\"node\">\n",
              "<title>23</title>\n",
              "<path fill=\"#e99559\" stroke=\"black\" d=\"M1143.5,-306C1143.5,-306 1012.5,-306 1012.5,-306 1006.5,-306 1000.5,-300 1000.5,-294 1000.5,-294 1000.5,-235 1000.5,-235 1000.5,-229 1006.5,-223 1012.5,-223 1012.5,-223 1143.5,-223 1143.5,-223 1149.5,-223 1155.5,-229 1155.5,-235 1155.5,-235 1155.5,-294 1155.5,-294 1155.5,-300 1149.5,-306 1143.5,-306\"/>\n",
              "<text text-anchor=\"start\" x=\"1019\" y=\"-290.8\" font-family=\"Helvetica,sans-Serif\" font-size=\"14.00\">GrLivArea ≤ 1489.0</text>\n",
              "<text text-anchor=\"start\" x=\"1030.5\" y=\"-275.8\" font-family=\"Helvetica,sans-Serif\" font-size=\"14.00\">entropy = 0.581</text>\n",
              "<text text-anchor=\"start\" x=\"1037\" y=\"-260.8\" font-family=\"Helvetica,sans-Serif\" font-size=\"14.00\">samples = 51</text>\n",
              "<text text-anchor=\"start\" x=\"1008.5\" y=\"-245.8\" font-family=\"Helvetica,sans-Serif\" font-size=\"14.00\">value = [28.106, 4.525]</text>\n",
              "<text text-anchor=\"start\" x=\"1046\" y=\"-230.8\" font-family=\"Helvetica,sans-Serif\" font-size=\"14.00\">class = No</text>\n",
              "</g>\n",
              "<!-- 15&#45;&gt;23 -->\n",
              "<g id=\"edge23\" class=\"edge\">\n",
              "<title>15&#45;&gt;23</title>\n",
              "<path fill=\"none\" stroke=\"black\" d=\"M1076.69,-341.91C1076.84,-333.56 1076.99,-324.67 1077.14,-316.02\"/>\n",
              "<polygon fill=\"black\" stroke=\"black\" points=\"1080.64,-316.08 1077.31,-306.02 1073.64,-315.96 1080.64,-316.08\"/>\n",
              "</g>\n",
              "<!-- 17 -->\n",
              "<g id=\"node18\" class=\"node\">\n",
              "<title>17</title>\n",
              "<path fill=\"#efb489\" stroke=\"black\" d=\"M797,-187C797,-187 667,-187 667,-187 661,-187 655,-181 655,-175 655,-175 655,-116 655,-116 655,-110 661,-104 667,-104 667,-104 797,-104 797,-104 803,-104 809,-110 809,-116 809,-116 809,-175 809,-175 809,-181 803,-187 797,-187\"/>\n",
              "<text text-anchor=\"start\" x=\"665.5\" y=\"-171.8\" font-family=\"Helvetica,sans-Serif\" font-size=\"14.00\">WoodDeckSF ≤ 214.0</text>\n",
              "<text text-anchor=\"start\" x=\"684.5\" y=\"-156.8\" font-family=\"Helvetica,sans-Serif\" font-size=\"14.00\">entropy = 0.865</text>\n",
              "<text text-anchor=\"start\" x=\"691\" y=\"-141.8\" font-family=\"Helvetica,sans-Serif\" font-size=\"14.00\">samples = 21</text>\n",
              "<text text-anchor=\"start\" x=\"663\" y=\"-126.8\" font-family=\"Helvetica,sans-Serif\" font-size=\"14.00\">value = [11.242, 4.525]</text>\n",
              "<text text-anchor=\"start\" x=\"700\" y=\"-111.8\" font-family=\"Helvetica,sans-Serif\" font-size=\"14.00\">class = No</text>\n",
              "</g>\n",
              "<!-- 16&#45;&gt;17 -->\n",
              "<g id=\"edge17\" class=\"edge\">\n",
              "<title>16&#45;&gt;17</title>\n",
              "<path fill=\"none\" stroke=\"black\" d=\"M842.37,-222.91C828.34,-213.2 813.26,-202.76 798.89,-192.81\"/>\n",
              "<polygon fill=\"black\" stroke=\"black\" points=\"800.74,-189.84 790.53,-187.02 796.76,-195.59 800.74,-189.84\"/>\n",
              "</g>\n",
              "<!-- 20 -->\n",
              "<g id=\"node21\" class=\"node\">\n",
              "<title>20</title>\n",
              "<path fill=\"#5baeea\" stroke=\"black\" d=\"M970.5,-187C970.5,-187 839.5,-187 839.5,-187 833.5,-187 827.5,-181 827.5,-175 827.5,-175 827.5,-116 827.5,-116 827.5,-110 833.5,-104 839.5,-104 839.5,-104 970.5,-104 970.5,-104 976.5,-104 982.5,-110 982.5,-116 982.5,-116 982.5,-175 982.5,-175 982.5,-181 976.5,-187 970.5,-187\"/>\n",
              "<text text-anchor=\"start\" x=\"856.5\" y=\"-171.8\" font-family=\"Helvetica,sans-Serif\" font-size=\"14.00\">YrSold ≤ 2008.5</text>\n",
              "<text text-anchor=\"start\" x=\"857.5\" y=\"-156.8\" font-family=\"Helvetica,sans-Serif\" font-size=\"14.00\">entropy = 0.605</text>\n",
              "<text text-anchor=\"start\" x=\"864\" y=\"-141.8\" font-family=\"Helvetica,sans-Serif\" font-size=\"14.00\">samples = 12</text>\n",
              "<text text-anchor=\"start\" x=\"835.5\" y=\"-126.8\" font-family=\"Helvetica,sans-Serif\" font-size=\"14.00\">value = [3.935, 22.623]</text>\n",
              "<text text-anchor=\"start\" x=\"870\" y=\"-111.8\" font-family=\"Helvetica,sans-Serif\" font-size=\"14.00\">class = Yes</text>\n",
              "</g>\n",
              "<!-- 16&#45;&gt;20 -->\n",
              "<g id=\"edge20\" class=\"edge\">\n",
              "<title>16&#45;&gt;20</title>\n",
              "<path fill=\"none\" stroke=\"black\" d=\"M902.39,-222.91C902.67,-214.56 902.98,-205.67 903.27,-197.02\"/>\n",
              "<polygon fill=\"black\" stroke=\"black\" points=\"906.77,-197.13 903.61,-187.02 899.77,-196.9 906.77,-197.13\"/>\n",
              "</g>\n",
              "<!-- 18 -->\n",
              "<g id=\"node19\" class=\"node\">\n",
              "<title>18</title>\n",
              "<path fill=\"#e58139\" stroke=\"black\" d=\"M635.5,-68C635.5,-68 520.5,-68 520.5,-68 514.5,-68 508.5,-62 508.5,-56 508.5,-56 508.5,-12 508.5,-12 508.5,-6 514.5,0 520.5,0 520.5,0 635.5,0 635.5,0 641.5,0 647.5,-6 647.5,-12 647.5,-12 647.5,-56 647.5,-56 647.5,-62 641.5,-68 635.5,-68\"/>\n",
              "<text text-anchor=\"start\" x=\"538\" y=\"-52.8\" font-family=\"Helvetica,sans-Serif\" font-size=\"14.00\">entropy = 0.0</text>\n",
              "<text text-anchor=\"start\" x=\"537\" y=\"-37.8\" font-family=\"Helvetica,sans-Serif\" font-size=\"14.00\">samples = 20</text>\n",
              "<text text-anchor=\"start\" x=\"516.5\" y=\"-22.8\" font-family=\"Helvetica,sans-Serif\" font-size=\"14.00\">value = [11.242, 0.0]</text>\n",
              "<text text-anchor=\"start\" x=\"546\" y=\"-7.8\" font-family=\"Helvetica,sans-Serif\" font-size=\"14.00\">class = No</text>\n",
              "</g>\n",
              "<!-- 17&#45;&gt;18 -->\n",
              "<g id=\"edge18\" class=\"edge\">\n",
              "<title>17&#45;&gt;18</title>\n",
              "<path fill=\"none\" stroke=\"black\" d=\"M674.66,-103.73C661.06,-94.06 646.59,-83.77 633.09,-74.17\"/>\n",
              "<polygon fill=\"black\" stroke=\"black\" points=\"635.01,-71.24 624.83,-68.3 630.95,-76.95 635.01,-71.24\"/>\n",
              "</g>\n",
              "<!-- 19 -->\n",
              "<g id=\"node20\" class=\"node\">\n",
              "<title>19</title>\n",
              "<path fill=\"#399de5\" stroke=\"black\" d=\"M786,-68C786,-68 678,-68 678,-68 672,-68 666,-62 666,-56 666,-56 666,-12 666,-12 666,-6 672,0 678,0 678,0 786,0 786,0 792,0 798,-6 798,-12 798,-12 798,-56 798,-56 798,-62 792,-68 786,-68\"/>\n",
              "<text text-anchor=\"start\" x=\"689.5\" y=\"-52.8\" font-family=\"Helvetica,sans-Serif\" font-size=\"14.00\">entropy = &#45;0.0</text>\n",
              "<text text-anchor=\"start\" x=\"694.5\" y=\"-37.8\" font-family=\"Helvetica,sans-Serif\" font-size=\"14.00\">samples = 1</text>\n",
              "<text text-anchor=\"start\" x=\"674\" y=\"-22.8\" font-family=\"Helvetica,sans-Serif\" font-size=\"14.00\">value = [0.0, 4.525]</text>\n",
              "<text text-anchor=\"start\" x=\"697\" y=\"-7.8\" font-family=\"Helvetica,sans-Serif\" font-size=\"14.00\">class = Yes</text>\n",
              "</g>\n",
              "<!-- 17&#45;&gt;19 -->\n",
              "<g id=\"edge19\" class=\"edge\">\n",
              "<title>17&#45;&gt;19</title>\n",
              "<path fill=\"none\" stroke=\"black\" d=\"M732,-103.73C732,-95.52 732,-86.86 732,-78.56\"/>\n",
              "<polygon fill=\"black\" stroke=\"black\" points=\"735.5,-78.3 732,-68.3 728.5,-78.3 735.5,-78.3\"/>\n",
              "</g>\n",
              "<!-- 21 -->\n",
              "<g id=\"node22\" class=\"node\">\n",
              "<title>21</title>\n",
              "<path fill=\"#b4daf5\" stroke=\"black\" d=\"M950,-68C950,-68 828,-68 828,-68 822,-68 816,-62 816,-56 816,-56 816,-12 816,-12 816,-6 822,0 828,0 828,0 950,0 950,0 956,0 962,-6 962,-12 962,-12 962,-56 962,-56 962,-62 956,-68 950,-68\"/>\n",
              "<text text-anchor=\"start\" x=\"845\" y=\"-52.8\" font-family=\"Helvetica,sans-Serif\" font-size=\"14.00\">entropy = 0.96</text>\n",
              "<text text-anchor=\"start\" x=\"851.5\" y=\"-37.8\" font-family=\"Helvetica,sans-Serif\" font-size=\"14.00\">samples = 6</text>\n",
              "<text text-anchor=\"start\" x=\"824\" y=\"-22.8\" font-family=\"Helvetica,sans-Serif\" font-size=\"14.00\">value = [2.811, 4.525]</text>\n",
              "<text text-anchor=\"start\" x=\"854\" y=\"-7.8\" font-family=\"Helvetica,sans-Serif\" font-size=\"14.00\">class = Yes</text>\n",
              "</g>\n",
              "<!-- 20&#45;&gt;21 -->\n",
              "<g id=\"edge21\" class=\"edge\">\n",
              "<title>20&#45;&gt;21</title>\n",
              "<path fill=\"none\" stroke=\"black\" d=\"M899.04,-103.73C897.83,-95.43 896.55,-86.67 895.32,-78.28\"/>\n",
              "<polygon fill=\"black\" stroke=\"black\" points=\"898.77,-77.69 893.87,-68.3 891.85,-78.7 898.77,-77.69\"/>\n",
              "</g>\n",
              "<!-- 22 -->\n",
              "<g id=\"node23\" class=\"node\">\n",
              "<title>22</title>\n",
              "<path fill=\"#45a3e7\" stroke=\"black\" d=\"M1123.5,-68C1123.5,-68 992.5,-68 992.5,-68 986.5,-68 980.5,-62 980.5,-56 980.5,-56 980.5,-12 980.5,-12 980.5,-6 986.5,0 992.5,0 992.5,0 1123.5,0 1123.5,0 1129.5,0 1135.5,-6 1135.5,-12 1135.5,-12 1135.5,-56 1135.5,-56 1135.5,-62 1129.5,-68 1123.5,-68\"/>\n",
              "<text text-anchor=\"start\" x=\"1010.5\" y=\"-52.8\" font-family=\"Helvetica,sans-Serif\" font-size=\"14.00\">entropy = 0.321</text>\n",
              "<text text-anchor=\"start\" x=\"1020.5\" y=\"-37.8\" font-family=\"Helvetica,sans-Serif\" font-size=\"14.00\">samples = 6</text>\n",
              "<text text-anchor=\"start\" x=\"988.5\" y=\"-22.8\" font-family=\"Helvetica,sans-Serif\" font-size=\"14.00\">value = [1.124, 18.098]</text>\n",
              "<text text-anchor=\"start\" x=\"1023\" y=\"-7.8\" font-family=\"Helvetica,sans-Serif\" font-size=\"14.00\">class = Yes</text>\n",
              "</g>\n",
              "<!-- 20&#45;&gt;22 -->\n",
              "<g id=\"edge22\" class=\"edge\">\n",
              "<title>20&#45;&gt;22</title>\n",
              "<path fill=\"none\" stroke=\"black\" d=\"M961.97,-103.73C975.48,-94.06 989.86,-83.77 1003.27,-74.17\"/>\n",
              "<polygon fill=\"black\" stroke=\"black\" points=\"1005.38,-76.97 1011.47,-68.3 1001.3,-71.27 1005.38,-76.97\"/>\n",
              "</g>\n",
              "<!-- 24 -->\n",
              "<g id=\"node25\" class=\"node\">\n",
              "<title>24</title>\n",
              "<path fill=\"#e58139\" stroke=\"black\" d=\"M1133,-179.5C1133,-179.5 1017,-179.5 1017,-179.5 1011,-179.5 1005,-173.5 1005,-167.5 1005,-167.5 1005,-123.5 1005,-123.5 1005,-117.5 1011,-111.5 1017,-111.5 1017,-111.5 1133,-111.5 1133,-111.5 1139,-111.5 1145,-117.5 1145,-123.5 1145,-123.5 1145,-167.5 1145,-167.5 1145,-173.5 1139,-179.5 1133,-179.5\"/>\n",
              "<text text-anchor=\"start\" x=\"1032.5\" y=\"-164.3\" font-family=\"Helvetica,sans-Serif\" font-size=\"14.00\">entropy = &#45;0.0</text>\n",
              "<text text-anchor=\"start\" x=\"1034\" y=\"-149.3\" font-family=\"Helvetica,sans-Serif\" font-size=\"14.00\">samples = 32</text>\n",
              "<text text-anchor=\"start\" x=\"1013\" y=\"-134.3\" font-family=\"Helvetica,sans-Serif\" font-size=\"14.00\">value = [17.988, 0.0]</text>\n",
              "<text text-anchor=\"start\" x=\"1043\" y=\"-119.3\" font-family=\"Helvetica,sans-Serif\" font-size=\"14.00\">class = No</text>\n",
              "</g>\n",
              "<!-- 23&#45;&gt;24 -->\n",
              "<g id=\"edge24\" class=\"edge\">\n",
              "<title>23&#45;&gt;24</title>\n",
              "<path fill=\"none\" stroke=\"black\" d=\"M1076.96,-222.91C1076.68,-212.2 1076.39,-200.62 1076.11,-189.78\"/>\n",
              "<polygon fill=\"black\" stroke=\"black\" points=\"1079.61,-189.57 1075.85,-179.67 1072.61,-189.75 1079.61,-189.57\"/>\n",
              "</g>\n",
              "<!-- 25 -->\n",
              "<g id=\"node26\" class=\"node\">\n",
              "<title>25</title>\n",
              "<path fill=\"#f1b992\" stroke=\"black\" d=\"M1305,-187C1305,-187 1175,-187 1175,-187 1169,-187 1163,-181 1163,-175 1163,-175 1163,-116 1163,-116 1163,-110 1169,-104 1175,-104 1175,-104 1305,-104 1305,-104 1311,-104 1317,-110 1317,-116 1317,-116 1317,-175 1317,-175 1317,-181 1311,-187 1305,-187\"/>\n",
              "<text text-anchor=\"start\" x=\"1181\" y=\"-171.8\" font-family=\"Helvetica,sans-Serif\" font-size=\"14.00\">SaleCondition ≤ 4.5</text>\n",
              "<text text-anchor=\"start\" x=\"1192.5\" y=\"-156.8\" font-family=\"Helvetica,sans-Serif\" font-size=\"14.00\">entropy = 0.892</text>\n",
              "<text text-anchor=\"start\" x=\"1199\" y=\"-141.8\" font-family=\"Helvetica,sans-Serif\" font-size=\"14.00\">samples = 19</text>\n",
              "<text text-anchor=\"start\" x=\"1171\" y=\"-126.8\" font-family=\"Helvetica,sans-Serif\" font-size=\"14.00\">value = [10.118, 4.525]</text>\n",
              "<text text-anchor=\"start\" x=\"1208\" y=\"-111.8\" font-family=\"Helvetica,sans-Serif\" font-size=\"14.00\">class = No</text>\n",
              "</g>\n",
              "<!-- 23&#45;&gt;25 -->\n",
              "<g id=\"edge25\" class=\"edge\">\n",
              "<title>23&#45;&gt;25</title>\n",
              "<path fill=\"none\" stroke=\"black\" d=\"M1134.21,-222.91C1147.52,-213.29 1161.83,-202.95 1175.49,-193.09\"/>\n",
              "<polygon fill=\"black\" stroke=\"black\" points=\"1177.84,-195.71 1183.89,-187.02 1173.74,-190.04 1177.84,-195.71\"/>\n",
              "</g>\n",
              "<!-- 26 -->\n",
              "<g id=\"node27\" class=\"node\">\n",
              "<title>26</title>\n",
              "<path fill=\"#e58139\" stroke=\"black\" d=\"M1274,-68C1274,-68 1166,-68 1166,-68 1160,-68 1154,-62 1154,-56 1154,-56 1154,-12 1154,-12 1154,-6 1160,0 1166,0 1166,0 1274,0 1274,0 1280,0 1286,-6 1286,-12 1286,-12 1286,-56 1286,-56 1286,-62 1280,-68 1274,-68\"/>\n",
              "<text text-anchor=\"start\" x=\"1177.5\" y=\"-52.8\" font-family=\"Helvetica,sans-Serif\" font-size=\"14.00\">entropy = &#45;0.0</text>\n",
              "<text text-anchor=\"start\" x=\"1179\" y=\"-37.8\" font-family=\"Helvetica,sans-Serif\" font-size=\"14.00\">samples = 11</text>\n",
              "<text text-anchor=\"start\" x=\"1162\" y=\"-22.8\" font-family=\"Helvetica,sans-Serif\" font-size=\"14.00\">value = [6.183, 0.0]</text>\n",
              "<text text-anchor=\"start\" x=\"1188\" y=\"-7.8\" font-family=\"Helvetica,sans-Serif\" font-size=\"14.00\">class = No</text>\n",
              "</g>\n",
              "<!-- 25&#45;&gt;26 -->\n",
              "<g id=\"edge26\" class=\"edge\">\n",
              "<title>25&#45;&gt;26</title>\n",
              "<path fill=\"none\" stroke=\"black\" d=\"M1232.55,-103.73C1231.04,-95.43 1229.44,-86.67 1227.91,-78.28\"/>\n",
              "<polygon fill=\"black\" stroke=\"black\" points=\"1231.32,-77.51 1226.08,-68.3 1224.44,-78.77 1231.32,-77.51\"/>\n",
              "</g>\n",
              "<!-- 27 -->\n",
              "<g id=\"node28\" class=\"node\">\n",
              "<title>27</title>\n",
              "<path fill=\"#e5f2fc\" stroke=\"black\" d=\"M1439.5,-68C1439.5,-68 1316.5,-68 1316.5,-68 1310.5,-68 1304.5,-62 1304.5,-56 1304.5,-56 1304.5,-12 1304.5,-12 1304.5,-6 1310.5,0 1316.5,0 1316.5,0 1439.5,0 1439.5,0 1445.5,0 1451.5,-6 1451.5,-12 1451.5,-12 1451.5,-56 1451.5,-56 1451.5,-62 1445.5,-68 1439.5,-68\"/>\n",
              "<text text-anchor=\"start\" x=\"1330.5\" y=\"-52.8\" font-family=\"Helvetica,sans-Serif\" font-size=\"14.00\">entropy = 0.996</text>\n",
              "<text text-anchor=\"start\" x=\"1340.5\" y=\"-37.8\" font-family=\"Helvetica,sans-Serif\" font-size=\"14.00\">samples = 8</text>\n",
              "<text text-anchor=\"start\" x=\"1312.5\" y=\"-22.8\" font-family=\"Helvetica,sans-Serif\" font-size=\"14.00\">value = [3.935, 4.525]</text>\n",
              "<text text-anchor=\"start\" x=\"1343\" y=\"-7.8\" font-family=\"Helvetica,sans-Serif\" font-size=\"14.00\">class = Yes</text>\n",
              "</g>\n",
              "<!-- 25&#45;&gt;27 -->\n",
              "<g id=\"edge27\" class=\"edge\">\n",
              "<title>25&#45;&gt;27</title>\n",
              "<path fill=\"none\" stroke=\"black\" d=\"M1291.39,-103.73C1303.34,-94.24 1316.05,-84.16 1327.95,-74.72\"/>\n",
              "<polygon fill=\"black\" stroke=\"black\" points=\"1330.38,-77.26 1336.03,-68.3 1326.02,-71.77 1330.38,-77.26\"/>\n",
              "</g>\n",
              "<!-- 29 -->\n",
              "<g id=\"node30\" class=\"node\">\n",
              "<title>29</title>\n",
              "<path fill=\"#e58139\" stroke=\"black\" d=\"M1304,-298.5C1304,-298.5 1196,-298.5 1196,-298.5 1190,-298.5 1184,-292.5 1184,-286.5 1184,-286.5 1184,-242.5 1184,-242.5 1184,-236.5 1190,-230.5 1196,-230.5 1196,-230.5 1304,-230.5 1304,-230.5 1310,-230.5 1316,-236.5 1316,-242.5 1316,-242.5 1316,-286.5 1316,-286.5 1316,-292.5 1310,-298.5 1304,-298.5\"/>\n",
              "<text text-anchor=\"start\" x=\"1210\" y=\"-283.3\" font-family=\"Helvetica,sans-Serif\" font-size=\"14.00\">entropy = 0.0</text>\n",
              "<text text-anchor=\"start\" x=\"1212.5\" y=\"-268.3\" font-family=\"Helvetica,sans-Serif\" font-size=\"14.00\">samples = 2</text>\n",
              "<text text-anchor=\"start\" x=\"1192\" y=\"-253.3\" font-family=\"Helvetica,sans-Serif\" font-size=\"14.00\">value = [1.124, 0.0]</text>\n",
              "<text text-anchor=\"start\" x=\"1218\" y=\"-238.3\" font-family=\"Helvetica,sans-Serif\" font-size=\"14.00\">class = No</text>\n",
              "</g>\n",
              "<!-- 28&#45;&gt;29 -->\n",
              "<g id=\"edge29\" class=\"edge\">\n",
              "<title>28&#45;&gt;29</title>\n",
              "<path fill=\"none\" stroke=\"black\" d=\"M1251.96,-341.91C1251.68,-331.2 1251.39,-319.62 1251.11,-308.78\"/>\n",
              "<polygon fill=\"black\" stroke=\"black\" points=\"1254.61,-308.57 1250.85,-298.67 1247.61,-308.75 1254.61,-308.57\"/>\n",
              "</g>\n",
              "<!-- 30 -->\n",
              "<g id=\"node31\" class=\"node\">\n",
              "<title>30</title>\n",
              "<path fill=\"#4aa5e7\" stroke=\"black\" d=\"M1469.5,-306C1469.5,-306 1346.5,-306 1346.5,-306 1340.5,-306 1334.5,-300 1334.5,-294 1334.5,-294 1334.5,-235 1334.5,-235 1334.5,-229 1340.5,-223 1346.5,-223 1346.5,-223 1469.5,-223 1469.5,-223 1475.5,-223 1481.5,-229 1481.5,-235 1481.5,-235 1481.5,-294 1481.5,-294 1481.5,-300 1475.5,-306 1469.5,-306\"/>\n",
              "<text text-anchor=\"start\" x=\"1359.5\" y=\"-290.8\" font-family=\"Helvetica,sans-Serif\" font-size=\"14.00\">Functional ≤ 4.0</text>\n",
              "<text text-anchor=\"start\" x=\"1360.5\" y=\"-275.8\" font-family=\"Helvetica,sans-Serif\" font-size=\"14.00\">entropy = 0.399</text>\n",
              "<text text-anchor=\"start\" x=\"1367\" y=\"-260.8\" font-family=\"Helvetica,sans-Serif\" font-size=\"14.00\">samples = 22</text>\n",
              "<text text-anchor=\"start\" x=\"1342.5\" y=\"-245.8\" font-family=\"Helvetica,sans-Serif\" font-size=\"14.00\">value = [5.059, 58.82]</text>\n",
              "<text text-anchor=\"start\" x=\"1373\" y=\"-230.8\" font-family=\"Helvetica,sans-Serif\" font-size=\"14.00\">class = Yes</text>\n",
              "</g>\n",
              "<!-- 28&#45;&gt;30 -->\n",
              "<g id=\"edge30\" class=\"edge\">\n",
              "<title>28&#45;&gt;30</title>\n",
              "<path fill=\"none\" stroke=\"black\" d=\"M1306.78,-341.91C1319.52,-332.29 1333.21,-321.95 1346.28,-312.09\"/>\n",
              "<polygon fill=\"black\" stroke=\"black\" points=\"1348.45,-314.84 1354.32,-306.02 1344.23,-309.25 1348.45,-314.84\"/>\n",
              "</g>\n",
              "<!-- 31 -->\n",
              "<g id=\"node32\" class=\"node\">\n",
              "<title>31</title>\n",
              "<path fill=\"#e58139\" stroke=\"black\" d=\"M1456,-179.5C1456,-179.5 1348,-179.5 1348,-179.5 1342,-179.5 1336,-173.5 1336,-167.5 1336,-167.5 1336,-123.5 1336,-123.5 1336,-117.5 1342,-111.5 1348,-111.5 1348,-111.5 1456,-111.5 1456,-111.5 1462,-111.5 1468,-117.5 1468,-123.5 1468,-123.5 1468,-167.5 1468,-167.5 1468,-173.5 1462,-179.5 1456,-179.5\"/>\n",
              "<text text-anchor=\"start\" x=\"1362\" y=\"-164.3\" font-family=\"Helvetica,sans-Serif\" font-size=\"14.00\">entropy = 0.0</text>\n",
              "<text text-anchor=\"start\" x=\"1364.5\" y=\"-149.3\" font-family=\"Helvetica,sans-Serif\" font-size=\"14.00\">samples = 1</text>\n",
              "<text text-anchor=\"start\" x=\"1344\" y=\"-134.3\" font-family=\"Helvetica,sans-Serif\" font-size=\"14.00\">value = [0.562, 0.0]</text>\n",
              "<text text-anchor=\"start\" x=\"1370\" y=\"-119.3\" font-family=\"Helvetica,sans-Serif\" font-size=\"14.00\">class = No</text>\n",
              "</g>\n",
              "<!-- 30&#45;&gt;31 -->\n",
              "<g id=\"edge31\" class=\"edge\">\n",
              "<title>30&#45;&gt;31</title>\n",
              "<path fill=\"none\" stroke=\"black\" d=\"M1405.92,-222.91C1405.37,-212.2 1404.78,-200.62 1404.22,-189.78\"/>\n",
              "<polygon fill=\"black\" stroke=\"black\" points=\"1407.71,-189.47 1403.7,-179.67 1400.72,-189.83 1407.71,-189.47\"/>\n",
              "</g>\n",
              "<!-- 32 -->\n",
              "<g id=\"node33\" class=\"node\">\n",
              "<title>32</title>\n",
              "<path fill=\"#48a4e7\" stroke=\"black\" d=\"M1621.5,-187C1621.5,-187 1498.5,-187 1498.5,-187 1492.5,-187 1486.5,-181 1486.5,-175 1486.5,-175 1486.5,-116 1486.5,-116 1486.5,-110 1492.5,-104 1498.5,-104 1498.5,-104 1621.5,-104 1621.5,-104 1627.5,-104 1633.5,-110 1633.5,-116 1633.5,-116 1633.5,-175 1633.5,-175 1633.5,-181 1627.5,-187 1621.5,-187\"/>\n",
              "<text text-anchor=\"start\" x=\"1507.5\" y=\"-171.8\" font-family=\"Helvetica,sans-Serif\" font-size=\"14.00\">2ndFlrSF ≤ 429.0</text>\n",
              "<text text-anchor=\"start\" x=\"1516\" y=\"-156.8\" font-family=\"Helvetica,sans-Serif\" font-size=\"14.00\">entropy = 0.37</text>\n",
              "<text text-anchor=\"start\" x=\"1519\" y=\"-141.8\" font-family=\"Helvetica,sans-Serif\" font-size=\"14.00\">samples = 21</text>\n",
              "<text text-anchor=\"start\" x=\"1494.5\" y=\"-126.8\" font-family=\"Helvetica,sans-Serif\" font-size=\"14.00\">value = [4.497, 58.82]</text>\n",
              "<text text-anchor=\"start\" x=\"1525\" y=\"-111.8\" font-family=\"Helvetica,sans-Serif\" font-size=\"14.00\">class = Yes</text>\n",
              "</g>\n",
              "<!-- 30&#45;&gt;32 -->\n",
              "<g id=\"edge32\" class=\"edge\">\n",
              "<title>30&#45;&gt;32</title>\n",
              "<path fill=\"none\" stroke=\"black\" d=\"M1460.74,-222.91C1473.12,-213.38 1486.41,-203.15 1499.11,-193.37\"/>\n",
              "<polygon fill=\"black\" stroke=\"black\" points=\"1501.57,-195.89 1507.36,-187.02 1497.3,-190.35 1501.57,-195.89\"/>\n",
              "</g>\n",
              "<!-- 33 -->\n",
              "<g id=\"node34\" class=\"node\">\n",
              "<title>33</title>\n",
              "<path fill=\"#e58139\" stroke=\"black\" d=\"M1590,-68C1590,-68 1482,-68 1482,-68 1476,-68 1470,-62 1470,-56 1470,-56 1470,-12 1470,-12 1470,-6 1476,0 1482,0 1482,0 1590,0 1590,0 1596,0 1602,-6 1602,-12 1602,-12 1602,-56 1602,-56 1602,-62 1596,-68 1590,-68\"/>\n",
              "<text text-anchor=\"start\" x=\"1496\" y=\"-52.8\" font-family=\"Helvetica,sans-Serif\" font-size=\"14.00\">entropy = 0.0</text>\n",
              "<text text-anchor=\"start\" x=\"1498.5\" y=\"-37.8\" font-family=\"Helvetica,sans-Serif\" font-size=\"14.00\">samples = 2</text>\n",
              "<text text-anchor=\"start\" x=\"1478\" y=\"-22.8\" font-family=\"Helvetica,sans-Serif\" font-size=\"14.00\">value = [1.124, 0.0]</text>\n",
              "<text text-anchor=\"start\" x=\"1504\" y=\"-7.8\" font-family=\"Helvetica,sans-Serif\" font-size=\"14.00\">class = No</text>\n",
              "</g>\n",
              "<!-- 32&#45;&gt;33 -->\n",
              "<g id=\"edge33\" class=\"edge\">\n",
              "<title>32&#45;&gt;33</title>\n",
              "<path fill=\"none\" stroke=\"black\" d=\"M1551.06,-103.73C1549.24,-95.43 1547.32,-86.67 1545.49,-78.28\"/>\n",
              "<polygon fill=\"black\" stroke=\"black\" points=\"1548.86,-77.32 1543.3,-68.3 1542.02,-78.82 1548.86,-77.32\"/>\n",
              "</g>\n",
              "<!-- 34 -->\n",
              "<g id=\"node35\" class=\"node\">\n",
              "<title>34</title>\n",
              "<path fill=\"#44a3e6\" stroke=\"black\" d=\"M1755.5,-68C1755.5,-68 1632.5,-68 1632.5,-68 1626.5,-68 1620.5,-62 1620.5,-56 1620.5,-56 1620.5,-12 1620.5,-12 1620.5,-6 1626.5,0 1632.5,0 1632.5,0 1755.5,0 1755.5,0 1761.5,0 1767.5,-6 1767.5,-12 1767.5,-12 1767.5,-56 1767.5,-56 1767.5,-62 1761.5,-68 1755.5,-68\"/>\n",
              "<text text-anchor=\"start\" x=\"1646.5\" y=\"-52.8\" font-family=\"Helvetica,sans-Serif\" font-size=\"14.00\">entropy = 0.304</text>\n",
              "<text text-anchor=\"start\" x=\"1653\" y=\"-37.8\" font-family=\"Helvetica,sans-Serif\" font-size=\"14.00\">samples = 19</text>\n",
              "<text text-anchor=\"start\" x=\"1628.5\" y=\"-22.8\" font-family=\"Helvetica,sans-Serif\" font-size=\"14.00\">value = [3.373, 58.82]</text>\n",
              "<text text-anchor=\"start\" x=\"1659\" y=\"-7.8\" font-family=\"Helvetica,sans-Serif\" font-size=\"14.00\">class = Yes</text>\n",
              "</g>\n",
              "<!-- 32&#45;&gt;34 -->\n",
              "<g id=\"edge34\" class=\"edge\">\n",
              "<title>32&#45;&gt;34</title>\n",
              "<path fill=\"none\" stroke=\"black\" d=\"M1609.9,-103.73C1621.5,-94.24 1633.85,-84.16 1645.4,-74.72\"/>\n",
              "<polygon fill=\"black\" stroke=\"black\" points=\"1647.72,-77.34 1653.25,-68.3 1643.29,-71.92 1647.72,-77.34\"/>\n",
              "</g>\n",
              "<!-- 36 -->\n",
              "<g id=\"node37\" class=\"node\">\n",
              "<title>36</title>\n",
              "<path fill=\"#6db7ec\" stroke=\"black\" d=\"M2589.5,-544C2589.5,-544 2442.5,-544 2442.5,-544 2436.5,-544 2430.5,-538 2430.5,-532 2430.5,-532 2430.5,-473 2430.5,-473 2430.5,-467 2436.5,-461 2442.5,-461 2442.5,-461 2589.5,-461 2589.5,-461 2595.5,-461 2601.5,-467 2601.5,-473 2601.5,-473 2601.5,-532 2601.5,-532 2601.5,-538 2595.5,-544 2589.5,-544\"/>\n",
              "<text text-anchor=\"start\" x=\"2438.5\" y=\"-528.8\" font-family=\"Helvetica,sans-Serif\" font-size=\"14.00\">GarageAreaRatio ≤ 0.325</text>\n",
              "<text text-anchor=\"start\" x=\"2468.5\" y=\"-513.8\" font-family=\"Helvetica,sans-Serif\" font-size=\"14.00\">entropy = 0.736</text>\n",
              "<text text-anchor=\"start\" x=\"2475\" y=\"-498.8\" font-family=\"Helvetica,sans-Serif\" font-size=\"14.00\">samples = 31</text>\n",
              "<text text-anchor=\"start\" x=\"2443.5\" y=\"-483.8\" font-family=\"Helvetica,sans-Serif\" font-size=\"14.00\">value = [11.804, 45.246]</text>\n",
              "<text text-anchor=\"start\" x=\"2481\" y=\"-468.8\" font-family=\"Helvetica,sans-Serif\" font-size=\"14.00\">class = Yes</text>\n",
              "</g>\n",
              "<!-- 35&#45;&gt;36 -->\n",
              "<g id=\"edge36\" class=\"edge\">\n",
              "<title>35&#45;&gt;36</title>\n",
              "<path fill=\"none\" stroke=\"black\" d=\"M2731.95,-587.44C2694.37,-572.83 2650.03,-555.6 2611.33,-540.55\"/>\n",
              "<polygon fill=\"black\" stroke=\"black\" points=\"2612.21,-537.14 2601.62,-536.78 2609.67,-543.67 2612.21,-537.14\"/>\n",
              "</g>\n",
              "<!-- 49 -->\n",
              "<g id=\"node50\" class=\"node\">\n",
              "<title>49</title>\n",
              "<path fill=\"#42a1e6\" stroke=\"black\" d=\"M2901,-544C2901,-544 2763,-544 2763,-544 2757,-544 2751,-538 2751,-532 2751,-532 2751,-473 2751,-473 2751,-467 2757,-461 2763,-461 2763,-461 2901,-461 2901,-461 2907,-461 2913,-467 2913,-473 2913,-473 2913,-532 2913,-532 2913,-538 2907,-544 2901,-544\"/>\n",
              "<text text-anchor=\"start\" x=\"2773\" y=\"-528.8\" font-family=\"Helvetica,sans-Serif\" font-size=\"14.00\">MasVnrArea ≤ 82.0</text>\n",
              "<text text-anchor=\"start\" x=\"2784.5\" y=\"-513.8\" font-family=\"Helvetica,sans-Serif\" font-size=\"14.00\">entropy = 0.248</text>\n",
              "<text text-anchor=\"start\" x=\"2791\" y=\"-498.8\" font-family=\"Helvetica,sans-Serif\" font-size=\"14.00\">samples = 97</text>\n",
              "<text text-anchor=\"start\" x=\"2759\" y=\"-483.8\" font-family=\"Helvetica,sans-Serif\" font-size=\"14.00\">value = [14.053, 325.77]</text>\n",
              "<text text-anchor=\"start\" x=\"2797\" y=\"-468.8\" font-family=\"Helvetica,sans-Serif\" font-size=\"14.00\">class = Yes</text>\n",
              "</g>\n",
              "<!-- 35&#45;&gt;49 -->\n",
              "<g id=\"edge49\" class=\"edge\">\n",
              "<title>35&#45;&gt;49</title>\n",
              "<path fill=\"none\" stroke=\"black\" d=\"M2822.2,-579.91C2823.27,-571.56 2824.41,-562.67 2825.52,-554.02\"/>\n",
              "<polygon fill=\"black\" stroke=\"black\" points=\"2829,-554.38 2826.81,-544.02 2822.06,-553.49 2829,-554.38\"/>\n",
              "</g>\n",
              "<!-- 37 -->\n",
              "<g id=\"node38\" class=\"node\">\n",
              "<title>37</title>\n",
              "<path fill=\"#59ade9\" stroke=\"black\" d=\"M2360.5,-425C2360.5,-425 2229.5,-425 2229.5,-425 2223.5,-425 2217.5,-419 2217.5,-413 2217.5,-413 2217.5,-354 2217.5,-354 2217.5,-348 2223.5,-342 2229.5,-342 2229.5,-342 2360.5,-342 2360.5,-342 2366.5,-342 2372.5,-348 2372.5,-354 2372.5,-354 2372.5,-413 2372.5,-413 2372.5,-419 2366.5,-425 2360.5,-425\"/>\n",
              "<text text-anchor=\"start\" x=\"2231.5\" y=\"-409.8\" font-family=\"Helvetica,sans-Serif\" font-size=\"14.00\">BsmtUnfSF ≤ 1207.0</text>\n",
              "<text text-anchor=\"start\" x=\"2247.5\" y=\"-394.8\" font-family=\"Helvetica,sans-Serif\" font-size=\"14.00\">entropy = 0.582</text>\n",
              "<text text-anchor=\"start\" x=\"2254\" y=\"-379.8\" font-family=\"Helvetica,sans-Serif\" font-size=\"14.00\">samples = 23</text>\n",
              "<text text-anchor=\"start\" x=\"2225.5\" y=\"-364.8\" font-family=\"Helvetica,sans-Serif\" font-size=\"14.00\">value = [7.308, 45.246]</text>\n",
              "<text text-anchor=\"start\" x=\"2260\" y=\"-349.8\" font-family=\"Helvetica,sans-Serif\" font-size=\"14.00\">class = Yes</text>\n",
              "</g>\n",
              "<!-- 36&#45;&gt;37 -->\n",
              "<g id=\"edge37\" class=\"edge\">\n",
              "<title>36&#45;&gt;37</title>\n",
              "<path fill=\"none\" stroke=\"black\" d=\"M2439.33,-460.91C2420.38,-450.88 2399.97,-440.07 2380.64,-429.84\"/>\n",
              "<polygon fill=\"black\" stroke=\"black\" points=\"2382.01,-426.61 2371.54,-425.02 2378.74,-432.79 2382.01,-426.61\"/>\n",
              "</g>\n",
              "<!-- 46 -->\n",
              "<g id=\"node47\" class=\"node\">\n",
              "<title>46</title>\n",
              "<path fill=\"#e58139\" stroke=\"black\" d=\"M2570,-425C2570,-425 2462,-425 2462,-425 2456,-425 2450,-419 2450,-413 2450,-413 2450,-354 2450,-354 2450,-348 2456,-342 2462,-342 2462,-342 2570,-342 2570,-342 2576,-342 2582,-348 2582,-354 2582,-354 2582,-413 2582,-413 2582,-419 2576,-425 2570,-425\"/>\n",
              "<text text-anchor=\"start\" x=\"2462.5\" y=\"-409.8\" font-family=\"Helvetica,sans-Serif\" font-size=\"14.00\">1stFlrSF ≤ 1158.0</text>\n",
              "<text text-anchor=\"start\" x=\"2476\" y=\"-394.8\" font-family=\"Helvetica,sans-Serif\" font-size=\"14.00\">entropy = 0.0</text>\n",
              "<text text-anchor=\"start\" x=\"2478.5\" y=\"-379.8\" font-family=\"Helvetica,sans-Serif\" font-size=\"14.00\">samples = 8</text>\n",
              "<text text-anchor=\"start\" x=\"2458\" y=\"-364.8\" font-family=\"Helvetica,sans-Serif\" font-size=\"14.00\">value = [4.497, 0.0]</text>\n",
              "<text text-anchor=\"start\" x=\"2484\" y=\"-349.8\" font-family=\"Helvetica,sans-Serif\" font-size=\"14.00\">class = No</text>\n",
              "</g>\n",
              "<!-- 36&#45;&gt;46 -->\n",
              "<g id=\"edge46\" class=\"edge\">\n",
              "<title>36&#45;&gt;46</title>\n",
              "<path fill=\"none\" stroke=\"black\" d=\"M2516,-460.91C2516,-452.65 2516,-443.86 2516,-435.3\"/>\n",
              "<polygon fill=\"black\" stroke=\"black\" points=\"2519.5,-435.02 2516,-425.02 2512.5,-435.02 2519.5,-435.02\"/>\n",
              "</g>\n",
              "<!-- 38 -->\n",
              "<g id=\"node39\" class=\"node\">\n",
              "<title>38</title>\n",
              "<path fill=\"#52a9e8\" stroke=\"black\" d=\"M2198.5,-306C2198.5,-306 2067.5,-306 2067.5,-306 2061.5,-306 2055.5,-300 2055.5,-294 2055.5,-294 2055.5,-235 2055.5,-235 2055.5,-229 2061.5,-223 2067.5,-223 2067.5,-223 2198.5,-223 2198.5,-223 2204.5,-223 2210.5,-229 2210.5,-235 2210.5,-235 2210.5,-294 2210.5,-294 2210.5,-300 2204.5,-306 2198.5,-306\"/>\n",
              "<text text-anchor=\"start\" x=\"2080.5\" y=\"-290.8\" font-family=\"Helvetica,sans-Serif\" font-size=\"14.00\">2ndFlrSF ≤ 622.5</text>\n",
              "<text text-anchor=\"start\" x=\"2085.5\" y=\"-275.8\" font-family=\"Helvetica,sans-Serif\" font-size=\"14.00\">entropy = 0.501</text>\n",
              "<text text-anchor=\"start\" x=\"2092\" y=\"-260.8\" font-family=\"Helvetica,sans-Serif\" font-size=\"14.00\">samples = 20</text>\n",
              "<text text-anchor=\"start\" x=\"2063.5\" y=\"-245.8\" font-family=\"Helvetica,sans-Serif\" font-size=\"14.00\">value = [5.621, 45.246]</text>\n",
              "<text text-anchor=\"start\" x=\"2098\" y=\"-230.8\" font-family=\"Helvetica,sans-Serif\" font-size=\"14.00\">class = Yes</text>\n",
              "</g>\n",
              "<!-- 37&#45;&gt;38 -->\n",
              "<g id=\"edge38\" class=\"edge\">\n",
              "<title>37&#45;&gt;38</title>\n",
              "<path fill=\"none\" stroke=\"black\" d=\"M2238.79,-341.91C2225.48,-332.29 2211.17,-321.95 2197.51,-312.09\"/>\n",
              "<polygon fill=\"black\" stroke=\"black\" points=\"2199.26,-309.04 2189.11,-306.02 2195.16,-314.71 2199.26,-309.04\"/>\n",
              "</g>\n",
              "<!-- 45 -->\n",
              "<g id=\"node46\" class=\"node\">\n",
              "<title>45</title>\n",
              "<path fill=\"#e58139\" stroke=\"black\" d=\"M2349,-298.5C2349,-298.5 2241,-298.5 2241,-298.5 2235,-298.5 2229,-292.5 2229,-286.5 2229,-286.5 2229,-242.5 2229,-242.5 2229,-236.5 2235,-230.5 2241,-230.5 2241,-230.5 2349,-230.5 2349,-230.5 2355,-230.5 2361,-236.5 2361,-242.5 2361,-242.5 2361,-286.5 2361,-286.5 2361,-292.5 2355,-298.5 2349,-298.5\"/>\n",
              "<text text-anchor=\"start\" x=\"2255\" y=\"-283.3\" font-family=\"Helvetica,sans-Serif\" font-size=\"14.00\">entropy = 0.0</text>\n",
              "<text text-anchor=\"start\" x=\"2257.5\" y=\"-268.3\" font-family=\"Helvetica,sans-Serif\" font-size=\"14.00\">samples = 3</text>\n",
              "<text text-anchor=\"start\" x=\"2237\" y=\"-253.3\" font-family=\"Helvetica,sans-Serif\" font-size=\"14.00\">value = [1.686, 0.0]</text>\n",
              "<text text-anchor=\"start\" x=\"2263\" y=\"-238.3\" font-family=\"Helvetica,sans-Serif\" font-size=\"14.00\">class = No</text>\n",
              "</g>\n",
              "<!-- 37&#45;&gt;45 -->\n",
              "<g id=\"edge45\" class=\"edge\">\n",
              "<title>37&#45;&gt;45</title>\n",
              "<path fill=\"none\" stroke=\"black\" d=\"M2295,-341.91C2295,-331.2 2295,-319.62 2295,-308.78\"/>\n",
              "<polygon fill=\"black\" stroke=\"black\" points=\"2298.5,-308.67 2295,-298.67 2291.5,-308.67 2298.5,-308.67\"/>\n",
              "</g>\n",
              "<!-- 39 -->\n",
              "<g id=\"node40\" class=\"node\">\n",
              "<title>39</title>\n",
              "<path fill=\"#3c9fe5\" stroke=\"black\" d=\"M2077.5,-187C2077.5,-187 1946.5,-187 1946.5,-187 1940.5,-187 1934.5,-181 1934.5,-175 1934.5,-175 1934.5,-116 1934.5,-116 1934.5,-110 1940.5,-104 1946.5,-104 1946.5,-104 2077.5,-104 2077.5,-104 2083.5,-104 2089.5,-110 2089.5,-116 2089.5,-116 2089.5,-175 2089.5,-175 2089.5,-181 2083.5,-187 2077.5,-187\"/>\n",
              "<text text-anchor=\"start\" x=\"1959\" y=\"-171.8\" font-family=\"Helvetica,sans-Serif\" font-size=\"14.00\">Exterior1st ≤ 10.0</text>\n",
              "<text text-anchor=\"start\" x=\"1965\" y=\"-156.8\" font-family=\"Helvetica,sans-Serif\" font-size=\"14.00\">entropy = 0.114</text>\n",
              "<text text-anchor=\"start\" x=\"1974.5\" y=\"-141.8\" font-family=\"Helvetica,sans-Serif\" font-size=\"14.00\">samples = 9</text>\n",
              "<text text-anchor=\"start\" x=\"1942.5\" y=\"-126.8\" font-family=\"Helvetica,sans-Serif\" font-size=\"14.00\">value = [0.562, 36.197]</text>\n",
              "<text text-anchor=\"start\" x=\"1977\" y=\"-111.8\" font-family=\"Helvetica,sans-Serif\" font-size=\"14.00\">class = Yes</text>\n",
              "</g>\n",
              "<!-- 38&#45;&gt;39 -->\n",
              "<g id=\"edge39\" class=\"edge\">\n",
              "<title>38&#45;&gt;39</title>\n",
              "<path fill=\"none\" stroke=\"black\" d=\"M2091.02,-222.91C2081.45,-213.65 2071.19,-203.73 2061.34,-194.21\"/>\n",
              "<polygon fill=\"black\" stroke=\"black\" points=\"2063.53,-191.46 2053.91,-187.02 2058.66,-196.49 2063.53,-191.46\"/>\n",
              "</g>\n",
              "<!-- 42 -->\n",
              "<g id=\"node43\" class=\"node\">\n",
              "<title>42</title>\n",
              "<path fill=\"#a8d4f4\" stroke=\"black\" d=\"M2242.5,-187C2242.5,-187 2119.5,-187 2119.5,-187 2113.5,-187 2107.5,-181 2107.5,-175 2107.5,-175 2107.5,-116 2107.5,-116 2107.5,-110 2113.5,-104 2119.5,-104 2119.5,-104 2242.5,-104 2242.5,-104 2248.5,-104 2254.5,-110 2254.5,-116 2254.5,-116 2254.5,-175 2254.5,-175 2254.5,-181 2248.5,-187 2242.5,-187\"/>\n",
              "<text text-anchor=\"start\" x=\"2132.5\" y=\"-171.8\" font-family=\"Helvetica,sans-Serif\" font-size=\"14.00\">Fireplaces ≤ 0.5</text>\n",
              "<text text-anchor=\"start\" x=\"2133.5\" y=\"-156.8\" font-family=\"Helvetica,sans-Serif\" font-size=\"14.00\">entropy = 0.942</text>\n",
              "<text text-anchor=\"start\" x=\"2140\" y=\"-141.8\" font-family=\"Helvetica,sans-Serif\" font-size=\"14.00\">samples = 11</text>\n",
              "<text text-anchor=\"start\" x=\"2115.5\" y=\"-126.8\" font-family=\"Helvetica,sans-Serif\" font-size=\"14.00\">value = [5.059, 9.049]</text>\n",
              "<text text-anchor=\"start\" x=\"2146\" y=\"-111.8\" font-family=\"Helvetica,sans-Serif\" font-size=\"14.00\">class = Yes</text>\n",
              "</g>\n",
              "<!-- 38&#45;&gt;42 -->\n",
              "<g id=\"edge42\" class=\"edge\">\n",
              "<title>38&#45;&gt;42</title>\n",
              "<path fill=\"none\" stroke=\"black\" d=\"M2149.65,-222.91C2153.15,-214.38 2156.88,-205.28 2160.51,-196.46\"/>\n",
              "<polygon fill=\"black\" stroke=\"black\" points=\"2163.82,-197.6 2164.38,-187.02 2157.34,-194.94 2163.82,-197.6\"/>\n",
              "</g>\n",
              "<!-- 40 -->\n",
              "<g id=\"node41\" class=\"node\">\n",
              "<title>40</title>\n",
              "<path fill=\"#399de5\" stroke=\"black\" d=\"M1914,-68C1914,-68 1798,-68 1798,-68 1792,-68 1786,-62 1786,-56 1786,-56 1786,-12 1786,-12 1786,-6 1792,0 1798,0 1798,0 1914,0 1914,0 1920,0 1926,-6 1926,-12 1926,-12 1926,-56 1926,-56 1926,-62 1920,-68 1914,-68\"/>\n",
              "<text text-anchor=\"start\" x=\"1816\" y=\"-52.8\" font-family=\"Helvetica,sans-Serif\" font-size=\"14.00\">entropy = 0.0</text>\n",
              "<text text-anchor=\"start\" x=\"1818.5\" y=\"-37.8\" font-family=\"Helvetica,sans-Serif\" font-size=\"14.00\">samples = 6</text>\n",
              "<text text-anchor=\"start\" x=\"1794\" y=\"-22.8\" font-family=\"Helvetica,sans-Serif\" font-size=\"14.00\">value = [0.0, 27.148]</text>\n",
              "<text text-anchor=\"start\" x=\"1821\" y=\"-7.8\" font-family=\"Helvetica,sans-Serif\" font-size=\"14.00\">class = Yes</text>\n",
              "</g>\n",
              "<!-- 39&#45;&gt;40 -->\n",
              "<g id=\"edge40\" class=\"edge\">\n",
              "<title>39&#45;&gt;40</title>\n",
              "<path fill=\"none\" stroke=\"black\" d=\"M1953.91,-103.73C1940.14,-94.06 1925.48,-83.77 1911.81,-74.17\"/>\n",
              "<polygon fill=\"black\" stroke=\"black\" points=\"1913.64,-71.18 1903.44,-68.3 1909.61,-76.91 1913.64,-71.18\"/>\n",
              "</g>\n",
              "<!-- 41 -->\n",
              "<g id=\"node42\" class=\"node\">\n",
              "<title>41</title>\n",
              "<path fill=\"#45a3e7\" stroke=\"black\" d=\"M2079.5,-68C2079.5,-68 1956.5,-68 1956.5,-68 1950.5,-68 1944.5,-62 1944.5,-56 1944.5,-56 1944.5,-12 1944.5,-12 1944.5,-6 1950.5,0 1956.5,0 1956.5,0 2079.5,0 2079.5,0 2085.5,0 2091.5,-6 2091.5,-12 2091.5,-12 2091.5,-56 2091.5,-56 2091.5,-62 2085.5,-68 2079.5,-68\"/>\n",
              "<text text-anchor=\"start\" x=\"1970.5\" y=\"-52.8\" font-family=\"Helvetica,sans-Serif\" font-size=\"14.00\">entropy = 0.321</text>\n",
              "<text text-anchor=\"start\" x=\"1980.5\" y=\"-37.8\" font-family=\"Helvetica,sans-Serif\" font-size=\"14.00\">samples = 3</text>\n",
              "<text text-anchor=\"start\" x=\"1952.5\" y=\"-22.8\" font-family=\"Helvetica,sans-Serif\" font-size=\"14.00\">value = [0.562, 9.049]</text>\n",
              "<text text-anchor=\"start\" x=\"1983\" y=\"-7.8\" font-family=\"Helvetica,sans-Serif\" font-size=\"14.00\">class = Yes</text>\n",
              "</g>\n",
              "<!-- 39&#45;&gt;41 -->\n",
              "<g id=\"edge41\" class=\"edge\">\n",
              "<title>39&#45;&gt;41</title>\n",
              "<path fill=\"none\" stroke=\"black\" d=\"M2014.23,-103.73C2014.68,-95.52 2015.16,-86.86 2015.61,-78.56\"/>\n",
              "<polygon fill=\"black\" stroke=\"black\" points=\"2019.12,-78.48 2016.18,-68.3 2012.13,-78.09 2019.12,-78.48\"/>\n",
              "</g>\n",
              "<!-- 43 -->\n",
              "<g id=\"node44\" class=\"node\">\n",
              "<title>43</title>\n",
              "<path fill=\"#e58139\" stroke=\"black\" d=\"M2230,-68C2230,-68 2122,-68 2122,-68 2116,-68 2110,-62 2110,-56 2110,-56 2110,-12 2110,-12 2110,-6 2116,0 2122,0 2122,0 2230,0 2230,0 2236,0 2242,-6 2242,-12 2242,-12 2242,-56 2242,-56 2242,-62 2236,-68 2230,-68\"/>\n",
              "<text text-anchor=\"start\" x=\"2136\" y=\"-52.8\" font-family=\"Helvetica,sans-Serif\" font-size=\"14.00\">entropy = 0.0</text>\n",
              "<text text-anchor=\"start\" x=\"2138.5\" y=\"-37.8\" font-family=\"Helvetica,sans-Serif\" font-size=\"14.00\">samples = 4</text>\n",
              "<text text-anchor=\"start\" x=\"2118\" y=\"-22.8\" font-family=\"Helvetica,sans-Serif\" font-size=\"14.00\">value = [2.248, 0.0]</text>\n",
              "<text text-anchor=\"start\" x=\"2144\" y=\"-7.8\" font-family=\"Helvetica,sans-Serif\" font-size=\"14.00\">class = No</text>\n",
              "</g>\n",
              "<!-- 42&#45;&gt;43 -->\n",
              "<g id=\"edge43\" class=\"edge\">\n",
              "<title>42&#45;&gt;43</title>\n",
              "<path fill=\"none\" stroke=\"black\" d=\"M2179.14,-103.73C2178.76,-95.52 2178.37,-86.86 2177.99,-78.56\"/>\n",
              "<polygon fill=\"black\" stroke=\"black\" points=\"2181.47,-78.13 2177.52,-68.3 2174.48,-78.45 2181.47,-78.13\"/>\n",
              "</g>\n",
              "<!-- 44 -->\n",
              "<g id=\"node45\" class=\"node\">\n",
              "<title>44</title>\n",
              "<path fill=\"#76bbed\" stroke=\"black\" d=\"M2394,-68C2394,-68 2272,-68 2272,-68 2266,-68 2260,-62 2260,-56 2260,-56 2260,-12 2260,-12 2260,-6 2266,0 2272,0 2272,0 2394,0 2394,0 2400,0 2406,-6 2406,-12 2406,-12 2406,-56 2406,-56 2406,-62 2400,-68 2394,-68\"/>\n",
              "<text text-anchor=\"start\" x=\"2289\" y=\"-52.8\" font-family=\"Helvetica,sans-Serif\" font-size=\"14.00\">entropy = 0.79</text>\n",
              "<text text-anchor=\"start\" x=\"2295.5\" y=\"-37.8\" font-family=\"Helvetica,sans-Serif\" font-size=\"14.00\">samples = 7</text>\n",
              "<text text-anchor=\"start\" x=\"2268\" y=\"-22.8\" font-family=\"Helvetica,sans-Serif\" font-size=\"14.00\">value = [2.811, 9.049]</text>\n",
              "<text text-anchor=\"start\" x=\"2298\" y=\"-7.8\" font-family=\"Helvetica,sans-Serif\" font-size=\"14.00\">class = Yes</text>\n",
              "</g>\n",
              "<!-- 42&#45;&gt;44 -->\n",
              "<g id=\"edge44\" class=\"edge\">\n",
              "<title>42&#45;&gt;44</title>\n",
              "<path fill=\"none\" stroke=\"black\" d=\"M2237.6,-103.73C2251.02,-94.06 2265.31,-83.77 2278.62,-74.17\"/>\n",
              "<polygon fill=\"black\" stroke=\"black\" points=\"2280.71,-76.98 2286.78,-68.3 2276.62,-71.3 2280.71,-76.98\"/>\n",
              "</g>\n",
              "<!-- 47 -->\n",
              "<g id=\"node48\" class=\"node\">\n",
              "<title>47</title>\n",
              "<path fill=\"#e58139\" stroke=\"black\" d=\"M2499,-298.5C2499,-298.5 2391,-298.5 2391,-298.5 2385,-298.5 2379,-292.5 2379,-286.5 2379,-286.5 2379,-242.5 2379,-242.5 2379,-236.5 2385,-230.5 2391,-230.5 2391,-230.5 2499,-230.5 2499,-230.5 2505,-230.5 2511,-236.5 2511,-242.5 2511,-242.5 2511,-286.5 2511,-286.5 2511,-292.5 2505,-298.5 2499,-298.5\"/>\n",
              "<text text-anchor=\"start\" x=\"2405\" y=\"-283.3\" font-family=\"Helvetica,sans-Serif\" font-size=\"14.00\">entropy = 0.0</text>\n",
              "<text text-anchor=\"start\" x=\"2407.5\" y=\"-268.3\" font-family=\"Helvetica,sans-Serif\" font-size=\"14.00\">samples = 1</text>\n",
              "<text text-anchor=\"start\" x=\"2387\" y=\"-253.3\" font-family=\"Helvetica,sans-Serif\" font-size=\"14.00\">value = [0.562, 0.0]</text>\n",
              "<text text-anchor=\"start\" x=\"2413\" y=\"-238.3\" font-family=\"Helvetica,sans-Serif\" font-size=\"14.00\">class = No</text>\n",
              "</g>\n",
              "<!-- 46&#45;&gt;47 -->\n",
              "<g id=\"edge47\" class=\"edge\">\n",
              "<title>46&#45;&gt;47</title>\n",
              "<path fill=\"none\" stroke=\"black\" d=\"M2491.37,-341.91C2484.6,-330.76 2477.26,-318.66 2470.45,-307.44\"/>\n",
              "<polygon fill=\"black\" stroke=\"black\" points=\"2473.31,-305.4 2465.13,-298.67 2467.32,-309.03 2473.31,-305.4\"/>\n",
              "</g>\n",
              "<!-- 48 -->\n",
              "<g id=\"node49\" class=\"node\">\n",
              "<title>48</title>\n",
              "<path fill=\"#e58139\" stroke=\"black\" d=\"M2649,-298.5C2649,-298.5 2541,-298.5 2541,-298.5 2535,-298.5 2529,-292.5 2529,-286.5 2529,-286.5 2529,-242.5 2529,-242.5 2529,-236.5 2535,-230.5 2541,-230.5 2541,-230.5 2649,-230.5 2649,-230.5 2655,-230.5 2661,-236.5 2661,-242.5 2661,-242.5 2661,-286.5 2661,-286.5 2661,-292.5 2655,-298.5 2649,-298.5\"/>\n",
              "<text text-anchor=\"start\" x=\"2555\" y=\"-283.3\" font-family=\"Helvetica,sans-Serif\" font-size=\"14.00\">entropy = 0.0</text>\n",
              "<text text-anchor=\"start\" x=\"2557.5\" y=\"-268.3\" font-family=\"Helvetica,sans-Serif\" font-size=\"14.00\">samples = 7</text>\n",
              "<text text-anchor=\"start\" x=\"2537\" y=\"-253.3\" font-family=\"Helvetica,sans-Serif\" font-size=\"14.00\">value = [3.935, 0.0]</text>\n",
              "<text text-anchor=\"start\" x=\"2563\" y=\"-238.3\" font-family=\"Helvetica,sans-Serif\" font-size=\"14.00\">class = No</text>\n",
              "</g>\n",
              "<!-- 46&#45;&gt;48 -->\n",
              "<g id=\"edge48\" class=\"edge\">\n",
              "<title>46&#45;&gt;48</title>\n",
              "<path fill=\"none\" stroke=\"black\" d=\"M2543.41,-341.91C2551.01,-330.65 2559.27,-318.42 2566.91,-307.11\"/>\n",
              "<polygon fill=\"black\" stroke=\"black\" points=\"2569.91,-308.91 2572.61,-298.67 2564.11,-305 2569.91,-308.91\"/>\n",
              "</g>\n",
              "<!-- 50 -->\n",
              "<g id=\"node51\" class=\"node\">\n",
              "<title>50</title>\n",
              "<path fill=\"#5caeea\" stroke=\"black\" d=\"M2897.5,-425C2897.5,-425 2766.5,-425 2766.5,-425 2760.5,-425 2754.5,-419 2754.5,-413 2754.5,-413 2754.5,-354 2754.5,-354 2754.5,-348 2760.5,-342 2766.5,-342 2766.5,-342 2897.5,-342 2897.5,-342 2903.5,-342 2909.5,-348 2909.5,-354 2909.5,-354 2909.5,-413 2909.5,-413 2909.5,-419 2903.5,-425 2897.5,-425\"/>\n",
              "<text text-anchor=\"start\" x=\"2766\" y=\"-409.8\" font-family=\"Helvetica,sans-Serif\" font-size=\"14.00\">GarageYrBlt ≤ 2004.5</text>\n",
              "<text text-anchor=\"start\" x=\"2784.5\" y=\"-394.8\" font-family=\"Helvetica,sans-Serif\" font-size=\"14.00\">entropy = 0.609</text>\n",
              "<text text-anchor=\"start\" x=\"2791\" y=\"-379.8\" font-family=\"Helvetica,sans-Serif\" font-size=\"14.00\">samples = 29</text>\n",
              "<text text-anchor=\"start\" x=\"2762.5\" y=\"-364.8\" font-family=\"Helvetica,sans-Serif\" font-size=\"14.00\">value = [9.556, 54.295]</text>\n",
              "<text text-anchor=\"start\" x=\"2797\" y=\"-349.8\" font-family=\"Helvetica,sans-Serif\" font-size=\"14.00\">class = Yes</text>\n",
              "</g>\n",
              "<!-- 49&#45;&gt;50 -->\n",
              "<g id=\"edge50\" class=\"edge\">\n",
              "<title>49&#45;&gt;50</title>\n",
              "<path fill=\"none\" stroke=\"black\" d=\"M2832,-460.91C2832,-452.65 2832,-443.86 2832,-435.3\"/>\n",
              "<polygon fill=\"black\" stroke=\"black\" points=\"2835.5,-435.02 2832,-425.02 2828.5,-435.02 2835.5,-435.02\"/>\n",
              "</g>\n",
              "<!-- 63 -->\n",
              "<g id=\"node64\" class=\"node\">\n",
              "<title>63</title>\n",
              "<path fill=\"#3c9fe5\" stroke=\"black\" d=\"M3472,-425C3472,-425 3334,-425 3334,-425 3328,-425 3322,-419 3322,-413 3322,-413 3322,-354 3322,-354 3322,-348 3328,-342 3334,-342 3334,-342 3472,-342 3472,-342 3478,-342 3484,-348 3484,-354 3484,-354 3484,-413 3484,-413 3484,-419 3478,-425 3472,-425\"/>\n",
              "<text text-anchor=\"start\" x=\"3345\" y=\"-409.8\" font-family=\"Helvetica,sans-Serif\" font-size=\"14.00\">GarageFinish ≤ 0.5</text>\n",
              "<text text-anchor=\"start\" x=\"3359\" y=\"-394.8\" font-family=\"Helvetica,sans-Serif\" font-size=\"14.00\">entropy = 0.12</text>\n",
              "<text text-anchor=\"start\" x=\"3362\" y=\"-379.8\" font-family=\"Helvetica,sans-Serif\" font-size=\"14.00\">samples = 68</text>\n",
              "<text text-anchor=\"start\" x=\"3330\" y=\"-364.8\" font-family=\"Helvetica,sans-Serif\" font-size=\"14.00\">value = [4.497, 271.475]</text>\n",
              "<text text-anchor=\"start\" x=\"3368\" y=\"-349.8\" font-family=\"Helvetica,sans-Serif\" font-size=\"14.00\">class = Yes</text>\n",
              "</g>\n",
              "<!-- 49&#45;&gt;63 -->\n",
              "<g id=\"edge63\" class=\"edge\">\n",
              "<title>49&#45;&gt;63</title>\n",
              "<path fill=\"none\" stroke=\"black\" d=\"M2913.2,-484.86C3018.45,-463.3 3201.48,-425.79 3311.53,-403.24\"/>\n",
              "<polygon fill=\"black\" stroke=\"black\" points=\"3312.52,-406.61 3321.61,-401.18 3311.12,-399.75 3312.52,-406.61\"/>\n",
              "</g>\n",
              "<!-- 51 -->\n",
              "<g id=\"node52\" class=\"node\">\n",
              "<title>51</title>\n",
              "<path fill=\"#45a3e7\" stroke=\"black\" d=\"M2821,-306C2821,-306 2691,-306 2691,-306 2685,-306 2679,-300 2679,-294 2679,-294 2679,-235 2679,-235 2679,-229 2685,-223 2691,-223 2691,-223 2821,-223 2821,-223 2827,-223 2833,-229 2833,-235 2833,-235 2833,-294 2833,-294 2833,-300 2827,-306 2821,-306\"/>\n",
              "<text text-anchor=\"start\" x=\"2697\" y=\"-290.8\" font-family=\"Helvetica,sans-Serif\" font-size=\"14.00\">GrLivArea ≤ 1476.5</text>\n",
              "<text text-anchor=\"start\" x=\"2708.5\" y=\"-275.8\" font-family=\"Helvetica,sans-Serif\" font-size=\"14.00\">entropy = 0.321</text>\n",
              "<text text-anchor=\"start\" x=\"2715\" y=\"-260.8\" font-family=\"Helvetica,sans-Serif\" font-size=\"14.00\">samples = 15</text>\n",
              "<text text-anchor=\"start\" x=\"2687\" y=\"-245.8\" font-family=\"Helvetica,sans-Serif\" font-size=\"14.00\">value = [2.811, 45.246]</text>\n",
              "<text text-anchor=\"start\" x=\"2721\" y=\"-230.8\" font-family=\"Helvetica,sans-Serif\" font-size=\"14.00\">class = Yes</text>\n",
              "</g>\n",
              "<!-- 50&#45;&gt;51 -->\n",
              "<g id=\"edge51\" class=\"edge\">\n",
              "<title>50&#45;&gt;51</title>\n",
              "<path fill=\"none\" stroke=\"black\" d=\"M2805.63,-341.91C2799.91,-333.1 2793.81,-323.7 2787.9,-314.61\"/>\n",
              "<polygon fill=\"black\" stroke=\"black\" points=\"2790.7,-312.5 2782.32,-306.02 2784.83,-316.31 2790.7,-312.5\"/>\n",
              "</g>\n",
              "<!-- 56 -->\n",
              "<g id=\"node57\" class=\"node\">\n",
              "<title>56</title>\n",
              "<path fill=\"#cde6f8\" stroke=\"black\" d=\"M3011.5,-306C3011.5,-306 2886.5,-306 2886.5,-306 2880.5,-306 2874.5,-300 2874.5,-294 2874.5,-294 2874.5,-235 2874.5,-235 2874.5,-229 2880.5,-223 2886.5,-223 2886.5,-223 3011.5,-223 3011.5,-223 3017.5,-223 3023.5,-229 3023.5,-235 3023.5,-235 3023.5,-294 3023.5,-294 3023.5,-300 3017.5,-306 3011.5,-306\"/>\n",
              "<text text-anchor=\"start\" x=\"2882.5\" y=\"-290.8\" font-family=\"Helvetica,sans-Serif\" font-size=\"14.00\">WoodDeckSF ≤ 139.5</text>\n",
              "<text text-anchor=\"start\" x=\"2901.5\" y=\"-275.8\" font-family=\"Helvetica,sans-Serif\" font-size=\"14.00\">entropy = 0.985</text>\n",
              "<text text-anchor=\"start\" x=\"2908\" y=\"-260.8\" font-family=\"Helvetica,sans-Serif\" font-size=\"14.00\">samples = 14</text>\n",
              "<text text-anchor=\"start\" x=\"2883.5\" y=\"-245.8\" font-family=\"Helvetica,sans-Serif\" font-size=\"14.00\">value = [6.745, 9.049]</text>\n",
              "<text text-anchor=\"start\" x=\"2914\" y=\"-230.8\" font-family=\"Helvetica,sans-Serif\" font-size=\"14.00\">class = Yes</text>\n",
              "</g>\n",
              "<!-- 50&#45;&gt;56 -->\n",
              "<g id=\"edge56\" class=\"edge\">\n",
              "<title>50&#45;&gt;56</title>\n",
              "<path fill=\"none\" stroke=\"black\" d=\"M2872.59,-341.91C2881.85,-332.65 2891.77,-322.73 2901.29,-313.21\"/>\n",
              "<polygon fill=\"black\" stroke=\"black\" points=\"2903.88,-315.57 2908.48,-306.02 2898.93,-310.62 2903.88,-315.57\"/>\n",
              "</g>\n",
              "<!-- 52 -->\n",
              "<g id=\"node53\" class=\"node\">\n",
              "<title>52</title>\n",
              "<path fill=\"#e58139\" stroke=\"black\" d=\"M2581,-179.5C2581,-179.5 2473,-179.5 2473,-179.5 2467,-179.5 2461,-173.5 2461,-167.5 2461,-167.5 2461,-123.5 2461,-123.5 2461,-117.5 2467,-111.5 2473,-111.5 2473,-111.5 2581,-111.5 2581,-111.5 2587,-111.5 2593,-117.5 2593,-123.5 2593,-123.5 2593,-167.5 2593,-167.5 2593,-173.5 2587,-179.5 2581,-179.5\"/>\n",
              "<text text-anchor=\"start\" x=\"2487\" y=\"-164.3\" font-family=\"Helvetica,sans-Serif\" font-size=\"14.00\">entropy = 0.0</text>\n",
              "<text text-anchor=\"start\" x=\"2489.5\" y=\"-149.3\" font-family=\"Helvetica,sans-Serif\" font-size=\"14.00\">samples = 2</text>\n",
              "<text text-anchor=\"start\" x=\"2469\" y=\"-134.3\" font-family=\"Helvetica,sans-Serif\" font-size=\"14.00\">value = [1.124, 0.0]</text>\n",
              "<text text-anchor=\"start\" x=\"2495\" y=\"-119.3\" font-family=\"Helvetica,sans-Serif\" font-size=\"14.00\">class = No</text>\n",
              "</g>\n",
              "<!-- 51&#45;&gt;52 -->\n",
              "<g id=\"edge52\" class=\"edge\">\n",
              "<title>51&#45;&gt;52</title>\n",
              "<path fill=\"none\" stroke=\"black\" d=\"M2678.97,-225.88C2654.3,-213.65 2626.92,-199.91 2602,-187 2600.28,-186.11 2598.53,-185.2 2596.77,-184.28\"/>\n",
              "<polygon fill=\"black\" stroke=\"black\" points=\"2598.38,-181.17 2587.9,-179.61 2595.12,-187.36 2598.38,-181.17\"/>\n",
              "</g>\n",
              "<!-- 53 -->\n",
              "<g id=\"node54\" class=\"node\">\n",
              "<title>53</title>\n",
              "<path fill=\"#40a1e6\" stroke=\"black\" d=\"M2754.5,-187C2754.5,-187 2623.5,-187 2623.5,-187 2617.5,-187 2611.5,-181 2611.5,-175 2611.5,-175 2611.5,-116 2611.5,-116 2611.5,-110 2617.5,-104 2623.5,-104 2623.5,-104 2754.5,-104 2754.5,-104 2760.5,-104 2766.5,-110 2766.5,-116 2766.5,-116 2766.5,-175 2766.5,-175 2766.5,-181 2760.5,-187 2754.5,-187\"/>\n",
              "<text text-anchor=\"start\" x=\"2648.5\" y=\"-171.8\" font-family=\"Helvetica,sans-Serif\" font-size=\"14.00\">MoSold ≤ 6.5</text>\n",
              "<text text-anchor=\"start\" x=\"2641.5\" y=\"-156.8\" font-family=\"Helvetica,sans-Serif\" font-size=\"14.00\">entropy = 0.223</text>\n",
              "<text text-anchor=\"start\" x=\"2648\" y=\"-141.8\" font-family=\"Helvetica,sans-Serif\" font-size=\"14.00\">samples = 13</text>\n",
              "<text text-anchor=\"start\" x=\"2619.5\" y=\"-126.8\" font-family=\"Helvetica,sans-Serif\" font-size=\"14.00\">value = [1.686, 45.246]</text>\n",
              "<text text-anchor=\"start\" x=\"2654\" y=\"-111.8\" font-family=\"Helvetica,sans-Serif\" font-size=\"14.00\">class = Yes</text>\n",
              "</g>\n",
              "<!-- 51&#45;&gt;53 -->\n",
              "<g id=\"edge53\" class=\"edge\">\n",
              "<title>51&#45;&gt;53</title>\n",
              "<path fill=\"none\" stroke=\"black\" d=\"M2732.75,-222.91C2727.77,-214.2 2722.44,-204.9 2717.29,-195.89\"/>\n",
              "<polygon fill=\"black\" stroke=\"black\" points=\"2720.21,-193.96 2712.2,-187.02 2714.14,-197.44 2720.21,-193.96\"/>\n",
              "</g>\n",
              "<!-- 54 -->\n",
              "<g id=\"node55\" class=\"node\">\n",
              "<title>54</title>\n",
              "<path fill=\"#5eafea\" stroke=\"black\" d=\"M2559.5,-68C2559.5,-68 2436.5,-68 2436.5,-68 2430.5,-68 2424.5,-62 2424.5,-56 2424.5,-56 2424.5,-12 2424.5,-12 2424.5,-6 2430.5,0 2436.5,0 2436.5,0 2559.5,0 2559.5,0 2565.5,0 2571.5,-6 2571.5,-12 2571.5,-12 2571.5,-56 2571.5,-56 2571.5,-62 2565.5,-68 2559.5,-68\"/>\n",
              "<text text-anchor=\"start\" x=\"2450.5\" y=\"-52.8\" font-family=\"Helvetica,sans-Serif\" font-size=\"14.00\">entropy = 0.627</text>\n",
              "<text text-anchor=\"start\" x=\"2460.5\" y=\"-37.8\" font-family=\"Helvetica,sans-Serif\" font-size=\"14.00\">samples = 5</text>\n",
              "<text text-anchor=\"start\" x=\"2432.5\" y=\"-22.8\" font-family=\"Helvetica,sans-Serif\" font-size=\"14.00\">value = [1.686, 9.049]</text>\n",
              "<text text-anchor=\"start\" x=\"2463\" y=\"-7.8\" font-family=\"Helvetica,sans-Serif\" font-size=\"14.00\">class = Yes</text>\n",
              "</g>\n",
              "<!-- 53&#45;&gt;54 -->\n",
              "<g id=\"edge54\" class=\"edge\">\n",
              "<title>53&#45;&gt;54</title>\n",
              "<path fill=\"none\" stroke=\"black\" d=\"M2618.15,-103.88C2600.61,-93.83 2581.88,-83.09 2564.56,-73.16\"/>\n",
              "<polygon fill=\"black\" stroke=\"black\" points=\"2566.05,-69.98 2555.64,-68.04 2562.57,-76.05 2566.05,-69.98\"/>\n",
              "</g>\n",
              "<!-- 55 -->\n",
              "<g id=\"node56\" class=\"node\">\n",
              "<title>55</title>\n",
              "<path fill=\"#399de5\" stroke=\"black\" d=\"M2718,-68C2718,-68 2602,-68 2602,-68 2596,-68 2590,-62 2590,-56 2590,-56 2590,-12 2590,-12 2590,-6 2596,0 2602,0 2602,0 2718,0 2718,0 2724,0 2730,-6 2730,-12 2730,-12 2730,-56 2730,-56 2730,-62 2724,-68 2718,-68\"/>\n",
              "<text text-anchor=\"start\" x=\"2620\" y=\"-52.8\" font-family=\"Helvetica,sans-Serif\" font-size=\"14.00\">entropy = 0.0</text>\n",
              "<text text-anchor=\"start\" x=\"2622.5\" y=\"-37.8\" font-family=\"Helvetica,sans-Serif\" font-size=\"14.00\">samples = 8</text>\n",
              "<text text-anchor=\"start\" x=\"2598\" y=\"-22.8\" font-family=\"Helvetica,sans-Serif\" font-size=\"14.00\">value = [0.0, 36.197]</text>\n",
              "<text text-anchor=\"start\" x=\"2625\" y=\"-7.8\" font-family=\"Helvetica,sans-Serif\" font-size=\"14.00\">class = Yes</text>\n",
              "</g>\n",
              "<!-- 53&#45;&gt;55 -->\n",
              "<g id=\"edge55\" class=\"edge\">\n",
              "<title>53&#45;&gt;55</title>\n",
              "<path fill=\"none\" stroke=\"black\" d=\"M2678.2,-103.73C2675.98,-95.34 2673.63,-86.47 2671.39,-78.01\"/>\n",
              "<polygon fill=\"black\" stroke=\"black\" points=\"2674.76,-77.07 2668.82,-68.3 2668,-78.86 2674.76,-77.07\"/>\n",
              "</g>\n",
              "<!-- 57 -->\n",
              "<g id=\"node58\" class=\"node\">\n",
              "<title>57</title>\n",
              "<path fill=\"#e58139\" stroke=\"black\" d=\"M3003,-187C3003,-187 2895,-187 2895,-187 2889,-187 2883,-181 2883,-175 2883,-175 2883,-116 2883,-116 2883,-110 2889,-104 2895,-104 2895,-104 3003,-104 3003,-104 3009,-104 3015,-110 3015,-116 3015,-116 3015,-175 3015,-175 3015,-181 3009,-187 3003,-187\"/>\n",
              "<text text-anchor=\"start\" x=\"2907\" y=\"-171.8\" font-family=\"Helvetica,sans-Serif\" font-size=\"14.00\">FullBath ≤ 1.5</text>\n",
              "<text text-anchor=\"start\" x=\"2909\" y=\"-156.8\" font-family=\"Helvetica,sans-Serif\" font-size=\"14.00\">entropy = 0.0</text>\n",
              "<text text-anchor=\"start\" x=\"2911.5\" y=\"-141.8\" font-family=\"Helvetica,sans-Serif\" font-size=\"14.00\">samples = 8</text>\n",
              "<text text-anchor=\"start\" x=\"2891\" y=\"-126.8\" font-family=\"Helvetica,sans-Serif\" font-size=\"14.00\">value = [4.497, 0.0]</text>\n",
              "<text text-anchor=\"start\" x=\"2917\" y=\"-111.8\" font-family=\"Helvetica,sans-Serif\" font-size=\"14.00\">class = No</text>\n",
              "</g>\n",
              "<!-- 56&#45;&gt;57 -->\n",
              "<g id=\"edge57\" class=\"edge\">\n",
              "<title>56&#45;&gt;57</title>\n",
              "<path fill=\"none\" stroke=\"black\" d=\"M2949,-222.91C2949,-214.65 2949,-205.86 2949,-197.3\"/>\n",
              "<polygon fill=\"black\" stroke=\"black\" points=\"2952.5,-197.02 2949,-187.02 2945.5,-197.02 2952.5,-197.02\"/>\n",
              "</g>\n",
              "<!-- 60 -->\n",
              "<g id=\"node61\" class=\"node\">\n",
              "<title>60</title>\n",
              "<path fill=\"#6ab5eb\" stroke=\"black\" d=\"M3183.5,-187C3183.5,-187 3060.5,-187 3060.5,-187 3054.5,-187 3048.5,-181 3048.5,-175 3048.5,-175 3048.5,-116 3048.5,-116 3048.5,-110 3054.5,-104 3060.5,-104 3060.5,-104 3183.5,-104 3183.5,-104 3189.5,-104 3195.5,-110 3195.5,-116 3195.5,-116 3195.5,-175 3195.5,-175 3195.5,-181 3189.5,-187 3183.5,-187\"/>\n",
              "<text text-anchor=\"start\" x=\"3063\" y=\"-171.8\" font-family=\"Helvetica,sans-Serif\" font-size=\"14.00\">MasVnrArea ≤ 71.0</text>\n",
              "<text text-anchor=\"start\" x=\"3078\" y=\"-156.8\" font-family=\"Helvetica,sans-Serif\" font-size=\"14.00\">entropy = 0.72</text>\n",
              "<text text-anchor=\"start\" x=\"3084.5\" y=\"-141.8\" font-family=\"Helvetica,sans-Serif\" font-size=\"14.00\">samples = 6</text>\n",
              "<text text-anchor=\"start\" x=\"3056.5\" y=\"-126.8\" font-family=\"Helvetica,sans-Serif\" font-size=\"14.00\">value = [2.248, 9.049]</text>\n",
              "<text text-anchor=\"start\" x=\"3087\" y=\"-111.8\" font-family=\"Helvetica,sans-Serif\" font-size=\"14.00\">class = Yes</text>\n",
              "</g>\n",
              "<!-- 56&#45;&gt;60 -->\n",
              "<g id=\"edge60\" class=\"edge\">\n",
              "<title>56&#45;&gt;60</title>\n",
              "<path fill=\"none\" stroke=\"black\" d=\"M3009.02,-222.91C3023.38,-213.2 3038.81,-202.76 3053.52,-192.81\"/>\n",
              "<polygon fill=\"black\" stroke=\"black\" points=\"3055.76,-195.52 3062.08,-187.02 3051.84,-189.72 3055.76,-195.52\"/>\n",
              "</g>\n",
              "<!-- 58 -->\n",
              "<g id=\"node59\" class=\"node\">\n",
              "<title>58</title>\n",
              "<path fill=\"#e58139\" stroke=\"black\" d=\"M2868,-68C2868,-68 2760,-68 2760,-68 2754,-68 2748,-62 2748,-56 2748,-56 2748,-12 2748,-12 2748,-6 2754,0 2760,0 2760,0 2868,0 2868,0 2874,0 2880,-6 2880,-12 2880,-12 2880,-56 2880,-56 2880,-62 2874,-68 2868,-68\"/>\n",
              "<text text-anchor=\"start\" x=\"2774\" y=\"-52.8\" font-family=\"Helvetica,sans-Serif\" font-size=\"14.00\">entropy = 0.0</text>\n",
              "<text text-anchor=\"start\" x=\"2776.5\" y=\"-37.8\" font-family=\"Helvetica,sans-Serif\" font-size=\"14.00\">samples = 1</text>\n",
              "<text text-anchor=\"start\" x=\"2756\" y=\"-22.8\" font-family=\"Helvetica,sans-Serif\" font-size=\"14.00\">value = [0.562, 0.0]</text>\n",
              "<text text-anchor=\"start\" x=\"2782\" y=\"-7.8\" font-family=\"Helvetica,sans-Serif\" font-size=\"14.00\">class = No</text>\n",
              "</g>\n",
              "<!-- 57&#45;&gt;58 -->\n",
              "<g id=\"edge58\" class=\"edge\">\n",
              "<title>57&#45;&gt;58</title>\n",
              "<path fill=\"none\" stroke=\"black\" d=\"M2898.73,-103.73C2887.04,-94.24 2874.6,-84.16 2862.96,-74.72\"/>\n",
              "<polygon fill=\"black\" stroke=\"black\" points=\"2865.03,-71.88 2855.05,-68.3 2860.62,-77.32 2865.03,-71.88\"/>\n",
              "</g>\n",
              "<!-- 59 -->\n",
              "<g id=\"node60\" class=\"node\">\n",
              "<title>59</title>\n",
              "<path fill=\"#e58139\" stroke=\"black\" d=\"M3018,-68C3018,-68 2910,-68 2910,-68 2904,-68 2898,-62 2898,-56 2898,-56 2898,-12 2898,-12 2898,-6 2904,0 2910,0 2910,0 3018,0 3018,0 3024,0 3030,-6 3030,-12 3030,-12 3030,-56 3030,-56 3030,-62 3024,-68 3018,-68\"/>\n",
              "<text text-anchor=\"start\" x=\"2924\" y=\"-52.8\" font-family=\"Helvetica,sans-Serif\" font-size=\"14.00\">entropy = 0.0</text>\n",
              "<text text-anchor=\"start\" x=\"2926.5\" y=\"-37.8\" font-family=\"Helvetica,sans-Serif\" font-size=\"14.00\">samples = 7</text>\n",
              "<text text-anchor=\"start\" x=\"2906\" y=\"-22.8\" font-family=\"Helvetica,sans-Serif\" font-size=\"14.00\">value = [3.935, 0.0]</text>\n",
              "<text text-anchor=\"start\" x=\"2932\" y=\"-7.8\" font-family=\"Helvetica,sans-Serif\" font-size=\"14.00\">class = No</text>\n",
              "</g>\n",
              "<!-- 57&#45;&gt;59 -->\n",
              "<g id=\"edge59\" class=\"edge\">\n",
              "<title>57&#45;&gt;59</title>\n",
              "<path fill=\"none\" stroke=\"black\" d=\"M2954.59,-103.73C2955.72,-95.43 2956.92,-86.67 2958.07,-78.28\"/>\n",
              "<polygon fill=\"black\" stroke=\"black\" points=\"2961.55,-78.68 2959.44,-68.3 2954.61,-77.73 2961.55,-78.68\"/>\n",
              "</g>\n",
              "<!-- 61 -->\n",
              "<g id=\"node62\" class=\"node\">\n",
              "<title>61</title>\n",
              "<path fill=\"#52a9e8\" stroke=\"black\" d=\"M3183.5,-68C3183.5,-68 3060.5,-68 3060.5,-68 3054.5,-68 3048.5,-62 3048.5,-56 3048.5,-56 3048.5,-12 3048.5,-12 3048.5,-6 3054.5,0 3060.5,0 3060.5,0 3183.5,0 3183.5,0 3189.5,0 3195.5,-6 3195.5,-12 3195.5,-12 3195.5,-56 3195.5,-56 3195.5,-62 3189.5,-68 3183.5,-68\"/>\n",
              "<text text-anchor=\"start\" x=\"3074.5\" y=\"-52.8\" font-family=\"Helvetica,sans-Serif\" font-size=\"14.00\">entropy = 0.501</text>\n",
              "<text text-anchor=\"start\" x=\"3084.5\" y=\"-37.8\" font-family=\"Helvetica,sans-Serif\" font-size=\"14.00\">samples = 4</text>\n",
              "<text text-anchor=\"start\" x=\"3056.5\" y=\"-22.8\" font-family=\"Helvetica,sans-Serif\" font-size=\"14.00\">value = [1.124, 9.049]</text>\n",
              "<text text-anchor=\"start\" x=\"3087\" y=\"-7.8\" font-family=\"Helvetica,sans-Serif\" font-size=\"14.00\">class = Yes</text>\n",
              "</g>\n",
              "<!-- 60&#45;&gt;61 -->\n",
              "<g id=\"edge61\" class=\"edge\">\n",
              "<title>60&#45;&gt;61</title>\n",
              "<path fill=\"none\" stroke=\"black\" d=\"M3122,-103.73C3122,-95.52 3122,-86.86 3122,-78.56\"/>\n",
              "<polygon fill=\"black\" stroke=\"black\" points=\"3125.5,-78.3 3122,-68.3 3118.5,-78.3 3125.5,-78.3\"/>\n",
              "</g>\n",
              "<!-- 62 -->\n",
              "<g id=\"node63\" class=\"node\">\n",
              "<title>62</title>\n",
              "<path fill=\"#e58139\" stroke=\"black\" d=\"M3334,-68C3334,-68 3226,-68 3226,-68 3220,-68 3214,-62 3214,-56 3214,-56 3214,-12 3214,-12 3214,-6 3220,0 3226,0 3226,0 3334,0 3334,0 3340,0 3346,-6 3346,-12 3346,-12 3346,-56 3346,-56 3346,-62 3340,-68 3334,-68\"/>\n",
              "<text text-anchor=\"start\" x=\"3237.5\" y=\"-52.8\" font-family=\"Helvetica,sans-Serif\" font-size=\"14.00\">entropy = &#45;0.0</text>\n",
              "<text text-anchor=\"start\" x=\"3242.5\" y=\"-37.8\" font-family=\"Helvetica,sans-Serif\" font-size=\"14.00\">samples = 2</text>\n",
              "<text text-anchor=\"start\" x=\"3222\" y=\"-22.8\" font-family=\"Helvetica,sans-Serif\" font-size=\"14.00\">value = [1.124, 0.0]</text>\n",
              "<text text-anchor=\"start\" x=\"3248\" y=\"-7.8\" font-family=\"Helvetica,sans-Serif\" font-size=\"14.00\">class = No</text>\n",
              "</g>\n",
              "<!-- 60&#45;&gt;62 -->\n",
              "<g id=\"edge62\" class=\"edge\">\n",
              "<title>60&#45;&gt;62</title>\n",
              "<path fill=\"none\" stroke=\"black\" d=\"M3180.83,-103.73C3194.86,-94.01 3209.79,-83.66 3223.69,-74.02\"/>\n",
              "<polygon fill=\"black\" stroke=\"black\" points=\"3225.98,-76.7 3232.2,-68.13 3221.99,-70.94 3225.98,-76.7\"/>\n",
              "</g>\n",
              "<!-- 64 -->\n",
              "<g id=\"node65\" class=\"node\">\n",
              "<title>64</title>\n",
              "<path fill=\"#3a9de5\" stroke=\"black\" d=\"M3476.5,-306C3476.5,-306 3329.5,-306 3329.5,-306 3323.5,-306 3317.5,-300 3317.5,-294 3317.5,-294 3317.5,-235 3317.5,-235 3317.5,-229 3323.5,-223 3329.5,-223 3329.5,-223 3476.5,-223 3476.5,-223 3482.5,-223 3488.5,-229 3488.5,-235 3488.5,-235 3488.5,-294 3488.5,-294 3488.5,-300 3482.5,-306 3476.5,-306\"/>\n",
              "<text text-anchor=\"start\" x=\"3325.5\" y=\"-290.8\" font-family=\"Helvetica,sans-Serif\" font-size=\"14.00\">GarageAreaRatio ≤ 0.361</text>\n",
              "<text text-anchor=\"start\" x=\"3355.5\" y=\"-275.8\" font-family=\"Helvetica,sans-Serif\" font-size=\"14.00\">entropy = 0.031</text>\n",
              "<text text-anchor=\"start\" x=\"3362\" y=\"-260.8\" font-family=\"Helvetica,sans-Serif\" font-size=\"14.00\">samples = 40</text>\n",
              "<text text-anchor=\"start\" x=\"3330\" y=\"-245.8\" font-family=\"Helvetica,sans-Serif\" font-size=\"14.00\">value = [0.562, 176.459]</text>\n",
              "<text text-anchor=\"start\" x=\"3368\" y=\"-230.8\" font-family=\"Helvetica,sans-Serif\" font-size=\"14.00\">class = Yes</text>\n",
              "</g>\n",
              "<!-- 63&#45;&gt;64 -->\n",
              "<g id=\"edge64\" class=\"edge\">\n",
              "<title>63&#45;&gt;64</title>\n",
              "<path fill=\"none\" stroke=\"black\" d=\"M3403,-341.91C3403,-333.65 3403,-324.86 3403,-316.3\"/>\n",
              "<polygon fill=\"black\" stroke=\"black\" points=\"3406.5,-316.02 3403,-306.02 3399.5,-316.02 3406.5,-316.02\"/>\n",
              "</g>\n",
              "<!-- 69 -->\n",
              "<g id=\"node70\" class=\"node\">\n",
              "<title>69</title>\n",
              "<path fill=\"#41a1e6\" stroke=\"black\" d=\"M3722.5,-306C3722.5,-306 3591.5,-306 3591.5,-306 3585.5,-306 3579.5,-300 3579.5,-294 3579.5,-294 3579.5,-235 3579.5,-235 3579.5,-229 3585.5,-223 3591.5,-223 3591.5,-223 3722.5,-223 3722.5,-223 3728.5,-223 3734.5,-229 3734.5,-235 3734.5,-235 3734.5,-294 3734.5,-294 3734.5,-300 3728.5,-306 3722.5,-306\"/>\n",
              "<text text-anchor=\"start\" x=\"3608\" y=\"-290.8\" font-family=\"Helvetica,sans-Serif\" font-size=\"14.00\">BsmtCond ≤ 2.0</text>\n",
              "<text text-anchor=\"start\" x=\"3609.5\" y=\"-275.8\" font-family=\"Helvetica,sans-Serif\" font-size=\"14.00\">entropy = 0.241</text>\n",
              "<text text-anchor=\"start\" x=\"3616\" y=\"-260.8\" font-family=\"Helvetica,sans-Serif\" font-size=\"14.00\">samples = 28</text>\n",
              "<text text-anchor=\"start\" x=\"3587.5\" y=\"-245.8\" font-family=\"Helvetica,sans-Serif\" font-size=\"14.00\">value = [3.935, 95.016]</text>\n",
              "<text text-anchor=\"start\" x=\"3622\" y=\"-230.8\" font-family=\"Helvetica,sans-Serif\" font-size=\"14.00\">class = Yes</text>\n",
              "</g>\n",
              "<!-- 63&#45;&gt;69 -->\n",
              "<g id=\"edge69\" class=\"edge\">\n",
              "<title>63&#45;&gt;69</title>\n",
              "<path fill=\"none\" stroke=\"black\" d=\"M3484.07,-345.16C3511.46,-332.54 3542.15,-318.41 3569.98,-305.58\"/>\n",
              "<polygon fill=\"black\" stroke=\"black\" points=\"3571.68,-308.65 3579.3,-301.29 3568.75,-302.3 3571.68,-308.65\"/>\n",
              "</g>\n",
              "<!-- 65 -->\n",
              "<g id=\"node66\" class=\"node\">\n",
              "<title>65</title>\n",
              "<path fill=\"#3a9ee5\" stroke=\"black\" d=\"M3439.5,-187C3439.5,-187 3292.5,-187 3292.5,-187 3286.5,-187 3280.5,-181 3280.5,-175 3280.5,-175 3280.5,-116 3280.5,-116 3280.5,-110 3286.5,-104 3292.5,-104 3292.5,-104 3439.5,-104 3439.5,-104 3445.5,-104 3451.5,-110 3451.5,-116 3451.5,-116 3451.5,-175 3451.5,-175 3451.5,-181 3445.5,-187 3439.5,-187\"/>\n",
              "<text text-anchor=\"start\" x=\"3288.5\" y=\"-171.8\" font-family=\"Helvetica,sans-Serif\" font-size=\"14.00\">GarageAreaRatio ≤ 0.356</text>\n",
              "<text text-anchor=\"start\" x=\"3318.5\" y=\"-156.8\" font-family=\"Helvetica,sans-Serif\" font-size=\"14.00\">entropy = 0.062</text>\n",
              "<text text-anchor=\"start\" x=\"3325\" y=\"-141.8\" font-family=\"Helvetica,sans-Serif\" font-size=\"14.00\">samples = 18</text>\n",
              "<text text-anchor=\"start\" x=\"3296.5\" y=\"-126.8\" font-family=\"Helvetica,sans-Serif\" font-size=\"14.00\">value = [0.562, 76.918]</text>\n",
              "<text text-anchor=\"start\" x=\"3331\" y=\"-111.8\" font-family=\"Helvetica,sans-Serif\" font-size=\"14.00\">class = Yes</text>\n",
              "</g>\n",
              "<!-- 64&#45;&gt;65 -->\n",
              "<g id=\"edge65\" class=\"edge\">\n",
              "<title>64&#45;&gt;65</title>\n",
              "<path fill=\"none\" stroke=\"black\" d=\"M3390.16,-222.91C3387.49,-214.47 3384.65,-205.48 3381.89,-196.74\"/>\n",
              "<polygon fill=\"black\" stroke=\"black\" points=\"3385.17,-195.5 3378.81,-187.02 3378.49,-197.61 3385.17,-195.5\"/>\n",
              "</g>\n",
              "<!-- 68 -->\n",
              "<g id=\"node69\" class=\"node\">\n",
              "<title>68</title>\n",
              "<path fill=\"#399de5\" stroke=\"black\" d=\"M3598,-179.5C3598,-179.5 3482,-179.5 3482,-179.5 3476,-179.5 3470,-173.5 3470,-167.5 3470,-167.5 3470,-123.5 3470,-123.5 3470,-117.5 3476,-111.5 3482,-111.5 3482,-111.5 3598,-111.5 3598,-111.5 3604,-111.5 3610,-117.5 3610,-123.5 3610,-123.5 3610,-167.5 3610,-167.5 3610,-173.5 3604,-179.5 3598,-179.5\"/>\n",
              "<text text-anchor=\"start\" x=\"3500\" y=\"-164.3\" font-family=\"Helvetica,sans-Serif\" font-size=\"14.00\">entropy = 0.0</text>\n",
              "<text text-anchor=\"start\" x=\"3499\" y=\"-149.3\" font-family=\"Helvetica,sans-Serif\" font-size=\"14.00\">samples = 22</text>\n",
              "<text text-anchor=\"start\" x=\"3478\" y=\"-134.3\" font-family=\"Helvetica,sans-Serif\" font-size=\"14.00\">value = [0.0, 99.541]</text>\n",
              "<text text-anchor=\"start\" x=\"3505\" y=\"-119.3\" font-family=\"Helvetica,sans-Serif\" font-size=\"14.00\">class = Yes</text>\n",
              "</g>\n",
              "<!-- 64&#45;&gt;68 -->\n",
              "<g id=\"edge68\" class=\"edge\">\n",
              "<title>64&#45;&gt;68</title>\n",
              "<path fill=\"none\" stroke=\"black\" d=\"M3450.53,-222.91C3464.36,-211.1 3479.44,-198.22 3493.22,-186.45\"/>\n",
              "<polygon fill=\"black\" stroke=\"black\" points=\"3495.83,-188.82 3501.16,-179.67 3491.29,-183.5 3495.83,-188.82\"/>\n",
              "</g>\n",
              "<!-- 66 -->\n",
              "<g id=\"node67\" class=\"node\">\n",
              "<title>66</title>\n",
              "<path fill=\"#399de5\" stroke=\"black\" d=\"M3492,-68C3492,-68 3376,-68 3376,-68 3370,-68 3364,-62 3364,-56 3364,-56 3364,-12 3364,-12 3364,-6 3370,0 3376,0 3376,0 3492,0 3492,0 3498,0 3504,-6 3504,-12 3504,-12 3504,-56 3504,-56 3504,-62 3498,-68 3492,-68\"/>\n",
              "<text text-anchor=\"start\" x=\"3394\" y=\"-52.8\" font-family=\"Helvetica,sans-Serif\" font-size=\"14.00\">entropy = 0.0</text>\n",
              "<text text-anchor=\"start\" x=\"3393\" y=\"-37.8\" font-family=\"Helvetica,sans-Serif\" font-size=\"14.00\">samples = 17</text>\n",
              "<text text-anchor=\"start\" x=\"3372\" y=\"-22.8\" font-family=\"Helvetica,sans-Serif\" font-size=\"14.00\">value = [0.0, 76.918]</text>\n",
              "<text text-anchor=\"start\" x=\"3399\" y=\"-7.8\" font-family=\"Helvetica,sans-Serif\" font-size=\"14.00\">class = Yes</text>\n",
              "</g>\n",
              "<!-- 65&#45;&gt;66 -->\n",
              "<g id=\"edge66\" class=\"edge\">\n",
              "<title>65&#45;&gt;66</title>\n",
              "<path fill=\"none\" stroke=\"black\" d=\"M3391.32,-103.73C3396.76,-94.97 3402.51,-85.7 3407.98,-76.91\"/>\n",
              "<polygon fill=\"black\" stroke=\"black\" points=\"3411.02,-78.64 3413.32,-68.3 3405.07,-74.95 3411.02,-78.64\"/>\n",
              "</g>\n",
              "<!-- 67 -->\n",
              "<g id=\"node68\" class=\"node\">\n",
              "<title>67</title>\n",
              "<path fill=\"#e58139\" stroke=\"black\" d=\"M3642,-68C3642,-68 3534,-68 3534,-68 3528,-68 3522,-62 3522,-56 3522,-56 3522,-12 3522,-12 3522,-6 3528,0 3534,0 3534,0 3642,0 3642,0 3648,0 3654,-6 3654,-12 3654,-12 3654,-56 3654,-56 3654,-62 3648,-68 3642,-68\"/>\n",
              "<text text-anchor=\"start\" x=\"3545.5\" y=\"-52.8\" font-family=\"Helvetica,sans-Serif\" font-size=\"14.00\">entropy = &#45;0.0</text>\n",
              "<text text-anchor=\"start\" x=\"3550.5\" y=\"-37.8\" font-family=\"Helvetica,sans-Serif\" font-size=\"14.00\">samples = 1</text>\n",
              "<text text-anchor=\"start\" x=\"3530\" y=\"-22.8\" font-family=\"Helvetica,sans-Serif\" font-size=\"14.00\">value = [0.562, 0.0]</text>\n",
              "<text text-anchor=\"start\" x=\"3556\" y=\"-7.8\" font-family=\"Helvetica,sans-Serif\" font-size=\"14.00\">class = No</text>\n",
              "</g>\n",
              "<!-- 65&#45;&gt;67 -->\n",
              "<g id=\"edge67\" class=\"edge\">\n",
              "<title>65&#45;&gt;67</title>\n",
              "<path fill=\"none\" stroke=\"black\" d=\"M3448.35,-103.88C3469.42,-93.49 3491.96,-82.37 3512.66,-72.16\"/>\n",
              "<polygon fill=\"black\" stroke=\"black\" points=\"3514.29,-75.26 3521.71,-67.69 3511.2,-68.98 3514.29,-75.26\"/>\n",
              "</g>\n",
              "<!-- 70 -->\n",
              "<g id=\"node71\" class=\"node\">\n",
              "<title>70</title>\n",
              "<path fill=\"#e58139\" stroke=\"black\" d=\"M3748,-179.5C3748,-179.5 3640,-179.5 3640,-179.5 3634,-179.5 3628,-173.5 3628,-167.5 3628,-167.5 3628,-123.5 3628,-123.5 3628,-117.5 3634,-111.5 3640,-111.5 3640,-111.5 3748,-111.5 3748,-111.5 3754,-111.5 3760,-117.5 3760,-123.5 3760,-123.5 3760,-167.5 3760,-167.5 3760,-173.5 3754,-179.5 3748,-179.5\"/>\n",
              "<text text-anchor=\"start\" x=\"3654\" y=\"-164.3\" font-family=\"Helvetica,sans-Serif\" font-size=\"14.00\">entropy = 0.0</text>\n",
              "<text text-anchor=\"start\" x=\"3656.5\" y=\"-149.3\" font-family=\"Helvetica,sans-Serif\" font-size=\"14.00\">samples = 1</text>\n",
              "<text text-anchor=\"start\" x=\"3636\" y=\"-134.3\" font-family=\"Helvetica,sans-Serif\" font-size=\"14.00\">value = [0.562, 0.0]</text>\n",
              "<text text-anchor=\"start\" x=\"3662\" y=\"-119.3\" font-family=\"Helvetica,sans-Serif\" font-size=\"14.00\">class = No</text>\n",
              "</g>\n",
              "<!-- 69&#45;&gt;70 -->\n",
              "<g id=\"edge70\" class=\"edge\">\n",
              "<title>69&#45;&gt;70</title>\n",
              "<path fill=\"none\" stroke=\"black\" d=\"M3669.84,-222.91C3673.26,-212.09 3676.96,-200.38 3680.42,-189.44\"/>\n",
              "<polygon fill=\"black\" stroke=\"black\" points=\"3683.83,-190.26 3683.51,-179.67 3677.16,-188.15 3683.83,-190.26\"/>\n",
              "</g>\n",
              "<!-- 71 -->\n",
              "<g id=\"node72\" class=\"node\">\n",
              "<title>71</title>\n",
              "<path fill=\"#40a0e6\" stroke=\"black\" d=\"M3921.5,-187C3921.5,-187 3790.5,-187 3790.5,-187 3784.5,-187 3778.5,-181 3778.5,-175 3778.5,-175 3778.5,-116 3778.5,-116 3778.5,-110 3784.5,-104 3790.5,-104 3790.5,-104 3921.5,-104 3921.5,-104 3927.5,-104 3933.5,-110 3933.5,-116 3933.5,-116 3933.5,-175 3933.5,-175 3933.5,-181 3927.5,-187 3921.5,-187\"/>\n",
              "<text text-anchor=\"start\" x=\"3803\" y=\"-171.8\" font-family=\"Helvetica,sans-Serif\" font-size=\"14.00\">Exterior1st ≤ 10.0</text>\n",
              "<text text-anchor=\"start\" x=\"3808.5\" y=\"-156.8\" font-family=\"Helvetica,sans-Serif\" font-size=\"14.00\">entropy = 0.215</text>\n",
              "<text text-anchor=\"start\" x=\"3815\" y=\"-141.8\" font-family=\"Helvetica,sans-Serif\" font-size=\"14.00\">samples = 27</text>\n",
              "<text text-anchor=\"start\" x=\"3786.5\" y=\"-126.8\" font-family=\"Helvetica,sans-Serif\" font-size=\"14.00\">value = [3.373, 95.016]</text>\n",
              "<text text-anchor=\"start\" x=\"3821\" y=\"-111.8\" font-family=\"Helvetica,sans-Serif\" font-size=\"14.00\">class = Yes</text>\n",
              "</g>\n",
              "<!-- 69&#45;&gt;71 -->\n",
              "<g id=\"edge71\" class=\"edge\">\n",
              "<title>69&#45;&gt;71</title>\n",
              "<path fill=\"none\" stroke=\"black\" d=\"M3726.04,-222.91C3742.87,-213.02 3760.98,-202.37 3778.18,-192.25\"/>\n",
              "<polygon fill=\"black\" stroke=\"black\" points=\"3780.23,-195.11 3787.08,-187.02 3776.69,-189.07 3780.23,-195.11\"/>\n",
              "</g>\n",
              "<!-- 72 -->\n",
              "<g id=\"node73\" class=\"node\">\n",
              "<title>72</title>\n",
              "<path fill=\"#399de5\" stroke=\"black\" d=\"M3823,-68C3823,-68 3707,-68 3707,-68 3701,-68 3695,-62 3695,-56 3695,-56 3695,-12 3695,-12 3695,-6 3701,0 3707,0 3707,0 3823,0 3823,0 3829,0 3835,-6 3835,-12 3835,-12 3835,-56 3835,-56 3835,-62 3829,-68 3823,-68\"/>\n",
              "<text text-anchor=\"start\" x=\"3725\" y=\"-52.8\" font-family=\"Helvetica,sans-Serif\" font-size=\"14.00\">entropy = 0.0</text>\n",
              "<text text-anchor=\"start\" x=\"3727.5\" y=\"-37.8\" font-family=\"Helvetica,sans-Serif\" font-size=\"14.00\">samples = 6</text>\n",
              "<text text-anchor=\"start\" x=\"3703\" y=\"-22.8\" font-family=\"Helvetica,sans-Serif\" font-size=\"14.00\">value = [0.0, 27.148]</text>\n",
              "<text text-anchor=\"start\" x=\"3730\" y=\"-7.8\" font-family=\"Helvetica,sans-Serif\" font-size=\"14.00\">class = Yes</text>\n",
              "</g>\n",
              "<!-- 71&#45;&gt;72 -->\n",
              "<g id=\"edge72\" class=\"edge\">\n",
              "<title>71&#45;&gt;72</title>\n",
              "<path fill=\"none\" stroke=\"black\" d=\"M3822.11,-103.73C3814.61,-94.7 3806.66,-85.12 3799.14,-76.08\"/>\n",
              "<polygon fill=\"black\" stroke=\"black\" points=\"3801.76,-73.75 3792.67,-68.3 3796.37,-78.23 3801.76,-73.75\"/>\n",
              "</g>\n",
              "<!-- 73 -->\n",
              "<g id=\"node74\" class=\"node\">\n",
              "<title>73</title>\n",
              "<path fill=\"#43a2e6\" stroke=\"black\" d=\"M3996.5,-68C3996.5,-68 3865.5,-68 3865.5,-68 3859.5,-68 3853.5,-62 3853.5,-56 3853.5,-56 3853.5,-12 3853.5,-12 3853.5,-6 3859.5,0 3865.5,0 3865.5,0 3996.5,0 3996.5,0 4002.5,0 4008.5,-6 4008.5,-12 4008.5,-12 4008.5,-56 4008.5,-56 4008.5,-62 4002.5,-68 3996.5,-68\"/>\n",
              "<text text-anchor=\"start\" x=\"3883.5\" y=\"-52.8\" font-family=\"Helvetica,sans-Serif\" font-size=\"14.00\">entropy = 0.275</text>\n",
              "<text text-anchor=\"start\" x=\"3890\" y=\"-37.8\" font-family=\"Helvetica,sans-Serif\" font-size=\"14.00\">samples = 21</text>\n",
              "<text text-anchor=\"start\" x=\"3861.5\" y=\"-22.8\" font-family=\"Helvetica,sans-Serif\" font-size=\"14.00\">value = [3.373, 67.869]</text>\n",
              "<text text-anchor=\"start\" x=\"3896\" y=\"-7.8\" font-family=\"Helvetica,sans-Serif\" font-size=\"14.00\">class = Yes</text>\n",
              "</g>\n",
              "<!-- 71&#45;&gt;73 -->\n",
              "<g id=\"edge73\" class=\"edge\">\n",
              "<title>71&#45;&gt;73</title>\n",
              "<path fill=\"none\" stroke=\"black\" d=\"M3883.93,-103.73C3889.99,-94.88 3896.4,-85.51 3902.49,-76.63\"/>\n",
              "<polygon fill=\"black\" stroke=\"black\" points=\"3905.43,-78.53 3908.19,-68.3 3899.65,-74.57 3905.43,-78.53\"/>\n",
              "</g>\n",
              "<!-- 75 -->\n",
              "<g id=\"node76\" class=\"node\">\n",
              "<title>75</title>\n",
              "<path fill=\"#e5833c\" stroke=\"black\" d=\"M4024,-663C4024,-663 3886,-663 3886,-663 3880,-663 3874,-657 3874,-651 3874,-651 3874,-592 3874,-592 3874,-586 3880,-580 3886,-580 3886,-580 4024,-580 4024,-580 4030,-580 4036,-586 4036,-592 4036,-592 4036,-651 4036,-651 4036,-657 4030,-663 4024,-663\"/>\n",
              "<text text-anchor=\"start\" x=\"3908.5\" y=\"-647.8\" font-family=\"Helvetica,sans-Serif\" font-size=\"14.00\">RoofStyle ≤ 2.5</text>\n",
              "<text text-anchor=\"start\" x=\"3908\" y=\"-632.8\" font-family=\"Helvetica,sans-Serif\" font-size=\"14.00\">entropy = 0.118</text>\n",
              "<text text-anchor=\"start\" x=\"3910\" y=\"-617.8\" font-family=\"Helvetica,sans-Serif\" font-size=\"14.00\">samples = 498</text>\n",
              "<text text-anchor=\"start\" x=\"3882\" y=\"-602.8\" font-family=\"Helvetica,sans-Serif\" font-size=\"14.00\">value = [279.373, 4.525]</text>\n",
              "<text text-anchor=\"start\" x=\"3923\" y=\"-587.8\" font-family=\"Helvetica,sans-Serif\" font-size=\"14.00\">class = No</text>\n",
              "</g>\n",
              "<!-- 74&#45;&gt;75 -->\n",
              "<g id=\"edge75\" class=\"edge\">\n",
              "<title>74&#45;&gt;75</title>\n",
              "<path fill=\"none\" stroke=\"black\" d=\"M3955,-698.91C3955,-690.65 3955,-681.86 3955,-673.3\"/>\n",
              "<polygon fill=\"black\" stroke=\"black\" points=\"3958.5,-673.02 3955,-663.02 3951.5,-673.02 3958.5,-673.02\"/>\n",
              "</g>\n",
              "<!-- 84 -->\n",
              "<g id=\"node85\" class=\"node\">\n",
              "<title>84</title>\n",
              "<path fill=\"#93caf1\" stroke=\"black\" d=\"M4422.5,-663C4422.5,-663 4291.5,-663 4291.5,-663 4285.5,-663 4279.5,-657 4279.5,-651 4279.5,-651 4279.5,-592 4279.5,-592 4279.5,-586 4285.5,-580 4291.5,-580 4291.5,-580 4422.5,-580 4422.5,-580 4428.5,-580 4434.5,-586 4434.5,-592 4434.5,-592 4434.5,-651 4434.5,-651 4434.5,-657 4428.5,-663 4422.5,-663\"/>\n",
              "<text text-anchor=\"start\" x=\"4303.5\" y=\"-647.8\" font-family=\"Helvetica,sans-Serif\" font-size=\"14.00\">1stFlrSF ≤ 1103.5</text>\n",
              "<text text-anchor=\"start\" x=\"4309.5\" y=\"-632.8\" font-family=\"Helvetica,sans-Serif\" font-size=\"14.00\">entropy = 0.897</text>\n",
              "<text text-anchor=\"start\" x=\"4316\" y=\"-617.8\" font-family=\"Helvetica,sans-Serif\" font-size=\"14.00\">samples = 42</text>\n",
              "<text text-anchor=\"start\" x=\"4287.5\" y=\"-602.8\" font-family=\"Helvetica,sans-Serif\" font-size=\"14.00\">value = [18.55, 40.721]</text>\n",
              "<text text-anchor=\"start\" x=\"4322\" y=\"-587.8\" font-family=\"Helvetica,sans-Serif\" font-size=\"14.00\">class = Yes</text>\n",
              "</g>\n",
              "<!-- 74&#45;&gt;84 -->\n",
              "<g id=\"edge84\" class=\"edge\">\n",
              "<title>74&#45;&gt;84</title>\n",
              "<path fill=\"none\" stroke=\"black\" d=\"M4040.25,-714.69C4107.69,-695.06 4201.5,-667.76 4269.52,-647.96\"/>\n",
              "<polygon fill=\"black\" stroke=\"black\" points=\"4270.73,-651.25 4279.36,-645.1 4268.78,-644.53 4270.73,-651.25\"/>\n",
              "</g>\n",
              "<!-- 76 -->\n",
              "<g id=\"node77\" class=\"node\">\n",
              "<title>76</title>\n",
              "<path fill=\"#e58139\" stroke=\"black\" d=\"M3931.5,-536.5C3931.5,-536.5 3808.5,-536.5 3808.5,-536.5 3802.5,-536.5 3796.5,-530.5 3796.5,-524.5 3796.5,-524.5 3796.5,-480.5 3796.5,-480.5 3796.5,-474.5 3802.5,-468.5 3808.5,-468.5 3808.5,-468.5 3931.5,-468.5 3931.5,-468.5 3937.5,-468.5 3943.5,-474.5 3943.5,-480.5 3943.5,-480.5 3943.5,-524.5 3943.5,-524.5 3943.5,-530.5 3937.5,-536.5 3931.5,-536.5\"/>\n",
              "<text text-anchor=\"start\" x=\"3827.5\" y=\"-521.3\" font-family=\"Helvetica,sans-Serif\" font-size=\"14.00\">entropy = &#45;0.0</text>\n",
              "<text text-anchor=\"start\" x=\"3825\" y=\"-506.3\" font-family=\"Helvetica,sans-Serif\" font-size=\"14.00\">samples = 419</text>\n",
              "<text text-anchor=\"start\" x=\"3804.5\" y=\"-491.3\" font-family=\"Helvetica,sans-Serif\" font-size=\"14.00\">value = [235.527, 0.0]</text>\n",
              "<text text-anchor=\"start\" x=\"3838\" y=\"-476.3\" font-family=\"Helvetica,sans-Serif\" font-size=\"14.00\">class = No</text>\n",
              "</g>\n",
              "<!-- 75&#45;&gt;76 -->\n",
              "<g id=\"edge76\" class=\"edge\">\n",
              "<title>75&#45;&gt;76</title>\n",
              "<path fill=\"none\" stroke=\"black\" d=\"M3925.51,-579.91C3917.25,-568.54 3908.27,-556.18 3899.99,-544.77\"/>\n",
              "<polygon fill=\"black\" stroke=\"black\" points=\"3902.8,-542.7 3894.1,-536.67 3897.14,-546.81 3902.8,-542.7\"/>\n",
              "</g>\n",
              "<!-- 77 -->\n",
              "<g id=\"node78\" class=\"node\">\n",
              "<title>77</title>\n",
              "<path fill=\"#e88e4d\" stroke=\"black\" d=\"M4104.5,-544C4104.5,-544 3973.5,-544 3973.5,-544 3967.5,-544 3961.5,-538 3961.5,-532 3961.5,-532 3961.5,-473 3961.5,-473 3961.5,-467 3967.5,-461 3973.5,-461 3973.5,-461 4104.5,-461 4104.5,-461 4110.5,-461 4116.5,-467 4116.5,-473 4116.5,-473 4116.5,-532 4116.5,-532 4116.5,-538 4110.5,-544 4104.5,-544\"/>\n",
              "<text text-anchor=\"start\" x=\"3981.5\" y=\"-528.8\" font-family=\"Helvetica,sans-Serif\" font-size=\"14.00\">OverallQual ≤ 0.65</text>\n",
              "<text text-anchor=\"start\" x=\"3991.5\" y=\"-513.8\" font-family=\"Helvetica,sans-Serif\" font-size=\"14.00\">entropy = 0.448</text>\n",
              "<text text-anchor=\"start\" x=\"3998\" y=\"-498.8\" font-family=\"Helvetica,sans-Serif\" font-size=\"14.00\">samples = 79</text>\n",
              "<text text-anchor=\"start\" x=\"3969.5\" y=\"-483.8\" font-family=\"Helvetica,sans-Serif\" font-size=\"14.00\">value = [43.845, 4.525]</text>\n",
              "<text text-anchor=\"start\" x=\"4007\" y=\"-468.8\" font-family=\"Helvetica,sans-Serif\" font-size=\"14.00\">class = No</text>\n",
              "</g>\n",
              "<!-- 75&#45;&gt;77 -->\n",
              "<g id=\"edge77\" class=\"edge\">\n",
              "<title>75&#45;&gt;77</title>\n",
              "<path fill=\"none\" stroke=\"black\" d=\"M3984.14,-579.91C3990.53,-571.01 3997.35,-561.51 4003.94,-552.33\"/>\n",
              "<polygon fill=\"black\" stroke=\"black\" points=\"4006.92,-554.19 4009.91,-544.02 4001.23,-550.1 4006.92,-554.19\"/>\n",
              "</g>\n",
              "<!-- 78 -->\n",
              "<g id=\"node79\" class=\"node\">\n",
              "<title>78</title>\n",
              "<path fill=\"#e58139\" stroke=\"black\" d=\"M4016,-425C4016,-425 3900,-425 3900,-425 3894,-425 3888,-419 3888,-413 3888,-413 3888,-354 3888,-354 3888,-348 3894,-342 3900,-342 3900,-342 4016,-342 4016,-342 4022,-342 4028,-348 4028,-354 4028,-354 4028,-413 4028,-413 4028,-419 4022,-425 4016,-425\"/>\n",
              "<text text-anchor=\"start\" x=\"3909.5\" y=\"-409.8\" font-family=\"Helvetica,sans-Serif\" font-size=\"14.00\">MSZoning ≤ 1.5</text>\n",
              "<text text-anchor=\"start\" x=\"3918\" y=\"-394.8\" font-family=\"Helvetica,sans-Serif\" font-size=\"14.00\">entropy = 0.0</text>\n",
              "<text text-anchor=\"start\" x=\"3917\" y=\"-379.8\" font-family=\"Helvetica,sans-Serif\" font-size=\"14.00\">samples = 73</text>\n",
              "<text text-anchor=\"start\" x=\"3896\" y=\"-364.8\" font-family=\"Helvetica,sans-Serif\" font-size=\"14.00\">value = [41.035, 0.0]</text>\n",
              "<text text-anchor=\"start\" x=\"3926\" y=\"-349.8\" font-family=\"Helvetica,sans-Serif\" font-size=\"14.00\">class = No</text>\n",
              "</g>\n",
              "<!-- 77&#45;&gt;78 -->\n",
              "<g id=\"edge78\" class=\"edge\">\n",
              "<title>77&#45;&gt;78</title>\n",
              "<path fill=\"none\" stroke=\"black\" d=\"M4010.9,-460.91C4004.74,-452.01 3998.16,-442.51 3991.81,-433.33\"/>\n",
              "<polygon fill=\"black\" stroke=\"black\" points=\"3994.62,-431.25 3986.05,-425.02 3988.87,-435.24 3994.62,-431.25\"/>\n",
              "</g>\n",
              "<!-- 81 -->\n",
              "<g id=\"node82\" class=\"node\">\n",
              "<title>81</title>\n",
              "<path fill=\"#b4daf5\" stroke=\"black\" d=\"M4180,-425C4180,-425 4058,-425 4058,-425 4052,-425 4046,-419 4046,-413 4046,-413 4046,-354 4046,-354 4046,-348 4052,-342 4058,-342 4058,-342 4180,-342 4180,-342 4186,-342 4192,-348 4192,-354 4192,-354 4192,-413 4192,-413 4192,-419 4186,-425 4180,-425\"/>\n",
              "<text text-anchor=\"start\" x=\"4055\" y=\"-409.8\" font-family=\"Helvetica,sans-Serif\" font-size=\"14.00\">OpenPorchSF ≤ 60.5</text>\n",
              "<text text-anchor=\"start\" x=\"4075\" y=\"-394.8\" font-family=\"Helvetica,sans-Serif\" font-size=\"14.00\">entropy = 0.96</text>\n",
              "<text text-anchor=\"start\" x=\"4081.5\" y=\"-379.8\" font-family=\"Helvetica,sans-Serif\" font-size=\"14.00\">samples = 6</text>\n",
              "<text text-anchor=\"start\" x=\"4054\" y=\"-364.8\" font-family=\"Helvetica,sans-Serif\" font-size=\"14.00\">value = [2.811, 4.525]</text>\n",
              "<text text-anchor=\"start\" x=\"4084\" y=\"-349.8\" font-family=\"Helvetica,sans-Serif\" font-size=\"14.00\">class = Yes</text>\n",
              "</g>\n",
              "<!-- 77&#45;&gt;81 -->\n",
              "<g id=\"edge81\" class=\"edge\">\n",
              "<title>77&#45;&gt;81</title>\n",
              "<path fill=\"none\" stroke=\"black\" d=\"M4066.76,-460.91C4072.84,-452.01 4079.34,-442.51 4085.61,-433.33\"/>\n",
              "<polygon fill=\"black\" stroke=\"black\" points=\"4088.54,-435.25 4091.29,-425.02 4082.76,-431.3 4088.54,-435.25\"/>\n",
              "</g>\n",
              "<!-- 79 -->\n",
              "<g id=\"node80\" class=\"node\">\n",
              "<title>79</title>\n",
              "<path fill=\"#e58139\" stroke=\"black\" d=\"M3873,-298.5C3873,-298.5 3765,-298.5 3765,-298.5 3759,-298.5 3753,-292.5 3753,-286.5 3753,-286.5 3753,-242.5 3753,-242.5 3753,-236.5 3759,-230.5 3765,-230.5 3765,-230.5 3873,-230.5 3873,-230.5 3879,-230.5 3885,-236.5 3885,-242.5 3885,-242.5 3885,-286.5 3885,-286.5 3885,-292.5 3879,-298.5 3873,-298.5\"/>\n",
              "<text text-anchor=\"start\" x=\"3779\" y=\"-283.3\" font-family=\"Helvetica,sans-Serif\" font-size=\"14.00\">entropy = 0.0</text>\n",
              "<text text-anchor=\"start\" x=\"3781.5\" y=\"-268.3\" font-family=\"Helvetica,sans-Serif\" font-size=\"14.00\">samples = 2</text>\n",
              "<text text-anchor=\"start\" x=\"3761\" y=\"-253.3\" font-family=\"Helvetica,sans-Serif\" font-size=\"14.00\">value = [1.124, 0.0]</text>\n",
              "<text text-anchor=\"start\" x=\"3787\" y=\"-238.3\" font-family=\"Helvetica,sans-Serif\" font-size=\"14.00\">class = No</text>\n",
              "</g>\n",
              "<!-- 78&#45;&gt;79 -->\n",
              "<g id=\"edge79\" class=\"edge\">\n",
              "<title>78&#45;&gt;79</title>\n",
              "<path fill=\"none\" stroke=\"black\" d=\"M3909.77,-341.91C3895.62,-329.99 3880.15,-316.98 3866.07,-305.12\"/>\n",
              "<polygon fill=\"black\" stroke=\"black\" points=\"3868.31,-302.43 3858.4,-298.67 3863.8,-307.78 3868.31,-302.43\"/>\n",
              "</g>\n",
              "<!-- 80 -->\n",
              "<g id=\"node81\" class=\"node\">\n",
              "<title>80</title>\n",
              "<path fill=\"#e58139\" stroke=\"black\" d=\"M4023,-298.5C4023,-298.5 3915,-298.5 3915,-298.5 3909,-298.5 3903,-292.5 3903,-286.5 3903,-286.5 3903,-242.5 3903,-242.5 3903,-236.5 3909,-230.5 3915,-230.5 3915,-230.5 4023,-230.5 4023,-230.5 4029,-230.5 4035,-236.5 4035,-242.5 4035,-242.5 4035,-286.5 4035,-286.5 4035,-292.5 4029,-298.5 4023,-298.5\"/>\n",
              "<text text-anchor=\"start\" x=\"3929\" y=\"-283.3\" font-family=\"Helvetica,sans-Serif\" font-size=\"14.00\">entropy = 0.0</text>\n",
              "<text text-anchor=\"start\" x=\"3928\" y=\"-268.3\" font-family=\"Helvetica,sans-Serif\" font-size=\"14.00\">samples = 71</text>\n",
              "<text text-anchor=\"start\" x=\"3911\" y=\"-253.3\" font-family=\"Helvetica,sans-Serif\" font-size=\"14.00\">value = [39.91, 0.0]</text>\n",
              "<text text-anchor=\"start\" x=\"3937\" y=\"-238.3\" font-family=\"Helvetica,sans-Serif\" font-size=\"14.00\">class = No</text>\n",
              "</g>\n",
              "<!-- 78&#45;&gt;80 -->\n",
              "<g id=\"edge80\" class=\"edge\">\n",
              "<title>78&#45;&gt;80</title>\n",
              "<path fill=\"none\" stroke=\"black\" d=\"M3961.82,-341.91C3962.82,-331.2 3963.91,-319.62 3964.93,-308.78\"/>\n",
              "<polygon fill=\"black\" stroke=\"black\" points=\"3968.43,-308.95 3965.88,-298.67 3961.46,-308.3 3968.43,-308.95\"/>\n",
              "</g>\n",
              "<!-- 82 -->\n",
              "<g id=\"node83\" class=\"node\">\n",
              "<title>82</title>\n",
              "<path fill=\"#e58139\" stroke=\"black\" d=\"M4172.5,-298.5C4172.5,-298.5 4065.5,-298.5 4065.5,-298.5 4059.5,-298.5 4053.5,-292.5 4053.5,-286.5 4053.5,-286.5 4053.5,-242.5 4053.5,-242.5 4053.5,-236.5 4059.5,-230.5 4065.5,-230.5 4065.5,-230.5 4172.5,-230.5 4172.5,-230.5 4178.5,-230.5 4184.5,-236.5 4184.5,-242.5 4184.5,-242.5 4184.5,-286.5 4184.5,-286.5 4184.5,-292.5 4178.5,-298.5 4172.5,-298.5\"/>\n",
              "<text text-anchor=\"start\" x=\"4079\" y=\"-283.3\" font-family=\"Helvetica,sans-Serif\" font-size=\"14.00\">entropy = 0.0</text>\n",
              "<text text-anchor=\"start\" x=\"4081.5\" y=\"-268.3\" font-family=\"Helvetica,sans-Serif\" font-size=\"14.00\">samples = 5</text>\n",
              "<text text-anchor=\"start\" x=\"4061.5\" y=\"-253.3\" font-family=\"Helvetica,sans-Serif\" font-size=\"14.00\">value = [2.811, 0.0]</text>\n",
              "<text text-anchor=\"start\" x=\"4087\" y=\"-238.3\" font-family=\"Helvetica,sans-Serif\" font-size=\"14.00\">class = No</text>\n",
              "</g>\n",
              "<!-- 81&#45;&gt;82 -->\n",
              "<g id=\"edge82\" class=\"edge\">\n",
              "<title>81&#45;&gt;82</title>\n",
              "<path fill=\"none\" stroke=\"black\" d=\"M4119,-341.91C4119,-331.2 4119,-319.62 4119,-308.78\"/>\n",
              "<polygon fill=\"black\" stroke=\"black\" points=\"4122.5,-308.67 4119,-298.67 4115.5,-308.67 4122.5,-308.67\"/>\n",
              "</g>\n",
              "<!-- 83 -->\n",
              "<g id=\"node84\" class=\"node\">\n",
              "<title>83</title>\n",
              "<path fill=\"#399de5\" stroke=\"black\" d=\"M4323,-298.5C4323,-298.5 4215,-298.5 4215,-298.5 4209,-298.5 4203,-292.5 4203,-286.5 4203,-286.5 4203,-242.5 4203,-242.5 4203,-236.5 4209,-230.5 4215,-230.5 4215,-230.5 4323,-230.5 4323,-230.5 4329,-230.5 4335,-236.5 4335,-242.5 4335,-242.5 4335,-286.5 4335,-286.5 4335,-292.5 4329,-298.5 4323,-298.5\"/>\n",
              "<text text-anchor=\"start\" x=\"4229\" y=\"-283.3\" font-family=\"Helvetica,sans-Serif\" font-size=\"14.00\">entropy = 0.0</text>\n",
              "<text text-anchor=\"start\" x=\"4231.5\" y=\"-268.3\" font-family=\"Helvetica,sans-Serif\" font-size=\"14.00\">samples = 1</text>\n",
              "<text text-anchor=\"start\" x=\"4211\" y=\"-253.3\" font-family=\"Helvetica,sans-Serif\" font-size=\"14.00\">value = [0.0, 4.525]</text>\n",
              "<text text-anchor=\"start\" x=\"4234\" y=\"-238.3\" font-family=\"Helvetica,sans-Serif\" font-size=\"14.00\">class = Yes</text>\n",
              "</g>\n",
              "<!-- 81&#45;&gt;83 -->\n",
              "<g id=\"edge83\" class=\"edge\">\n",
              "<title>81&#45;&gt;83</title>\n",
              "<path fill=\"none\" stroke=\"black\" d=\"M4171.04,-341.91C4186.32,-329.99 4203.01,-316.98 4218.21,-305.12\"/>\n",
              "<polygon fill=\"black\" stroke=\"black\" points=\"4220.75,-307.58 4226.48,-298.67 4216.44,-302.06 4220.75,-307.58\"/>\n",
              "</g>\n",
              "<!-- 85 -->\n",
              "<g id=\"node86\" class=\"node\">\n",
              "<title>85</title>\n",
              "<path fill=\"#e58139\" stroke=\"black\" d=\"M4415,-544C4415,-544 4299,-544 4299,-544 4293,-544 4287,-538 4287,-532 4287,-532 4287,-473 4287,-473 4287,-467 4293,-461 4299,-461 4299,-461 4415,-461 4415,-461 4421,-461 4427,-467 4427,-473 4427,-473 4427,-532 4427,-532 4427,-538 4421,-544 4415,-544\"/>\n",
              "<text text-anchor=\"start\" x=\"4299.5\" y=\"-528.8\" font-family=\"Helvetica,sans-Serif\" font-size=\"14.00\">OverallQual ≤ 0.65</text>\n",
              "<text text-anchor=\"start\" x=\"4317\" y=\"-513.8\" font-family=\"Helvetica,sans-Serif\" font-size=\"14.00\">entropy = 0.0</text>\n",
              "<text text-anchor=\"start\" x=\"4316\" y=\"-498.8\" font-family=\"Helvetica,sans-Serif\" font-size=\"14.00\">samples = 22</text>\n",
              "<text text-anchor=\"start\" x=\"4295\" y=\"-483.8\" font-family=\"Helvetica,sans-Serif\" font-size=\"14.00\">value = [12.367, 0.0]</text>\n",
              "<text text-anchor=\"start\" x=\"4325\" y=\"-468.8\" font-family=\"Helvetica,sans-Serif\" font-size=\"14.00\">class = No</text>\n",
              "</g>\n",
              "<!-- 84&#45;&gt;85 -->\n",
              "<g id=\"edge85\" class=\"edge\">\n",
              "<title>84&#45;&gt;85</title>\n",
              "<path fill=\"none\" stroke=\"black\" d=\"M4357,-579.91C4357,-571.65 4357,-562.86 4357,-554.3\"/>\n",
              "<polygon fill=\"black\" stroke=\"black\" points=\"4360.5,-554.02 4357,-544.02 4353.5,-554.02 4360.5,-554.02\"/>\n",
              "</g>\n",
              "<!-- 88 -->\n",
              "<g id=\"node89\" class=\"node\">\n",
              "<title>88</title>\n",
              "<path fill=\"#57ace9\" stroke=\"black\" d=\"M4649.5,-544C4649.5,-544 4518.5,-544 4518.5,-544 4512.5,-544 4506.5,-538 4506.5,-532 4506.5,-532 4506.5,-473 4506.5,-473 4506.5,-467 4512.5,-461 4518.5,-461 4518.5,-461 4649.5,-461 4649.5,-461 4655.5,-461 4661.5,-467 4661.5,-473 4661.5,-473 4661.5,-532 4661.5,-532 4661.5,-538 4655.5,-544 4649.5,-544\"/>\n",
              "<text text-anchor=\"start\" x=\"4532\" y=\"-528.8\" font-family=\"Helvetica,sans-Serif\" font-size=\"14.00\">2ndFlrSF ≤ 811.5</text>\n",
              "<text text-anchor=\"start\" x=\"4536.5\" y=\"-513.8\" font-family=\"Helvetica,sans-Serif\" font-size=\"14.00\">entropy = 0.562</text>\n",
              "<text text-anchor=\"start\" x=\"4543\" y=\"-498.8\" font-family=\"Helvetica,sans-Serif\" font-size=\"14.00\">samples = 20</text>\n",
              "<text text-anchor=\"start\" x=\"4514.5\" y=\"-483.8\" font-family=\"Helvetica,sans-Serif\" font-size=\"14.00\">value = [6.183, 40.721]</text>\n",
              "<text text-anchor=\"start\" x=\"4549\" y=\"-468.8\" font-family=\"Helvetica,sans-Serif\" font-size=\"14.00\">class = Yes</text>\n",
              "</g>\n",
              "<!-- 84&#45;&gt;88 -->\n",
              "<g id=\"edge88\" class=\"edge\">\n",
              "<title>84&#45;&gt;88</title>\n",
              "<path fill=\"none\" stroke=\"black\" d=\"M4434.8,-580.4C4454.93,-570.03 4476.72,-558.8 4497.27,-548.2\"/>\n",
              "<polygon fill=\"black\" stroke=\"black\" points=\"4499.01,-551.24 4506.3,-543.55 4495.81,-545.02 4499.01,-551.24\"/>\n",
              "</g>\n",
              "<!-- 86 -->\n",
              "<g id=\"node87\" class=\"node\">\n",
              "<title>86</title>\n",
              "<path fill=\"#e58139\" stroke=\"black\" d=\"M4330,-417.5C4330,-417.5 4222,-417.5 4222,-417.5 4216,-417.5 4210,-411.5 4210,-405.5 4210,-405.5 4210,-361.5 4210,-361.5 4210,-355.5 4216,-349.5 4222,-349.5 4222,-349.5 4330,-349.5 4330,-349.5 4336,-349.5 4342,-355.5 4342,-361.5 4342,-361.5 4342,-405.5 4342,-405.5 4342,-411.5 4336,-417.5 4330,-417.5\"/>\n",
              "<text text-anchor=\"start\" x=\"4236\" y=\"-402.3\" font-family=\"Helvetica,sans-Serif\" font-size=\"14.00\">entropy = 0.0</text>\n",
              "<text text-anchor=\"start\" x=\"4238.5\" y=\"-387.3\" font-family=\"Helvetica,sans-Serif\" font-size=\"14.00\">samples = 7</text>\n",
              "<text text-anchor=\"start\" x=\"4218\" y=\"-372.3\" font-family=\"Helvetica,sans-Serif\" font-size=\"14.00\">value = [3.935, 0.0]</text>\n",
              "<text text-anchor=\"start\" x=\"4244\" y=\"-357.3\" font-family=\"Helvetica,sans-Serif\" font-size=\"14.00\">class = No</text>\n",
              "</g>\n",
              "<!-- 85&#45;&gt;86 -->\n",
              "<g id=\"edge86\" class=\"edge\">\n",
              "<title>85&#45;&gt;86</title>\n",
              "<path fill=\"none\" stroke=\"black\" d=\"M4328.9,-460.91C4321.11,-449.65 4312.64,-437.42 4304.8,-426.11\"/>\n",
              "<polygon fill=\"black\" stroke=\"black\" points=\"4307.53,-423.9 4298.96,-417.67 4301.78,-427.88 4307.53,-423.9\"/>\n",
              "</g>\n",
              "<!-- 87 -->\n",
              "<g id=\"node88\" class=\"node\">\n",
              "<title>87</title>\n",
              "<path fill=\"#e58139\" stroke=\"black\" d=\"M4480,-417.5C4480,-417.5 4372,-417.5 4372,-417.5 4366,-417.5 4360,-411.5 4360,-405.5 4360,-405.5 4360,-361.5 4360,-361.5 4360,-355.5 4366,-349.5 4372,-349.5 4372,-349.5 4480,-349.5 4480,-349.5 4486,-349.5 4492,-355.5 4492,-361.5 4492,-361.5 4492,-405.5 4492,-405.5 4492,-411.5 4486,-417.5 4480,-417.5\"/>\n",
              "<text text-anchor=\"start\" x=\"4386\" y=\"-402.3\" font-family=\"Helvetica,sans-Serif\" font-size=\"14.00\">entropy = 0.0</text>\n",
              "<text text-anchor=\"start\" x=\"4385\" y=\"-387.3\" font-family=\"Helvetica,sans-Serif\" font-size=\"14.00\">samples = 15</text>\n",
              "<text text-anchor=\"start\" x=\"4368\" y=\"-372.3\" font-family=\"Helvetica,sans-Serif\" font-size=\"14.00\">value = [8.432, 0.0]</text>\n",
              "<text text-anchor=\"start\" x=\"4394\" y=\"-357.3\" font-family=\"Helvetica,sans-Serif\" font-size=\"14.00\">class = No</text>\n",
              "</g>\n",
              "<!-- 85&#45;&gt;87 -->\n",
              "<g id=\"edge87\" class=\"edge\">\n",
              "<title>85&#45;&gt;87</title>\n",
              "<path fill=\"none\" stroke=\"black\" d=\"M4380.94,-460.91C4387.51,-449.76 4394.65,-437.66 4401.27,-426.44\"/>\n",
              "<polygon fill=\"black\" stroke=\"black\" points=\"4404.37,-428.06 4406.44,-417.67 4398.35,-424.5 4404.37,-428.06\"/>\n",
              "</g>\n",
              "<!-- 89 -->\n",
              "<g id=\"node90\" class=\"node\">\n",
              "<title>89</title>\n",
              "<path fill=\"#b4daf5\" stroke=\"black\" d=\"M4645.5,-425C4645.5,-425 4522.5,-425 4522.5,-425 4516.5,-425 4510.5,-419 4510.5,-413 4510.5,-413 4510.5,-354 4510.5,-354 4510.5,-348 4516.5,-342 4522.5,-342 4522.5,-342 4645.5,-342 4645.5,-342 4651.5,-342 4657.5,-348 4657.5,-354 4657.5,-354 4657.5,-413 4657.5,-413 4657.5,-419 4651.5,-425 4645.5,-425\"/>\n",
              "<text text-anchor=\"start\" x=\"4525\" y=\"-409.8\" font-family=\"Helvetica,sans-Serif\" font-size=\"14.00\">MasVnrArea ≤ 84.5</text>\n",
              "<text text-anchor=\"start\" x=\"4540\" y=\"-394.8\" font-family=\"Helvetica,sans-Serif\" font-size=\"14.00\">entropy = 0.96</text>\n",
              "<text text-anchor=\"start\" x=\"4543\" y=\"-379.8\" font-family=\"Helvetica,sans-Serif\" font-size=\"14.00\">samples = 12</text>\n",
              "<text text-anchor=\"start\" x=\"4518.5\" y=\"-364.8\" font-family=\"Helvetica,sans-Serif\" font-size=\"14.00\">value = [5.621, 9.049]</text>\n",
              "<text text-anchor=\"start\" x=\"4549\" y=\"-349.8\" font-family=\"Helvetica,sans-Serif\" font-size=\"14.00\">class = Yes</text>\n",
              "</g>\n",
              "<!-- 88&#45;&gt;89 -->\n",
              "<g id=\"edge89\" class=\"edge\">\n",
              "<title>88&#45;&gt;89</title>\n",
              "<path fill=\"none\" stroke=\"black\" d=\"M4584,-460.91C4584,-452.65 4584,-443.86 4584,-435.3\"/>\n",
              "<polygon fill=\"black\" stroke=\"black\" points=\"4587.5,-435.02 4584,-425.02 4580.5,-435.02 4587.5,-435.02\"/>\n",
              "</g>\n",
              "<!-- 94 -->\n",
              "<g id=\"node95\" class=\"node\">\n",
              "<title>94</title>\n",
              "<path fill=\"#3d9fe5\" stroke=\"black\" d=\"M4818.5,-425C4818.5,-425 4687.5,-425 4687.5,-425 4681.5,-425 4675.5,-419 4675.5,-413 4675.5,-413 4675.5,-354 4675.5,-354 4675.5,-348 4681.5,-342 4687.5,-342 4687.5,-342 4818.5,-342 4818.5,-342 4824.5,-342 4830.5,-348 4830.5,-354 4830.5,-354 4830.5,-413 4830.5,-413 4830.5,-419 4824.5,-425 4818.5,-425\"/>\n",
              "<text text-anchor=\"start\" x=\"4702\" y=\"-409.8\" font-family=\"Helvetica,sans-Serif\" font-size=\"14.00\">HeatingQC ≤ 2.5</text>\n",
              "<text text-anchor=\"start\" x=\"4705.5\" y=\"-394.8\" font-family=\"Helvetica,sans-Serif\" font-size=\"14.00\">entropy = 0.127</text>\n",
              "<text text-anchor=\"start\" x=\"4715.5\" y=\"-379.8\" font-family=\"Helvetica,sans-Serif\" font-size=\"14.00\">samples = 8</text>\n",
              "<text text-anchor=\"start\" x=\"4683.5\" y=\"-364.8\" font-family=\"Helvetica,sans-Serif\" font-size=\"14.00\">value = [0.562, 31.672]</text>\n",
              "<text text-anchor=\"start\" x=\"4718\" y=\"-349.8\" font-family=\"Helvetica,sans-Serif\" font-size=\"14.00\">class = Yes</text>\n",
              "</g>\n",
              "<!-- 88&#45;&gt;94 -->\n",
              "<g id=\"edge94\" class=\"edge\">\n",
              "<title>88&#45;&gt;94</title>\n",
              "<path fill=\"none\" stroke=\"black\" d=\"M4642.63,-460.91C4656.66,-451.2 4671.74,-440.76 4686.11,-430.81\"/>\n",
              "<polygon fill=\"black\" stroke=\"black\" points=\"4688.24,-433.59 4694.47,-425.02 4684.26,-427.84 4688.24,-433.59\"/>\n",
              "</g>\n",
              "<!-- 90 -->\n",
              "<g id=\"node91\" class=\"node\">\n",
              "<title>90</title>\n",
              "<path fill=\"#6ab5eb\" stroke=\"black\" d=\"M4491.5,-306C4491.5,-306 4368.5,-306 4368.5,-306 4362.5,-306 4356.5,-300 4356.5,-294 4356.5,-294 4356.5,-235 4356.5,-235 4356.5,-229 4362.5,-223 4368.5,-223 4368.5,-223 4491.5,-223 4491.5,-223 4497.5,-223 4503.5,-229 4503.5,-235 4503.5,-235 4503.5,-294 4503.5,-294 4503.5,-300 4497.5,-306 4491.5,-306\"/>\n",
              "<text text-anchor=\"start\" x=\"4368.5\" y=\"-290.8\" font-family=\"Helvetica,sans-Serif\" font-size=\"14.00\">BsmtExposure ≤ 2.0</text>\n",
              "<text text-anchor=\"start\" x=\"4386\" y=\"-275.8\" font-family=\"Helvetica,sans-Serif\" font-size=\"14.00\">entropy = 0.72</text>\n",
              "<text text-anchor=\"start\" x=\"4392.5\" y=\"-260.8\" font-family=\"Helvetica,sans-Serif\" font-size=\"14.00\">samples = 6</text>\n",
              "<text text-anchor=\"start\" x=\"4364.5\" y=\"-245.8\" font-family=\"Helvetica,sans-Serif\" font-size=\"14.00\">value = [2.248, 9.049]</text>\n",
              "<text text-anchor=\"start\" x=\"4395\" y=\"-230.8\" font-family=\"Helvetica,sans-Serif\" font-size=\"14.00\">class = Yes</text>\n",
              "</g>\n",
              "<!-- 89&#45;&gt;90 -->\n",
              "<g id=\"edge90\" class=\"edge\">\n",
              "<title>89&#45;&gt;90</title>\n",
              "<path fill=\"none\" stroke=\"black\" d=\"M4530.57,-341.91C4517.91,-332.29 4504.31,-321.95 4491.32,-312.09\"/>\n",
              "<polygon fill=\"black\" stroke=\"black\" points=\"4493.42,-309.28 4483.34,-306.02 4489.18,-314.86 4493.42,-309.28\"/>\n",
              "</g>\n",
              "<!-- 93 -->\n",
              "<g id=\"node94\" class=\"node\">\n",
              "<title>93</title>\n",
              "<path fill=\"#e58139\" stroke=\"black\" d=\"M4642,-298.5C4642,-298.5 4534,-298.5 4534,-298.5 4528,-298.5 4522,-292.5 4522,-286.5 4522,-286.5 4522,-242.5 4522,-242.5 4522,-236.5 4528,-230.5 4534,-230.5 4534,-230.5 4642,-230.5 4642,-230.5 4648,-230.5 4654,-236.5 4654,-242.5 4654,-242.5 4654,-286.5 4654,-286.5 4654,-292.5 4648,-298.5 4642,-298.5\"/>\n",
              "<text text-anchor=\"start\" x=\"4545.5\" y=\"-283.3\" font-family=\"Helvetica,sans-Serif\" font-size=\"14.00\">entropy = &#45;0.0</text>\n",
              "<text text-anchor=\"start\" x=\"4550.5\" y=\"-268.3\" font-family=\"Helvetica,sans-Serif\" font-size=\"14.00\">samples = 6</text>\n",
              "<text text-anchor=\"start\" x=\"4530\" y=\"-253.3\" font-family=\"Helvetica,sans-Serif\" font-size=\"14.00\">value = [3.373, 0.0]</text>\n",
              "<text text-anchor=\"start\" x=\"4556\" y=\"-238.3\" font-family=\"Helvetica,sans-Serif\" font-size=\"14.00\">class = No</text>\n",
              "</g>\n",
              "<!-- 89&#45;&gt;93 -->\n",
              "<g id=\"edge93\" class=\"edge\">\n",
              "<title>89&#45;&gt;93</title>\n",
              "<path fill=\"none\" stroke=\"black\" d=\"M4585.39,-341.91C4585.75,-331.2 4586.15,-319.62 4586.52,-308.78\"/>\n",
              "<polygon fill=\"black\" stroke=\"black\" points=\"4590.02,-308.78 4586.87,-298.67 4583.03,-308.54 4590.02,-308.78\"/>\n",
              "</g>\n",
              "<!-- 91 -->\n",
              "<g id=\"node92\" class=\"node\">\n",
              "<title>91</title>\n",
              "<path fill=\"#399de5\" stroke=\"black\" d=\"M4409,-179.5C4409,-179.5 4301,-179.5 4301,-179.5 4295,-179.5 4289,-173.5 4289,-167.5 4289,-167.5 4289,-123.5 4289,-123.5 4289,-117.5 4295,-111.5 4301,-111.5 4301,-111.5 4409,-111.5 4409,-111.5 4415,-111.5 4421,-117.5 4421,-123.5 4421,-123.5 4421,-167.5 4421,-167.5 4421,-173.5 4415,-179.5 4409,-179.5\"/>\n",
              "<text text-anchor=\"start\" x=\"4315\" y=\"-164.3\" font-family=\"Helvetica,sans-Serif\" font-size=\"14.00\">entropy = 0.0</text>\n",
              "<text text-anchor=\"start\" x=\"4317.5\" y=\"-149.3\" font-family=\"Helvetica,sans-Serif\" font-size=\"14.00\">samples = 2</text>\n",
              "<text text-anchor=\"start\" x=\"4297\" y=\"-134.3\" font-family=\"Helvetica,sans-Serif\" font-size=\"14.00\">value = [0.0, 9.049]</text>\n",
              "<text text-anchor=\"start\" x=\"4320\" y=\"-119.3\" font-family=\"Helvetica,sans-Serif\" font-size=\"14.00\">class = Yes</text>\n",
              "</g>\n",
              "<!-- 90&#45;&gt;91 -->\n",
              "<g id=\"edge91\" class=\"edge\">\n",
              "<title>90&#45;&gt;91</title>\n",
              "<path fill=\"none\" stroke=\"black\" d=\"M4403.98,-222.91C4396.76,-211.65 4388.92,-199.42 4381.67,-188.11\"/>\n",
              "<polygon fill=\"black\" stroke=\"black\" points=\"4384.6,-186.2 4376.26,-179.67 4378.71,-189.97 4384.6,-186.2\"/>\n",
              "</g>\n",
              "<!-- 92 -->\n",
              "<g id=\"node93\" class=\"node\">\n",
              "<title>92</title>\n",
              "<path fill=\"#e58139\" stroke=\"black\" d=\"M4559,-179.5C4559,-179.5 4451,-179.5 4451,-179.5 4445,-179.5 4439,-173.5 4439,-167.5 4439,-167.5 4439,-123.5 4439,-123.5 4439,-117.5 4445,-111.5 4451,-111.5 4451,-111.5 4559,-111.5 4559,-111.5 4565,-111.5 4571,-117.5 4571,-123.5 4571,-123.5 4571,-167.5 4571,-167.5 4571,-173.5 4565,-179.5 4559,-179.5\"/>\n",
              "<text text-anchor=\"start\" x=\"4465\" y=\"-164.3\" font-family=\"Helvetica,sans-Serif\" font-size=\"14.00\">entropy = 0.0</text>\n",
              "<text text-anchor=\"start\" x=\"4467.5\" y=\"-149.3\" font-family=\"Helvetica,sans-Serif\" font-size=\"14.00\">samples = 4</text>\n",
              "<text text-anchor=\"start\" x=\"4447\" y=\"-134.3\" font-family=\"Helvetica,sans-Serif\" font-size=\"14.00\">value = [2.248, 0.0]</text>\n",
              "<text text-anchor=\"start\" x=\"4473\" y=\"-119.3\" font-family=\"Helvetica,sans-Serif\" font-size=\"14.00\">class = No</text>\n",
              "</g>\n",
              "<!-- 90&#45;&gt;92 -->\n",
              "<g id=\"edge92\" class=\"edge\">\n",
              "<title>90&#45;&gt;92</title>\n",
              "<path fill=\"none\" stroke=\"black\" d=\"M4456.02,-222.91C4463.24,-211.65 4471.08,-199.42 4478.33,-188.11\"/>\n",
              "<polygon fill=\"black\" stroke=\"black\" points=\"4481.29,-189.97 4483.74,-179.67 4475.4,-186.2 4481.29,-189.97\"/>\n",
              "</g>\n",
              "<!-- 95 -->\n",
              "<g id=\"node96\" class=\"node\">\n",
              "<title>95</title>\n",
              "<path fill=\"#45a3e7\" stroke=\"black\" d=\"M4812.5,-298.5C4812.5,-298.5 4689.5,-298.5 4689.5,-298.5 4683.5,-298.5 4677.5,-292.5 4677.5,-286.5 4677.5,-286.5 4677.5,-242.5 4677.5,-242.5 4677.5,-236.5 4683.5,-230.5 4689.5,-230.5 4689.5,-230.5 4812.5,-230.5 4812.5,-230.5 4818.5,-230.5 4824.5,-236.5 4824.5,-242.5 4824.5,-242.5 4824.5,-286.5 4824.5,-286.5 4824.5,-292.5 4818.5,-298.5 4812.5,-298.5\"/>\n",
              "<text text-anchor=\"start\" x=\"4703.5\" y=\"-283.3\" font-family=\"Helvetica,sans-Serif\" font-size=\"14.00\">entropy = 0.321</text>\n",
              "<text text-anchor=\"start\" x=\"4713.5\" y=\"-268.3\" font-family=\"Helvetica,sans-Serif\" font-size=\"14.00\">samples = 3</text>\n",
              "<text text-anchor=\"start\" x=\"4685.5\" y=\"-253.3\" font-family=\"Helvetica,sans-Serif\" font-size=\"14.00\">value = [0.562, 9.049]</text>\n",
              "<text text-anchor=\"start\" x=\"4716\" y=\"-238.3\" font-family=\"Helvetica,sans-Serif\" font-size=\"14.00\">class = Yes</text>\n",
              "</g>\n",
              "<!-- 94&#45;&gt;95 -->\n",
              "<g id=\"edge95\" class=\"edge\">\n",
              "<title>94&#45;&gt;95</title>\n",
              "<path fill=\"none\" stroke=\"black\" d=\"M4752.31,-341.91C4752.12,-331.2 4751.93,-319.62 4751.74,-308.78\"/>\n",
              "<polygon fill=\"black\" stroke=\"black\" points=\"4755.24,-308.61 4751.57,-298.67 4748.24,-308.73 4755.24,-308.61\"/>\n",
              "</g>\n",
              "<!-- 96 -->\n",
              "<g id=\"node97\" class=\"node\">\n",
              "<title>96</title>\n",
              "<path fill=\"#399de5\" stroke=\"black\" d=\"M4971,-298.5C4971,-298.5 4855,-298.5 4855,-298.5 4849,-298.5 4843,-292.5 4843,-286.5 4843,-286.5 4843,-242.5 4843,-242.5 4843,-236.5 4849,-230.5 4855,-230.5 4855,-230.5 4971,-230.5 4971,-230.5 4977,-230.5 4983,-236.5 4983,-242.5 4983,-242.5 4983,-286.5 4983,-286.5 4983,-292.5 4977,-298.5 4971,-298.5\"/>\n",
              "<text text-anchor=\"start\" x=\"4870.5\" y=\"-283.3\" font-family=\"Helvetica,sans-Serif\" font-size=\"14.00\">entropy = &#45;0.0</text>\n",
              "<text text-anchor=\"start\" x=\"4875.5\" y=\"-268.3\" font-family=\"Helvetica,sans-Serif\" font-size=\"14.00\">samples = 5</text>\n",
              "<text text-anchor=\"start\" x=\"4851\" y=\"-253.3\" font-family=\"Helvetica,sans-Serif\" font-size=\"14.00\">value = [0.0, 22.623]</text>\n",
              "<text text-anchor=\"start\" x=\"4878\" y=\"-238.3\" font-family=\"Helvetica,sans-Serif\" font-size=\"14.00\">class = Yes</text>\n",
              "</g>\n",
              "<!-- 94&#45;&gt;96 -->\n",
              "<g id=\"edge96\" class=\"edge\">\n",
              "<title>94&#45;&gt;96</title>\n",
              "<path fill=\"none\" stroke=\"black\" d=\"M4808.51,-341.91C4824.96,-329.88 4842.94,-316.73 4859.27,-304.79\"/>\n",
              "<polygon fill=\"black\" stroke=\"black\" points=\"4861.64,-307.39 4867.64,-298.67 4857.51,-301.74 4861.64,-307.39\"/>\n",
              "</g>\n",
              "</g>\n",
              "</svg>\n"
            ],
            "text/plain": [
              "<graphviz.sources.Source at 0x286927e9de0>"
            ]
          },
          "execution_count": 56,
          "metadata": {},
          "output_type": "execute_result"
        }
      ],
      "source": [
        "#In the cmd line type: conda install python-graphviz\n",
        "from sklearn.tree import export_graphviz\n",
        "import graphviz\n",
        "\n",
        "#In the cmd line type: conda install -c conda-forge pydotplus\n",
        "import pydotplus # conda install -c conda-forge pydotplus\n",
        "\n",
        "dot_data = export_graphviz(best_clf, out_file = None,\n",
        "                           feature_names = X.columns,\n",
        "                           class_names = ['No', 'Yes' ],\n",
        "                           rounded = True, filled=True, special_characters=True)\n",
        "graph1 = graphviz.Source(dot_data)\n",
        "\n",
        "# save image to show below in markdown\n",
        "pydot_graph = pydotplus.graph_from_dot_data(dot_data)\n",
        "pydot_graph.write_png('tree_clf.png')\n",
        "#show the full graph\n",
        "graph1"
      ]
    },
    {
      "cell_type": "code",
      "execution_count": null,
      "id": "ee064a61-aa83-4922-b5df-b88fe4d93762",
      "metadata": {
        "id": "ee064a61-aa83-4922-b5df-b88fe4d93762",
        "outputId": "971d7c9c-21d6-492a-d64f-029a0ee69e59"
      },
      "outputs": [
        {
          "name": "stdout",
          "output_type": "stream",
          "text": [
            "Decision Tree Feature Importance\n"
          ]
        },
        {
          "data": {
            "image/png": "[encoded data removed]",
            "text/plain": [
              "<Figure size 640x480 with 1 Axes>"
            ]
          },
          "metadata": {},
          "output_type": "display_data"
        }
      ],
      "source": [
        "%matplotlib inline\n",
        "feature_score_DT = best_clf.feature_importances_\n",
        "df_feature_DT = pd.DataFrame(data=list(X_train), columns=[\"feature\"])\n",
        "df_feature_DT[\"score\"]= feature_score_DT\n",
        "df_feature_DT = df_feature_DT.sort_values(by=['score'], ascending=False)\n",
        "sns.barplot(y=\"feature\", x=\"score\", data=df_feature_DT.nlargest(6, 'score')) #Show only the top 6\n",
        "print('Decision Tree Feature Importance')\n",
        "plt.show()"
      ]
    },
    {
      "cell_type": "markdown",
      "id": "b0c1404f-e78a-4bfa-8912-f2ad2cf04f57",
      "metadata": {
        "id": "b0c1404f-e78a-4bfa-8912-f2ad2cf04f57"
      },
      "source": [
        "### Correlation"
      ]
    },
    {
      "cell_type": "code",
      "execution_count": null,
      "id": "02b80a6f-7e27-4aef-ae80-1dd49ebb5696",
      "metadata": {
        "id": "02b80a6f-7e27-4aef-ae80-1dd49ebb5696"
      },
      "outputs": [],
      "source": [
        "corr_list = list(df_feature_DT.nlargest(6, 'score').feature)\n",
        "corr_list.append('Class')"
      ]
    },
    {
      "cell_type": "code",
      "execution_count": null,
      "id": "f7926b35-0563-4844-bd41-bfd7068ecef2",
      "metadata": {
        "id": "f7926b35-0563-4844-bd41-bfd7068ecef2"
      },
      "outputs": [],
      "source": [
        "correlate = processed_train[corr_list].corr()\n",
        "correlate.to_excel('best_features.xlsx')"
      ]
    },
    {
      "cell_type": "code",
      "execution_count": null,
      "id": "b29cdef6-cf12-4acf-9482-61f48e4e3a77",
      "metadata": {
        "id": "b29cdef6-cf12-4acf-9482-61f48e4e3a77",
        "outputId": "38d0d29f-b7ef-4865-c1ea-432ff62b6ef5"
      },
      "outputs": [
        {
          "data": {
            "image/png": "[encoded data removed]",
            "text/plain": [
              "<Figure size 1600x600 with 2 Axes>"
            ]
          },
          "metadata": {},
          "output_type": "display_data"
        }
      ],
      "source": [
        "# Display correlation map with a more useful layout\n",
        "# Increase the size of the heatmap.\n",
        "plt.figure(figsize=(16, 6))\n",
        "# Store heatmap object in a variable to easily access it when you want to include more features (such as title).\n",
        "# Set the range of values to be displayed on the colormap from -1 to 1, and set the annotation to True to display the correlation values on the heatmap.\n",
        "heatmap = sns.heatmap(correlate, vmin=-1, vmax=1, annot=True,cmap='BrBG')\n",
        "# Give a title to the heatmap. Pad defines the distance of the title from the top of the heatmap.\n",
        "heatmap.set_title('processed_train Dataset Correlation Heatmap', fontdict={'fontsize':12}, pad=12);"
      ]
    },
    {
      "cell_type": "markdown",
      "id": "9254261c-af7a-4091-90dd-06921a50509b",
      "metadata": {
        "tags": [],
        "id": "9254261c-af7a-4091-90dd-06921a50509b"
      },
      "source": [
        "### Correlation explanations"
      ]
    },
    {
      "cell_type": "markdown",
      "id": "48a828c4-0740-4f7f-82af-4de7b05ef6a9",
      "metadata": {
        "id": "48a828c4-0740-4f7f-82af-4de7b05ef6a9"
      },
      "source": [
        "    0 - The price of the house is less than 250000\n",
        "    1 - The price of the house is higher than 250000\n",
        "\n",
        "* The feature with the highest correlation with our target variable is the rating and quality of the material (TotalQuall), which means the     most it influences the target variable in direct proportion.\n",
        "\n",
        "* OverallQual feature has high correlation with the target variable as well, which means that overall materials finish of the house leads to higher price tag\n",
        "\n",
        "* As we can see, the correlation between GarageVolume and the target variable is positive. We can infer that a house with larger garage volume, has a higher price.\n",
        "\n",
        "* House with more first floor sqrt. Is more likely to be sold at 250,000$ price tag or more.\n",
        "\n",
        "* It seems that the ratio between garage volume and the living area ground doesn’t have an affect on the house price.\n",
        "\n",
        "* The GarageFinish feature has a negative correlation with our target variable. It makes sense, since houses with un-finished Garage will be sold for a fewer price."
      ]
    },
    {
      "cell_type": "markdown",
      "id": "4e9cb1b1-9e8a-4bfb-b3c4-00f1f3472f94",
      "metadata": {
        "tags": [],
        "id": "4e9cb1b1-9e8a-4bfb-b3c4-00f1f3472f94"
      },
      "source": [
        "# Q16 - Threshold"
      ]
    },
    {
      "cell_type": "code",
      "execution_count": null,
      "id": "02bdc1f4-58c5-4c0c-a418-754ccb10bea5",
      "metadata": {
        "id": "02bdc1f4-58c5-4c0c-a418-754ccb10bea5",
        "outputId": "ae4f16be-28f5-4471-dde8-506e69408de2"
      },
      "outputs": [
        {
          "data": {
            "text/plain": [
              "array([[1.        , 0.        ],\n",
              "       [1.        , 0.        ],\n",
              "       [0.11050725, 0.88949275],\n",
              "       [1.        , 0.        ],\n",
              "       [1.        , 0.        ],\n",
              "       [1.        , 0.        ],\n",
              "       [1.        , 0.        ],\n",
              "       [1.        , 0.        ],\n",
              "       [1.        , 0.        ],\n",
              "       [1.        , 0.        ],\n",
              "       [1.        , 0.        ],\n",
              "       [1.        , 0.        ],\n",
              "       [1.        , 0.        ],\n",
              "       [1.        , 0.        ],\n",
              "       [1.        , 0.        ],\n",
              "       [1.        , 0.        ],\n",
              "       [0.        , 1.        ],\n",
              "       [1.        , 0.        ],\n",
              "       [1.        , 0.        ],\n",
              "       [1.        , 0.        ],\n",
              "       [1.        , 0.        ],\n",
              "       [1.        , 0.        ],\n",
              "       [1.        , 0.        ],\n",
              "       [0.04734187, 0.95265813],\n",
              "       [0.05423026, 0.94576974],\n",
              "       [1.        , 0.        ],\n",
              "       [1.        , 0.        ],\n",
              "       [1.        , 0.        ],\n",
              "       [1.        , 0.        ],\n",
              "       [0.05423026, 0.94576974],\n",
              "       [1.        , 0.        ],\n",
              "       [0.46514161, 0.53485839],\n",
              "       [1.        , 0.        ],\n",
              "       [1.        , 0.        ],\n",
              "       [1.        , 0.        ],\n",
              "       [1.        , 0.        ],\n",
              "       [1.        , 0.        ],\n",
              "       [1.        , 0.        ],\n",
              "       [1.        , 0.        ],\n",
              "       [1.        , 0.        ],\n",
              "       [1.        , 0.        ],\n",
              "       [1.        , 0.        ],\n",
              "       [1.        , 0.        ],\n",
              "       [1.        , 0.        ],\n",
              "       [1.        , 0.        ],\n",
              "       [1.        , 0.        ],\n",
              "       [1.        , 0.        ],\n",
              "       [0.        , 1.        ],\n",
              "       [1.        , 0.        ],\n",
              "       [1.        , 0.        ],\n",
              "       [1.        , 0.        ],\n",
              "       [1.        , 0.        ],\n",
              "       [1.        , 0.        ],\n",
              "       [1.        , 0.        ],\n",
              "       [1.        , 0.        ],\n",
              "       [1.        , 0.        ],\n",
              "       [1.        , 0.        ],\n",
              "       [1.        , 0.        ],\n",
              "       [1.        , 0.        ],\n",
              "       [1.        , 0.        ],\n",
              "       [1.        , 0.        ],\n",
              "       [1.        , 0.        ],\n",
              "       [1.        , 0.        ],\n",
              "       [0.05423026, 0.94576974],\n",
              "       [1.        , 0.        ],\n",
              "       [0.71303331, 0.28696669],\n",
              "       [1.        , 0.        ],\n",
              "       [1.        , 0.        ],\n",
              "       [1.        , 0.        ],\n",
              "       [1.        , 0.        ],\n",
              "       [1.        , 0.        ],\n",
              "       [0.05423026, 0.94576974],\n",
              "       [0.05848514, 0.94151486],\n",
              "       [1.        , 0.        ],\n",
              "       [0.04734187, 0.95265813],\n",
              "       [1.        , 0.        ],\n",
              "       [1.        , 0.        ],\n",
              "       [1.        , 0.        ],\n",
              "       [0.71303331, 0.28696669],\n",
              "       [1.        , 0.        ],\n",
              "       [1.        , 0.        ],\n",
              "       [1.        , 0.        ],\n",
              "       [0.        , 1.        ],\n",
              "       [1.        , 0.        ],\n",
              "       [1.        , 0.        ],\n",
              "       [1.        , 0.        ],\n",
              "       [1.        , 0.        ],\n",
              "       [1.        , 0.        ],\n",
              "       [1.        , 0.        ],\n",
              "       [0.04734187, 0.95265813],\n",
              "       [1.        , 0.        ],\n",
              "       [1.        , 0.        ],\n",
              "       [1.        , 0.        ],\n",
              "       [1.        , 0.        ],\n",
              "       [1.        , 0.        ],\n",
              "       [0.04734187, 0.95265813],\n",
              "       [1.        , 0.        ],\n",
              "       [1.        , 0.        ],\n",
              "       [1.        , 0.        ],\n",
              "       [1.        , 0.        ],\n",
              "       [1.        , 0.        ],\n",
              "       [1.        , 0.        ],\n",
              "       [1.        , 0.        ],\n",
              "       [0.        , 1.        ],\n",
              "       [0.71303331, 0.28696669],\n",
              "       [1.        , 0.        ],\n",
              "       [1.        , 0.        ],\n",
              "       [1.        , 0.        ],\n",
              "       [1.        , 0.        ],\n",
              "       [1.        , 0.        ],\n",
              "       [1.        , 0.        ],\n",
              "       [1.        , 0.        ],\n",
              "       [1.        , 0.        ],\n",
              "       [1.        , 0.        ],\n",
              "       [0.71303331, 0.28696669],\n",
              "       [1.        , 0.        ],\n",
              "       [1.        , 0.        ],\n",
              "       [1.        , 0.        ],\n",
              "       [1.        , 0.        ],\n",
              "       [1.        , 0.        ],\n",
              "       [1.        , 0.        ],\n",
              "       [1.        , 0.        ],\n",
              "       [1.        , 0.        ],\n",
              "       [1.        , 0.        ],\n",
              "       [1.        , 0.        ],\n",
              "       [0.11050725, 0.88949275],\n",
              "       [1.        , 0.        ],\n",
              "       [0.15708155, 0.84291845],\n",
              "       [1.        , 0.        ],\n",
              "       [1.        , 0.        ],\n",
              "       [1.        , 0.        ],\n",
              "       [0.46514161, 0.53485839],\n",
              "       [1.        , 0.        ],\n",
              "       [0.04734187, 0.95265813],\n",
              "       [1.        , 0.        ],\n",
              "       [1.        , 0.        ],\n",
              "       [0.38316583, 0.61683417],\n",
              "       [1.        , 0.        ],\n",
              "       [1.        , 0.        ],\n",
              "       [1.        , 0.        ],\n",
              "       [1.        , 0.        ],\n",
              "       [1.        , 0.        ],\n",
              "       [0.11050725, 0.88949275],\n",
              "       [1.        , 0.        ],\n",
              "       [1.        , 0.        ],\n",
              "       [1.        , 0.        ],\n",
              "       [1.        , 0.        ],\n",
              "       [1.        , 0.        ],\n",
              "       [0.27151335, 0.72848665],\n",
              "       [1.        , 0.        ],\n",
              "       [1.        , 0.        ],\n",
              "       [0.27151335, 0.72848665],\n",
              "       [0.05423026, 0.94576974],\n",
              "       [0.71303331, 0.28696669],\n",
              "       [1.        , 0.        ],\n",
              "       [1.        , 0.        ],\n",
              "       [1.        , 0.        ],\n",
              "       [0.05423026, 0.94576974],\n",
              "       [1.        , 0.        ],\n",
              "       [1.        , 0.        ],\n",
              "       [0.        , 1.        ],\n",
              "       [1.        , 0.        ],\n",
              "       [1.        , 0.        ],\n",
              "       [1.        , 0.        ],\n",
              "       [1.        , 0.        ],\n",
              "       [1.        , 0.        ],\n",
              "       [1.        , 0.        ],\n",
              "       [1.        , 0.        ],\n",
              "       [1.        , 0.        ],\n",
              "       [1.        , 0.        ],\n",
              "       [0.05423026, 0.94576974],\n",
              "       [0.71303331, 0.28696669],\n",
              "       [1.        , 0.        ],\n",
              "       [1.        , 0.        ],\n",
              "       [1.        , 0.        ],\n",
              "       [1.        , 0.        ],\n",
              "       [0.04734187, 0.95265813],\n",
              "       [1.        , 0.        ],\n",
              "       [1.        , 0.        ],\n",
              "       [0.05423026, 0.94576974],\n",
              "       [1.        , 0.        ],\n",
              "       [1.        , 0.        ],\n",
              "       [1.        , 0.        ],\n",
              "       [1.        , 0.        ],\n",
              "       [1.        , 0.        ],\n",
              "       [1.        , 0.        ],\n",
              "       [1.        , 0.        ],\n",
              "       [1.        , 0.        ],\n",
              "       [1.        , 0.        ],\n",
              "       [1.        , 0.        ],\n",
              "       [1.        , 0.        ],\n",
              "       [1.        , 0.        ],\n",
              "       [0.11050725, 0.88949275],\n",
              "       [1.        , 0.        ],\n",
              "       [1.        , 0.        ],\n",
              "       [1.        , 0.        ],\n",
              "       [0.11050725, 0.88949275],\n",
              "       [1.        , 0.        ],\n",
              "       [1.        , 0.        ],\n",
              "       [1.        , 0.        ],\n",
              "       [1.        , 0.        ],\n",
              "       [0.        , 1.        ],\n",
              "       [0.        , 1.        ],\n",
              "       [1.        , 0.        ],\n",
              "       [1.        , 0.        ],\n",
              "       [1.        , 0.        ],\n",
              "       [1.        , 0.        ],\n",
              "       [0.11050725, 0.88949275],\n",
              "       [1.        , 0.        ],\n",
              "       [1.        , 0.        ],\n",
              "       [1.        , 0.        ],\n",
              "       [1.        , 0.        ],\n",
              "       [1.        , 0.        ],\n",
              "       [0.11050725, 0.88949275],\n",
              "       [1.        , 0.        ],\n",
              "       [1.        , 0.        ],\n",
              "       [1.        , 0.        ],\n",
              "       [1.        , 0.        ],\n",
              "       [1.        , 0.        ],\n",
              "       [1.        , 0.        ],\n",
              "       [1.        , 0.        ],\n",
              "       [1.        , 0.        ],\n",
              "       [0.        , 1.        ],\n",
              "       [0.        , 1.        ],\n",
              "       [1.        , 0.        ],\n",
              "       [1.        , 0.        ],\n",
              "       [1.        , 0.        ],\n",
              "       [1.        , 0.        ],\n",
              "       [1.        , 0.        ],\n",
              "       [0.71303331, 0.28696669],\n",
              "       [1.        , 0.        ],\n",
              "       [1.        , 0.        ],\n",
              "       [1.        , 0.        ],\n",
              "       [1.        , 0.        ],\n",
              "       [1.        , 0.        ],\n",
              "       [1.        , 0.        ],\n",
              "       [1.        , 0.        ],\n",
              "       [1.        , 0.        ],\n",
              "       [1.        , 0.        ],\n",
              "       [1.        , 0.        ],\n",
              "       [1.        , 0.        ],\n",
              "       [1.        , 0.        ],\n",
              "       [1.        , 0.        ],\n",
              "       [1.        , 0.        ],\n",
              "       [1.        , 0.        ],\n",
              "       [0.        , 1.        ],\n",
              "       [1.        , 0.        ],\n",
              "       [1.        , 0.        ],\n",
              "       [1.        , 0.        ],\n",
              "       [1.        , 0.        ],\n",
              "       [1.        , 0.        ],\n",
              "       [1.        , 0.        ],\n",
              "       [0.        , 1.        ],\n",
              "       [0.        , 1.        ],\n",
              "       [1.        , 0.        ],\n",
              "       [1.        , 0.        ],\n",
              "       [0.11050725, 0.88949275],\n",
              "       [1.        , 0.        ],\n",
              "       [1.        , 0.        ],\n",
              "       [1.        , 0.        ],\n",
              "       [1.        , 0.        ],\n",
              "       [1.        , 0.        ],\n",
              "       [0.71303331, 0.28696669],\n",
              "       [1.        , 0.        ],\n",
              "       [1.        , 0.        ],\n",
              "       [1.        , 0.        ],\n",
              "       [1.        , 0.        ],\n",
              "       [1.        , 0.        ],\n",
              "       [1.        , 0.        ],\n",
              "       [1.        , 0.        ],\n",
              "       [1.        , 0.        ],\n",
              "       [1.        , 0.        ],\n",
              "       [0.46514161, 0.53485839],\n",
              "       [1.        , 0.        ],\n",
              "       [1.        , 0.        ],\n",
              "       [0.        , 1.        ],\n",
              "       [0.05423026, 0.94576974]])"
            ]
          },
          "execution_count": 61,
          "metadata": {},
          "output_type": "execute_result"
        }
      ],
      "source": [
        "#create array of probabilities\n",
        "y_test_predict_proba = best_clf.predict_proba(X_test)\n",
        "y_test_predict_proba"
      ]
    },
    {
      "cell_type": "code",
      "execution_count": null,
      "id": "5e912464-13b3-496b-96af-46599614128a",
      "metadata": {
        "id": "5e912464-13b3-496b-96af-46599614128a",
        "outputId": "2cb2c73f-fb5a-428f-d106-3590d77ae5b2"
      },
      "outputs": [
        {
          "name": "stdout",
          "output_type": "stream",
          "text": [
            " Precision =  [0.09747292 0.40384615 0.47727273 0.51219512 0.525      0.55263158\n",
            " 0.54054054 0.52941176 0.5862069  0.57142857 0.73684211 0.76923077\n",
            " 1.        ] \n",
            " Recalls =  [1.         0.77777778 0.77777778 0.77777778 0.77777778 0.77777778\n",
            " 0.74074074 0.66666667 0.62962963 0.59259259 0.51851852 0.37037037\n",
            " 0.        ] \n",
            " Thresholds =  [0.         0.28696669 0.53485839 0.61683417 0.72848665 0.84291845\n",
            " 0.88949275 0.88949275 0.94151486 0.94576974 0.95265813 1.        ]\n"
          ]
        }
      ],
      "source": [
        "from sklearn.metrics import precision_recall_curve\n",
        "\n",
        "precisions, recalls, thresholds = precision_recall_curve(y_true = y_test_clf, probas_pred = y_test_predict_proba[:,1])\n",
        "print(\" Precision = \", precisions, \"\\n\", \"Recalls = \", recalls, \"\\n\", \"Thresholds = \", thresholds)"
      ]
    },
    {
      "cell_type": "code",
      "execution_count": null,
      "id": "4d73f3c9-5ce6-4be7-bbb9-83994c5a49fc",
      "metadata": {
        "tags": [],
        "id": "4d73f3c9-5ce6-4be7-bbb9-83994c5a49fc",
        "outputId": "8d795370-790a-4d03-f559-9b5c5e671f6c"
      },
      "outputs": [
        {
          "data": {
            "image/png": "[encoded data removed]",
            "text/plain": [
              "<Figure size 640x480 with 1 Axes>"
            ]
          },
          "metadata": {},
          "output_type": "display_data"
        }
      ],
      "source": [
        "def plot_precision_recall_vs_threshold (precisions, recalls, thresholds, color = \"k\", label = None):\n",
        "    plt.plot (thresholds, precisions[:-1], color+\"--\", label=\"Precision -\"+label)\n",
        "    plt.plot (thresholds, recalls[:-1], color+\"-\", label=\"Recall -\"+label)\n",
        "    plt.xlabel(\"Threshold\")\n",
        "    plt.legend(loc=\"upper right\")\n",
        "    plt.ylim([0,1])\n",
        "\n",
        "plot_precision_recall_vs_threshold( precisions, recalls, thresholds, color = \"b\", label=\"Best decision tree classifier\")\n",
        "plt.legend(loc = \"best\")\n",
        "plt.show()"
      ]
    },
    {
      "cell_type": "markdown",
      "id": "f994398c-bffc-4811-bb1e-f560208c3baa",
      "metadata": {
        "id": "f994398c-bffc-4811-bb1e-f560208c3baa"
      },
      "source": [
        "As we can see, in order to get better Recall, along with good Precision, we should make our threshold around 0.95 (Instead of 0.5, the default)"
      ]
    },
    {
      "cell_type": "markdown",
      "id": "4c6d91fe-a6c5-40bc-bced-b3da5d1d9b00",
      "metadata": {
        "tags": [],
        "id": "4c6d91fe-a6c5-40bc-bced-b3da5d1d9b00"
      },
      "source": [
        "# Q17"
      ]
    },
    {
      "cell_type": "code",
      "execution_count": null,
      "id": "b4bca2fd-0928-499b-9305-729156602716",
      "metadata": {
        "id": "b4bca2fd-0928-499b-9305-729156602716",
        "outputId": "9d7d421c-e070-441f-ea4a-4472ab54039d"
      },
      "outputs": [
        {
          "data": {
            "text/html": [
              "<div>\n",
              "<style scoped>\n",
              "    .dataframe tbody tr th:only-of-type {\n",
              "        vertical-align: middle;\n",
              "    }\n",
              "\n",
              "    .dataframe tbody tr th {\n",
              "        vertical-align: top;\n",
              "    }\n",
              "\n",
              "    .dataframe thead th {\n",
              "        text-align: right;\n",
              "    }\n",
              "</style>\n",
              "<table border=\"1\" class=\"dataframe\">\n",
              "  <thead>\n",
              "    <tr style=\"text-align: right;\">\n",
              "      <th></th>\n",
              "      <th>Name</th>\n",
              "      <th>Followers</th>\n",
              "    </tr>\n",
              "  </thead>\n",
              "  <tbody>\n",
              "    <tr>\n",
              "      <th>0</th>\n",
              "      <td>Mili</td>\n",
              "      <td>200004</td>\n",
              "    </tr>\n",
              "    <tr>\n",
              "      <th>1</th>\n",
              "      <td>Eden</td>\n",
              "      <td>195023</td>\n",
              "    </tr>\n",
              "    <tr>\n",
              "      <th>2</th>\n",
              "      <td>Noam</td>\n",
              "      <td>201100</td>\n",
              "    </tr>\n",
              "    <tr>\n",
              "      <th>3</th>\n",
              "      <td>Bar</td>\n",
              "      <td>87023</td>\n",
              "    </tr>\n",
              "    <tr>\n",
              "      <th>4</th>\n",
              "      <td>Agam</td>\n",
              "      <td>184245</td>\n",
              "    </tr>\n",
              "    <tr>\n",
              "      <th>5</th>\n",
              "      <td>Bilha</td>\n",
              "      <td>120</td>\n",
              "    </tr>\n",
              "  </tbody>\n",
              "</table>\n",
              "</div>"
            ],
            "text/plain": [
              "    Name  Followers\n",
              "0   Mili     200004\n",
              "1   Eden     195023\n",
              "2   Noam     201100\n",
              "3    Bar      87023\n",
              "4   Agam     184245\n",
              "5  Bilha        120"
            ]
          },
          "metadata": {},
          "output_type": "display_data"
        }
      ],
      "source": [
        "# Import an excel file with the data\n",
        "data = pd.read_excel('QuestionZohar.xlsx')\n",
        "\n",
        "# Display the data\n",
        "display(data)"
      ]
    },
    {
      "cell_type": "code",
      "execution_count": null,
      "id": "c34417fd-f727-4483-b105-e5f11a7a954a",
      "metadata": {
        "id": "c34417fd-f727-4483-b105-e5f11a7a954a"
      },
      "outputs": [],
      "source": [
        "#Get the number of followers Mili has\n",
        "mili_followers = data.loc[data['Name']== 'Mili', 'Followers'][0]"
      ]
    },
    {
      "cell_type": "code",
      "execution_count": null,
      "id": "61afe36a-901c-4692-9159-a142ea327b66",
      "metadata": {
        "id": "61afe36a-901c-4692-9159-a142ea327b66"
      },
      "outputs": [],
      "source": [
        "#Get the numeber of followers all Mili's friends has\n",
        "friends_followers = data.loc[data['Name'] != 'Mili']['Followers']"
      ]
    },
    {
      "cell_type": "code",
      "execution_count": null,
      "id": "dbf24215-e874-45c4-84ec-affb50b97fb1",
      "metadata": {
        "id": "dbf24215-e874-45c4-84ec-affb50b97fb1",
        "outputId": "33c56260-83e1-46af-9bfc-0f52ac5a092e"
      },
      "outputs": [
        {
          "name": "stdout",
          "output_type": "stream",
          "text": [
            "133502.2\n"
          ]
        }
      ],
      "source": [
        "#Step 1 - Compute the mean of the sample\n",
        "mean_friends = np.mean(friends_followers)\n",
        "print(mean_friends)"
      ]
    },
    {
      "cell_type": "markdown",
      "id": "95d7851f-48c4-4e9c-8a77-b165c30f668e",
      "metadata": {
        "id": "95d7851f-48c4-4e9c-8a77-b165c30f668e"
      },
      "source": [
        "* H0: The average followers is: 133502.2\n",
        "* H1: Millie's number of followers is larger than average"
      ]
    },
    {
      "cell_type": "code",
      "execution_count": null,
      "id": "7a2e9e9e-f6b8-4a8e-96d4-a91da2f1dd5f",
      "metadata": {
        "id": "7a2e9e9e-f6b8-4a8e-96d4-a91da2f1dd5f"
      },
      "outputs": [],
      "source": [
        "#Step 2 - Bootstrap and calculate means of each iteration\n",
        "mean_list = []\n",
        "iterations = 10000\n",
        "for i in range(10000):\n",
        "    bs = np.random.choice(friends_followers, size=len(friends_followers), replace = True)\n",
        "    bs_mean = np.mean(bs)\n",
        "    mean_list.append(bs_mean)"
      ]
    },
    {
      "cell_type": "code",
      "execution_count": null,
      "id": "c808269f-ad53-4ef8-9af8-1e5bf62e5bc8",
      "metadata": {
        "id": "c808269f-ad53-4ef8-9af8-1e5bf62e5bc8"
      },
      "outputs": [],
      "source": [
        "count_above_mili = len([i for i in mean_list if i >= mili_followers])"
      ]
    },
    {
      "cell_type": "code",
      "execution_count": null,
      "id": "3a3ec633-9809-478e-a575-44e7c7fbfa1b",
      "metadata": {
        "id": "3a3ec633-9809-478e-a575-44e7c7fbfa1b"
      },
      "outputs": [],
      "source": [
        "p_value = (count_above_mili / iterations) * 100 #Convert to %\n",
        "p = 5 #p value is 5%"
      ]
    },
    {
      "cell_type": "code",
      "execution_count": null,
      "id": "64f96ba2-fb41-4cca-ae5a-b9fb3398f50f",
      "metadata": {
        "id": "64f96ba2-fb41-4cca-ae5a-b9fb3398f50f",
        "outputId": "e313e372-63b1-45b4-9de2-72c4e793f8cc"
      },
      "outputs": [
        {
          "name": "stdout",
          "output_type": "stream",
          "text": [
            "Mili has 200,004 followers\n",
            "P Value is: 0.06%\n",
            "P is: 5%\n",
            "\n",
            "Mili has more followers than her friends\n"
          ]
        }
      ],
      "source": [
        "print(f'Mili has {mili_followers:,} followers')\n",
        "print(f'P Value is: {p_value}%')\n",
        "print(f'P is: {p}%')\n",
        "print()\n",
        "if p_value <=  p:\n",
        "    print('Mili has more followers than her friends')\n",
        "else:\n",
        "    print(\"Mili doesn't hve more followers than her friedns\")"
      ]
    },
    {
      "cell_type": "markdown",
      "id": "4fca9a0f-3485-456f-a13b-c2a96af61dd2",
      "metadata": {
        "id": "4fca9a0f-3485-456f-a13b-c2a96af61dd2"
      },
      "source": [
        "As p < p_value we will reject H_0, and accept H1 - > Mili has more followers"
      ]
    }
  ],
  "metadata": {
    "kernelspec": {
      "display_name": "Python 3 (ipykernel)",
      "language": "python",
      "name": "python3"
    },
    "language_info": {
      "codemirror_mode": {
        "name": "ipython",
        "version": 3
      },
      "file_extension": ".py",
      "mimetype": "text/x-python",
      "name": "python",
      "nbconvert_exporter": "python",
      "pygments_lexer": "ipython3",
      "version": "3.10.9"
    },
    "colab": {
      "provenance": []
    }
  },
  "nbformat": 4,
  "nbformat_minor": 5
}